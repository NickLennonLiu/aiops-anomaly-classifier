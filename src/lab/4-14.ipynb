{
 "cells": [
  {
   "cell_type": "code",
   "execution_count": 1,
   "metadata": {
    "collapsed": true
   },
   "outputs": [],
   "source": [
    "import pandas\n",
    "import sklearn.metrics\n",
    "import torch\n",
    "import torch.nn as nn\n",
    "import numpy as np\n",
    "import scipy.stats as stats\n",
    "import matplotlib.pyplot as plt\n",
    "import importlib\n",
    "import src.params as params\n",
    "import src.model as model\n",
    "import src.main as main\n",
    "import src.dataloader as dataloader\n",
    "importlib.reload(dataloader)\n",
    "importlib.reload(model)\n",
    "import torch.nn.functional as F\n",
    "import src.dataloader as dataloader\n",
    "import pandas as pd\n",
    "from pandas import DataFrame"
   ]
  },
  {
   "cell_type": "code",
   "execution_count": 2,
   "outputs": [
    {
     "name": "stdout",
     "output_type": "stream",
     "text": [
      "Loading preprocessed data from /home/junetheriver/code/aiops/workdir/system_a/data_pre.pkl\n",
      "Loaded ground truth from gt_pre.pkl\n",
      "[140  79  24  39  27  21  23  36]\n",
      "metric_num: 2152, kpi_num: 121, torch.Size([38880, 2153])\n"
     ]
    }
   ],
   "source": [
    "args = params.get_args(\"../config/system_a.yaml\")\n",
    "data,kpi_name = main.get_cmdb(args)\n",
    "train,valid,test = main.get_dataset(args)\n",
    "basic = model.Basic(args, data, kpi_name)"
   ],
   "metadata": {
    "collapsed": false,
    "pycharm": {
     "name": "#%%\n"
    }
   }
  },
  {
   "cell_type": "code",
   "execution_count": 4,
   "outputs": [],
   "source": [
    "data_dt = dataloader.load_dt_raw(args)"
   ],
   "metadata": {
    "collapsed": false,
    "pycharm": {
     "name": "#%%\n"
    }
   }
  },
  {
   "cell_type": "code",
   "execution_count": 3,
   "outputs": [],
   "source": [
    "cmdb_set = set([ck[0] for ck in kpi_name])\n",
    "kpi_set = set([ck[1] for ck in kpi_name])"
   ],
   "metadata": {
    "collapsed": false,
    "pycharm": {
     "name": "#%%\n"
    }
   }
  },
  {
   "cell_type": "code",
   "execution_count": 4,
   "outputs": [],
   "source": [
    "dfs = []\n",
    "labels = []\n",
    "for idx, (x,y) in enumerate(train+valid+test):\n",
    "    cmdb_id, timestamp = x\n",
    "    labels.append(np.argmax(y))\n",
    "    cmdb_idx = basic.cmdb_idx[cmdb_id]\n",
    "    tensor = model.get_kpi_at_time(basic.data, cmdb_idx, timestamp, 10)\n",
    "    df = DataFrame(tensor, columns=list(basic.kpi_set))\n",
    "    df.reset_index(inplace=True)\n",
    "    df[\"id\"] = pd.Series([idx for i in range(len(df.index))])\n",
    "    dfs.append(df)\n",
    "ts = pd.concat(dfs)\n",
    "y_df = DataFrame(labels, columns=[\"y\"])"
   ],
   "metadata": {
    "collapsed": false,
    "pycharm": {
     "name": "#%%\n"
    }
   }
  },
  {
   "cell_type": "code",
   "execution_count": 11,
   "outputs": [
    {
     "data": {
      "text/plain": "   y\n0  4\n1  3\n2  0\n3  1\n4  5",
      "text/html": "<div>\n<style scoped>\n    .dataframe tbody tr th:only-of-type {\n        vertical-align: middle;\n    }\n\n    .dataframe tbody tr th {\n        vertical-align: top;\n    }\n\n    .dataframe thead th {\n        text-align: right;\n    }\n</style>\n<table border=\"1\" class=\"dataframe\">\n  <thead>\n    <tr style=\"text-align: right;\">\n      <th></th>\n      <th>y</th>\n    </tr>\n  </thead>\n  <tbody>\n    <tr>\n      <th>0</th>\n      <td>4</td>\n    </tr>\n    <tr>\n      <th>1</th>\n      <td>3</td>\n    </tr>\n    <tr>\n      <th>2</th>\n      <td>0</td>\n    </tr>\n    <tr>\n      <th>3</th>\n      <td>1</td>\n    </tr>\n    <tr>\n      <th>4</th>\n      <td>5</td>\n    </tr>\n  </tbody>\n</table>\n</div>"
     },
     "execution_count": 11,
     "metadata": {},
     "output_type": "execute_result"
    }
   ],
   "source": [
    "y_df.head()"
   ],
   "metadata": {
    "collapsed": false,
    "pycharm": {
     "name": "#%%\n"
    }
   }
  },
  {
   "cell_type": "code",
   "execution_count": 5,
   "outputs": [],
   "source": [
    "cols = list(ts.columns)\n",
    "cols = [cols[-1]] + cols[:-1]\n",
    "ts = ts[cols]"
   ],
   "metadata": {
    "collapsed": false,
    "pycharm": {
     "name": "#%%\n"
    }
   }
  },
  {
   "cell_type": "code",
   "execution_count": 34,
   "outputs": [],
   "source": [
    "ts.to_csv(\"../../workdir/system_a/ts.csv\")"
   ],
   "metadata": {
    "collapsed": false,
    "pycharm": {
     "name": "#%%\n"
    }
   }
  },
  {
   "cell_type": "code",
   "execution_count": 6,
   "outputs": [],
   "source": [
    "ts = remove_const = ts.loc[:, (ts != ts.iloc[0]).any()]"
   ],
   "metadata": {
    "collapsed": false,
    "pycharm": {
     "name": "#%%\n"
    }
   }
  },
  {
   "cell_type": "code",
   "execution_count": 15,
   "outputs": [],
   "source": [
    "remove_const.to_csv(\"../../workdir/system_a/ts.csv\")\n",
    "y_df.to_csv(\"../../workdir/system_a/y.csv\")"
   ],
   "metadata": {
    "collapsed": false,
    "pycharm": {
     "name": "#%%\n"
    }
   }
  },
  {
   "cell_type": "code",
   "execution_count": 1,
   "outputs": [
    {
     "ename": "NameError",
     "evalue": "name 'remove_const' is not defined",
     "output_type": "error",
     "traceback": [
      "\u001B[0;31m---------------------------------------------------------------------------\u001B[0m",
      "\u001B[0;31mNameError\u001B[0m                                 Traceback (most recent call last)",
      "Input \u001B[0;32mIn [1]\u001B[0m, in \u001B[0;36m<cell line: 2>\u001B[0;34m()\u001B[0m\n\u001B[1;32m      1\u001B[0m \u001B[38;5;28;01mfrom\u001B[39;00m \u001B[38;5;21;01mtsfresh\u001B[39;00m \u001B[38;5;28;01mimport\u001B[39;00m extract_features\n\u001B[0;32m----> 2\u001B[0m extracted_features \u001B[38;5;241m=\u001B[39m extract_features(\u001B[43mremove_const\u001B[49m, column_id\u001B[38;5;241m=\u001B[39m\u001B[38;5;124m\"\u001B[39m\u001B[38;5;124mid\u001B[39m\u001B[38;5;124m\"\u001B[39m, column_sort\u001B[38;5;241m=\u001B[39m\u001B[38;5;124m\"\u001B[39m\u001B[38;5;124mindex\u001B[39m\u001B[38;5;124m\"\u001B[39m)\n",
      "\u001B[0;31mNameError\u001B[0m: name 'remove_const' is not defined"
     ]
    }
   ],
   "source": [
    "from tsfresh import extract_features\n",
    "extracted_features = extract_features(remove_const, column_id=\"id\", column_sort=\"index\")"
   ],
   "metadata": {
    "collapsed": false,
    "pycharm": {
     "name": "#%%\n"
    }
   }
  },
  {
   "cell_type": "code",
   "execution_count": 104,
   "outputs": [
    {
     "data": {
      "text/plain": "   id  index  system.udp.in_rcvbuf_errors_pct  system.fs.inodes.free  \\\n0   0      0                              0.0            108054392.0   \n1   0      1                              0.0            108054392.0   \n2   0      2                              0.0            108054392.0   \n3   0      3                              0.0            108054392.0   \n4   0      4                              0.0            108054392.0   \n5   0      5                              0.0            108054392.0   \n6   0      6                              0.0            108054392.0   \n7   0      7                              0.0            108054392.0   \n8   0      8                              0.0            108054392.0   \n9   0      9                              0.0            108054392.0   \n0   1      0                              0.0              3183762.0   \n1   1      1                              0.0              3183762.0   \n2   1      2                              0.0              3183762.0   \n3   1      3                              0.0              3183760.0   \n4   1      4                              0.0              3183762.0   \n\n   weblogic.basic.heap.size  system.io.wrqm_s  system.io.await  \\\n0                       0.0               0.0             0.00   \n1                       0.0               0.0             0.00   \n2                       0.0               0.0             0.00   \n3                       0.0               0.0             0.00   \n4                       0.0               0.0             0.00   \n5                       0.0               0.0             0.00   \n6                       0.0               0.0             0.00   \n7                       0.0               0.0             0.00   \n8                       0.0               0.0             0.00   \n9                       0.0               0.0             0.44   \n0                       0.0               0.0             0.00   \n1                       0.0               0.0             0.00   \n2                       0.0               0.0             0.00   \n3                       0.0               0.0             0.00   \n4                       0.0               0.0             0.00   \n\n   system.io.avg_rq_sz  weblogic.webapp.session_max  system.io.rrqm_s  ...  \\\n0                 0.00                          0.0               0.0  ...   \n1                 0.00                          0.0               0.0  ...   \n2                 0.00                          0.0               0.0  ...   \n3                 0.00                          0.0               0.0  ...   \n4                 0.00                          0.0               0.0  ...   \n5                 0.00                          0.0               0.0  ...   \n6                 0.00                          0.0               0.0  ...   \n7                 0.00                          0.0               0.0  ...   \n8                 0.00                          0.0               0.0  ...   \n9                 5.18                          0.0               0.0  ...   \n0                 0.00                          0.0               0.0  ...   \n1                 0.00                          0.0               0.0  ...   \n2                 0.00                          0.0               0.0  ...   \n3                 0.00                          0.0               0.0  ...   \n4                 0.00                          0.0               0.0  ...   \n\n   redis.clients.blocked  redis.replication.master_repl_offset  system.io.r_s  \\\n0                    0.0                                   0.0            0.0   \n1                    0.0                                   0.0            0.0   \n2                    0.0                                   0.0            0.0   \n3                    0.0                                   0.0            0.0   \n4                    0.0                                   0.0            0.0   \n5                    0.0                                   0.0            0.0   \n6                    0.0                                   0.0            0.0   \n7                    0.0                                   0.0            0.0   \n8                    0.0                                   0.0            0.0   \n9                    0.0                                   0.0            0.0   \n0                    0.0                                   0.0            0.0   \n1                    0.0                                   0.0            0.0   \n2                    0.0                                   0.0            0.0   \n3                    0.0                                   0.0            0.0   \n4                    0.0                                   0.0            0.0   \n\n   haproxy.backend.session.rate  haproxy.frontend.bytes.out_rate  \\\n0                           0.0                              0.0   \n1                           0.0                              0.0   \n2                           0.0                              0.0   \n3                           0.0                              0.0   \n4                           0.0                              0.0   \n5                           0.0                              0.0   \n6                           0.0                              0.0   \n7                           0.0                              0.0   \n8                           0.0                              0.0   \n9                           0.0                              0.0   \n0                           1.0                           1633.0   \n1                           1.0                           1633.0   \n2                           1.0                           1547.0   \n3                           1.0                           1547.0   \n4                           1.0                           1547.0   \n\n   haproxy.backend.session.pct  system.io.w_await  \\\n0                          0.0               0.00   \n1                          0.0               0.00   \n2                          0.0               0.00   \n3                          0.0               0.00   \n4                          0.0               0.00   \n5                          0.0               0.00   \n6                          0.0               0.00   \n7                          0.0               0.00   \n8                          0.0               0.00   \n9                          0.0               0.44   \n0                          0.0               0.00   \n1                          0.0               0.00   \n2                          0.0               0.00   \n3                          0.0               0.00   \n4                          0.0               0.00   \n\n   haproxy.backend.response.2xx  system.load.5  haproxy.backend.session.time  \n0                           0.0           0.10                           0.0  \n1                           0.0           0.11                           0.0  \n2                           0.0           0.11                           0.0  \n3                           0.0           0.09                           0.0  \n4                           0.0           0.07                           0.0  \n5                           0.0           0.06                           0.0  \n6                           0.0           0.05                           0.0  \n7                           0.0           0.04                           0.0  \n8                           0.0           0.05                           0.0  \n9                           0.0           0.04                           0.0  \n0                           0.0           0.09                          10.0  \n1                           0.0           0.09                          10.0  \n2                           0.0           0.09                           9.0  \n3                           0.0           0.07                           9.0  \n4                           0.0           0.06                           9.0  \n\n[15 rows x 99 columns]",
      "text/html": "<div>\n<style scoped>\n    .dataframe tbody tr th:only-of-type {\n        vertical-align: middle;\n    }\n\n    .dataframe tbody tr th {\n        vertical-align: top;\n    }\n\n    .dataframe thead th {\n        text-align: right;\n    }\n</style>\n<table border=\"1\" class=\"dataframe\">\n  <thead>\n    <tr style=\"text-align: right;\">\n      <th></th>\n      <th>id</th>\n      <th>index</th>\n      <th>system.udp.in_rcvbuf_errors_pct</th>\n      <th>system.fs.inodes.free</th>\n      <th>weblogic.basic.heap.size</th>\n      <th>system.io.wrqm_s</th>\n      <th>system.io.await</th>\n      <th>system.io.avg_rq_sz</th>\n      <th>weblogic.webapp.session_max</th>\n      <th>system.io.rrqm_s</th>\n      <th>...</th>\n      <th>redis.clients.blocked</th>\n      <th>redis.replication.master_repl_offset</th>\n      <th>system.io.r_s</th>\n      <th>haproxy.backend.session.rate</th>\n      <th>haproxy.frontend.bytes.out_rate</th>\n      <th>haproxy.backend.session.pct</th>\n      <th>system.io.w_await</th>\n      <th>haproxy.backend.response.2xx</th>\n      <th>system.load.5</th>\n      <th>haproxy.backend.session.time</th>\n    </tr>\n  </thead>\n  <tbody>\n    <tr>\n      <th>0</th>\n      <td>0</td>\n      <td>0</td>\n      <td>0.0</td>\n      <td>108054392.0</td>\n      <td>0.0</td>\n      <td>0.0</td>\n      <td>0.00</td>\n      <td>0.00</td>\n      <td>0.0</td>\n      <td>0.0</td>\n      <td>...</td>\n      <td>0.0</td>\n      <td>0.0</td>\n      <td>0.0</td>\n      <td>0.0</td>\n      <td>0.0</td>\n      <td>0.0</td>\n      <td>0.00</td>\n      <td>0.0</td>\n      <td>0.10</td>\n      <td>0.0</td>\n    </tr>\n    <tr>\n      <th>1</th>\n      <td>0</td>\n      <td>1</td>\n      <td>0.0</td>\n      <td>108054392.0</td>\n      <td>0.0</td>\n      <td>0.0</td>\n      <td>0.00</td>\n      <td>0.00</td>\n      <td>0.0</td>\n      <td>0.0</td>\n      <td>...</td>\n      <td>0.0</td>\n      <td>0.0</td>\n      <td>0.0</td>\n      <td>0.0</td>\n      <td>0.0</td>\n      <td>0.0</td>\n      <td>0.00</td>\n      <td>0.0</td>\n      <td>0.11</td>\n      <td>0.0</td>\n    </tr>\n    <tr>\n      <th>2</th>\n      <td>0</td>\n      <td>2</td>\n      <td>0.0</td>\n      <td>108054392.0</td>\n      <td>0.0</td>\n      <td>0.0</td>\n      <td>0.00</td>\n      <td>0.00</td>\n      <td>0.0</td>\n      <td>0.0</td>\n      <td>...</td>\n      <td>0.0</td>\n      <td>0.0</td>\n      <td>0.0</td>\n      <td>0.0</td>\n      <td>0.0</td>\n      <td>0.0</td>\n      <td>0.00</td>\n      <td>0.0</td>\n      <td>0.11</td>\n      <td>0.0</td>\n    </tr>\n    <tr>\n      <th>3</th>\n      <td>0</td>\n      <td>3</td>\n      <td>0.0</td>\n      <td>108054392.0</td>\n      <td>0.0</td>\n      <td>0.0</td>\n      <td>0.00</td>\n      <td>0.00</td>\n      <td>0.0</td>\n      <td>0.0</td>\n      <td>...</td>\n      <td>0.0</td>\n      <td>0.0</td>\n      <td>0.0</td>\n      <td>0.0</td>\n      <td>0.0</td>\n      <td>0.0</td>\n      <td>0.00</td>\n      <td>0.0</td>\n      <td>0.09</td>\n      <td>0.0</td>\n    </tr>\n    <tr>\n      <th>4</th>\n      <td>0</td>\n      <td>4</td>\n      <td>0.0</td>\n      <td>108054392.0</td>\n      <td>0.0</td>\n      <td>0.0</td>\n      <td>0.00</td>\n      <td>0.00</td>\n      <td>0.0</td>\n      <td>0.0</td>\n      <td>...</td>\n      <td>0.0</td>\n      <td>0.0</td>\n      <td>0.0</td>\n      <td>0.0</td>\n      <td>0.0</td>\n      <td>0.0</td>\n      <td>0.00</td>\n      <td>0.0</td>\n      <td>0.07</td>\n      <td>0.0</td>\n    </tr>\n    <tr>\n      <th>5</th>\n      <td>0</td>\n      <td>5</td>\n      <td>0.0</td>\n      <td>108054392.0</td>\n      <td>0.0</td>\n      <td>0.0</td>\n      <td>0.00</td>\n      <td>0.00</td>\n      <td>0.0</td>\n      <td>0.0</td>\n      <td>...</td>\n      <td>0.0</td>\n      <td>0.0</td>\n      <td>0.0</td>\n      <td>0.0</td>\n      <td>0.0</td>\n      <td>0.0</td>\n      <td>0.00</td>\n      <td>0.0</td>\n      <td>0.06</td>\n      <td>0.0</td>\n    </tr>\n    <tr>\n      <th>6</th>\n      <td>0</td>\n      <td>6</td>\n      <td>0.0</td>\n      <td>108054392.0</td>\n      <td>0.0</td>\n      <td>0.0</td>\n      <td>0.00</td>\n      <td>0.00</td>\n      <td>0.0</td>\n      <td>0.0</td>\n      <td>...</td>\n      <td>0.0</td>\n      <td>0.0</td>\n      <td>0.0</td>\n      <td>0.0</td>\n      <td>0.0</td>\n      <td>0.0</td>\n      <td>0.00</td>\n      <td>0.0</td>\n      <td>0.05</td>\n      <td>0.0</td>\n    </tr>\n    <tr>\n      <th>7</th>\n      <td>0</td>\n      <td>7</td>\n      <td>0.0</td>\n      <td>108054392.0</td>\n      <td>0.0</td>\n      <td>0.0</td>\n      <td>0.00</td>\n      <td>0.00</td>\n      <td>0.0</td>\n      <td>0.0</td>\n      <td>...</td>\n      <td>0.0</td>\n      <td>0.0</td>\n      <td>0.0</td>\n      <td>0.0</td>\n      <td>0.0</td>\n      <td>0.0</td>\n      <td>0.00</td>\n      <td>0.0</td>\n      <td>0.04</td>\n      <td>0.0</td>\n    </tr>\n    <tr>\n      <th>8</th>\n      <td>0</td>\n      <td>8</td>\n      <td>0.0</td>\n      <td>108054392.0</td>\n      <td>0.0</td>\n      <td>0.0</td>\n      <td>0.00</td>\n      <td>0.00</td>\n      <td>0.0</td>\n      <td>0.0</td>\n      <td>...</td>\n      <td>0.0</td>\n      <td>0.0</td>\n      <td>0.0</td>\n      <td>0.0</td>\n      <td>0.0</td>\n      <td>0.0</td>\n      <td>0.00</td>\n      <td>0.0</td>\n      <td>0.05</td>\n      <td>0.0</td>\n    </tr>\n    <tr>\n      <th>9</th>\n      <td>0</td>\n      <td>9</td>\n      <td>0.0</td>\n      <td>108054392.0</td>\n      <td>0.0</td>\n      <td>0.0</td>\n      <td>0.44</td>\n      <td>5.18</td>\n      <td>0.0</td>\n      <td>0.0</td>\n      <td>...</td>\n      <td>0.0</td>\n      <td>0.0</td>\n      <td>0.0</td>\n      <td>0.0</td>\n      <td>0.0</td>\n      <td>0.0</td>\n      <td>0.44</td>\n      <td>0.0</td>\n      <td>0.04</td>\n      <td>0.0</td>\n    </tr>\n    <tr>\n      <th>0</th>\n      <td>1</td>\n      <td>0</td>\n      <td>0.0</td>\n      <td>3183762.0</td>\n      <td>0.0</td>\n      <td>0.0</td>\n      <td>0.00</td>\n      <td>0.00</td>\n      <td>0.0</td>\n      <td>0.0</td>\n      <td>...</td>\n      <td>0.0</td>\n      <td>0.0</td>\n      <td>0.0</td>\n      <td>1.0</td>\n      <td>1633.0</td>\n      <td>0.0</td>\n      <td>0.00</td>\n      <td>0.0</td>\n      <td>0.09</td>\n      <td>10.0</td>\n    </tr>\n    <tr>\n      <th>1</th>\n      <td>1</td>\n      <td>1</td>\n      <td>0.0</td>\n      <td>3183762.0</td>\n      <td>0.0</td>\n      <td>0.0</td>\n      <td>0.00</td>\n      <td>0.00</td>\n      <td>0.0</td>\n      <td>0.0</td>\n      <td>...</td>\n      <td>0.0</td>\n      <td>0.0</td>\n      <td>0.0</td>\n      <td>1.0</td>\n      <td>1633.0</td>\n      <td>0.0</td>\n      <td>0.00</td>\n      <td>0.0</td>\n      <td>0.09</td>\n      <td>10.0</td>\n    </tr>\n    <tr>\n      <th>2</th>\n      <td>1</td>\n      <td>2</td>\n      <td>0.0</td>\n      <td>3183762.0</td>\n      <td>0.0</td>\n      <td>0.0</td>\n      <td>0.00</td>\n      <td>0.00</td>\n      <td>0.0</td>\n      <td>0.0</td>\n      <td>...</td>\n      <td>0.0</td>\n      <td>0.0</td>\n      <td>0.0</td>\n      <td>1.0</td>\n      <td>1547.0</td>\n      <td>0.0</td>\n      <td>0.00</td>\n      <td>0.0</td>\n      <td>0.09</td>\n      <td>9.0</td>\n    </tr>\n    <tr>\n      <th>3</th>\n      <td>1</td>\n      <td>3</td>\n      <td>0.0</td>\n      <td>3183760.0</td>\n      <td>0.0</td>\n      <td>0.0</td>\n      <td>0.00</td>\n      <td>0.00</td>\n      <td>0.0</td>\n      <td>0.0</td>\n      <td>...</td>\n      <td>0.0</td>\n      <td>0.0</td>\n      <td>0.0</td>\n      <td>1.0</td>\n      <td>1547.0</td>\n      <td>0.0</td>\n      <td>0.00</td>\n      <td>0.0</td>\n      <td>0.07</td>\n      <td>9.0</td>\n    </tr>\n    <tr>\n      <th>4</th>\n      <td>1</td>\n      <td>4</td>\n      <td>0.0</td>\n      <td>3183762.0</td>\n      <td>0.0</td>\n      <td>0.0</td>\n      <td>0.00</td>\n      <td>0.00</td>\n      <td>0.0</td>\n      <td>0.0</td>\n      <td>...</td>\n      <td>0.0</td>\n      <td>0.0</td>\n      <td>0.0</td>\n      <td>1.0</td>\n      <td>1547.0</td>\n      <td>0.0</td>\n      <td>0.00</td>\n      <td>0.0</td>\n      <td>0.06</td>\n      <td>9.0</td>\n    </tr>\n  </tbody>\n</table>\n<p>15 rows × 99 columns</p>\n</div>"
     },
     "execution_count": 104,
     "metadata": {},
     "output_type": "execute_result"
    }
   ],
   "source": [
    "ts.head(15)"
   ],
   "metadata": {
    "collapsed": false,
    "pycharm": {
     "name": "#%%\n"
    }
   }
  },
  {
   "cell_type": "code",
   "execution_count": 103,
   "outputs": [],
   "source": [
    "test = ts[ts.id == 0].describe()[1:].iloc[:,2:]"
   ],
   "metadata": {
    "collapsed": false,
    "pycharm": {
     "name": "#%%\n"
    }
   }
  },
  {
   "cell_type": "code",
   "execution_count": 105,
   "outputs": [],
   "source": [
    "des_l = []\n",
    "for idx in range(ts.id.max()+1):\n",
    "    des_df = ts[ts.id == idx].describe()[1:].iloc[:,2:]\n",
    "    des_l.append(des_df)"
   ],
   "metadata": {
    "collapsed": false,
    "pycharm": {
     "name": "#%%\n"
    }
   }
  },
  {
   "cell_type": "code",
   "execution_count": 120,
   "outputs": [
    {
     "data": {
      "text/plain": "      system.udp.in_rcvbuf_errors_pct  system.fs.inodes.free  \\\nmean                              0.0             3196067.25   \nstd                               0.0                   0.00   \nmin                               0.0             3196067.00   \n25%                               0.0             3196067.00   \n50%                               0.0             3196067.00   \n\n      weblogic.basic.heap.size  system.io.wrqm_s  system.io.await  \\\nmean                       0.0          1.600000         0.017000   \nstd                        0.0          5.059644         0.053759   \nmin                        0.0          0.000000         0.000000   \n25%                        0.0          0.000000         0.000000   \n50%                        0.0          0.000000         0.000000   \n\n      system.io.avg_rq_sz  weblogic.webapp.session_max  system.io.rrqm_s  \\\nmean              1.82200                          0.0               0.0   \nstd               5.76167                          0.0               0.0   \nmin               0.00000                          0.0               0.0   \n25%               0.00000                          0.0               0.0   \n50%               0.00000                          0.0               0.0   \n\n      system.io.rkb_s  redis.mem.used  ...  redis.clients.blocked  \\\nmean              0.0             0.0  ...                    0.0   \nstd               0.0             0.0  ...                    0.0   \nmin               0.0             0.0  ...                    0.0   \n25%               0.0             0.0  ...                    0.0   \n50%               0.0             0.0  ...                    0.0   \n\n      redis.replication.master_repl_offset  system.io.r_s  \\\nmean                                   0.0            0.0   \nstd                                    0.0            0.0   \nmin                                    0.0            0.0   \n25%                                    0.0            0.0   \n50%                                    0.0            0.0   \n\n      haproxy.backend.session.rate  haproxy.frontend.bytes.out_rate  \\\nmean                           1.0                      3974.600098   \nstd                            0.0                       392.952393   \nmin                            1.0                      3722.000000   \n25%                            1.0                      3734.000000   \n50%                            1.0                      3734.000000   \n\n      haproxy.backend.session.pct  system.io.w_await  \\\nmean                          0.0           0.017000   \nstd                           0.0           0.053759   \nmin                           0.0           0.000000   \n25%                           0.0           0.000000   \n50%                           0.0           0.000000   \n\n      haproxy.backend.response.2xx  system.load.5  \\\nmean                           1.0       0.071000   \nstd                            0.0       0.032472   \nmin                            1.0       0.040000   \n25%                            1.0       0.042500   \n50%                            1.0       0.060000   \n\n      haproxy.backend.session.time  \nmean                      9.300000  \nstd                       0.483046  \nmin                       9.000000  \n25%                       9.000000  \n50%                       9.000000  \n\n[5 rows x 97 columns]",
      "text/html": "<div>\n<style scoped>\n    .dataframe tbody tr th:only-of-type {\n        vertical-align: middle;\n    }\n\n    .dataframe tbody tr th {\n        vertical-align: top;\n    }\n\n    .dataframe thead th {\n        text-align: right;\n    }\n</style>\n<table border=\"1\" class=\"dataframe\">\n  <thead>\n    <tr style=\"text-align: right;\">\n      <th></th>\n      <th>system.udp.in_rcvbuf_errors_pct</th>\n      <th>system.fs.inodes.free</th>\n      <th>weblogic.basic.heap.size</th>\n      <th>system.io.wrqm_s</th>\n      <th>system.io.await</th>\n      <th>system.io.avg_rq_sz</th>\n      <th>weblogic.webapp.session_max</th>\n      <th>system.io.rrqm_s</th>\n      <th>system.io.rkb_s</th>\n      <th>redis.mem.used</th>\n      <th>...</th>\n      <th>redis.clients.blocked</th>\n      <th>redis.replication.master_repl_offset</th>\n      <th>system.io.r_s</th>\n      <th>haproxy.backend.session.rate</th>\n      <th>haproxy.frontend.bytes.out_rate</th>\n      <th>haproxy.backend.session.pct</th>\n      <th>system.io.w_await</th>\n      <th>haproxy.backend.response.2xx</th>\n      <th>system.load.5</th>\n      <th>haproxy.backend.session.time</th>\n    </tr>\n  </thead>\n  <tbody>\n    <tr>\n      <th>mean</th>\n      <td>0.0</td>\n      <td>3196067.25</td>\n      <td>0.0</td>\n      <td>1.600000</td>\n      <td>0.017000</td>\n      <td>1.82200</td>\n      <td>0.0</td>\n      <td>0.0</td>\n      <td>0.0</td>\n      <td>0.0</td>\n      <td>...</td>\n      <td>0.0</td>\n      <td>0.0</td>\n      <td>0.0</td>\n      <td>1.0</td>\n      <td>3974.600098</td>\n      <td>0.0</td>\n      <td>0.017000</td>\n      <td>1.0</td>\n      <td>0.071000</td>\n      <td>9.300000</td>\n    </tr>\n    <tr>\n      <th>std</th>\n      <td>0.0</td>\n      <td>0.00</td>\n      <td>0.0</td>\n      <td>5.059644</td>\n      <td>0.053759</td>\n      <td>5.76167</td>\n      <td>0.0</td>\n      <td>0.0</td>\n      <td>0.0</td>\n      <td>0.0</td>\n      <td>...</td>\n      <td>0.0</td>\n      <td>0.0</td>\n      <td>0.0</td>\n      <td>0.0</td>\n      <td>392.952393</td>\n      <td>0.0</td>\n      <td>0.053759</td>\n      <td>0.0</td>\n      <td>0.032472</td>\n      <td>0.483046</td>\n    </tr>\n    <tr>\n      <th>min</th>\n      <td>0.0</td>\n      <td>3196067.00</td>\n      <td>0.0</td>\n      <td>0.000000</td>\n      <td>0.000000</td>\n      <td>0.00000</td>\n      <td>0.0</td>\n      <td>0.0</td>\n      <td>0.0</td>\n      <td>0.0</td>\n      <td>...</td>\n      <td>0.0</td>\n      <td>0.0</td>\n      <td>0.0</td>\n      <td>1.0</td>\n      <td>3722.000000</td>\n      <td>0.0</td>\n      <td>0.000000</td>\n      <td>1.0</td>\n      <td>0.040000</td>\n      <td>9.000000</td>\n    </tr>\n    <tr>\n      <th>25%</th>\n      <td>0.0</td>\n      <td>3196067.00</td>\n      <td>0.0</td>\n      <td>0.000000</td>\n      <td>0.000000</td>\n      <td>0.00000</td>\n      <td>0.0</td>\n      <td>0.0</td>\n      <td>0.0</td>\n      <td>0.0</td>\n      <td>...</td>\n      <td>0.0</td>\n      <td>0.0</td>\n      <td>0.0</td>\n      <td>1.0</td>\n      <td>3734.000000</td>\n      <td>0.0</td>\n      <td>0.000000</td>\n      <td>1.0</td>\n      <td>0.042500</td>\n      <td>9.000000</td>\n    </tr>\n    <tr>\n      <th>50%</th>\n      <td>0.0</td>\n      <td>3196067.00</td>\n      <td>0.0</td>\n      <td>0.000000</td>\n      <td>0.000000</td>\n      <td>0.00000</td>\n      <td>0.0</td>\n      <td>0.0</td>\n      <td>0.0</td>\n      <td>0.0</td>\n      <td>...</td>\n      <td>0.0</td>\n      <td>0.0</td>\n      <td>0.0</td>\n      <td>1.0</td>\n      <td>3734.000000</td>\n      <td>0.0</td>\n      <td>0.000000</td>\n      <td>1.0</td>\n      <td>0.060000</td>\n      <td>9.000000</td>\n    </tr>\n  </tbody>\n</table>\n<p>5 rows × 97 columns</p>\n</div>"
     },
     "execution_count": 120,
     "metadata": {},
     "output_type": "execute_result"
    }
   ],
   "source": [
    "des_l[14].head()"
   ],
   "metadata": {
    "collapsed": false,
    "pycharm": {
     "name": "#%%\n"
    }
   }
  },
  {
   "cell_type": "code",
   "execution_count": 121,
   "outputs": [],
   "source": [
    "des_tensor = []\n",
    "for df in des_l:\n",
    "    des_tensor.append(torch.tensor(df.values).flatten())\n",
    "statistical_features = torch.stack(des_tensor)"
   ],
   "metadata": {
    "collapsed": false,
    "pycharm": {
     "name": "#%%\n"
    }
   }
  },
  {
   "cell_type": "code",
   "execution_count": 134,
   "outputs": [],
   "source": [
    "statistical_features = torch.stack(des_tensor)"
   ],
   "metadata": {
    "collapsed": false,
    "pycharm": {
     "name": "#%%\n"
    }
   }
  },
  {
   "cell_type": "code",
   "execution_count": 135,
   "outputs": [
    {
     "data": {
      "text/plain": "tensor([[0.0000e+00, 1.0805e+08, 0.0000e+00,  ..., 0.0000e+00, 1.1000e-01,\n         0.0000e+00],\n        [0.0000e+00, 3.1838e+06, 0.0000e+00,  ..., 0.0000e+00, 2.1000e-01,\n         1.0000e+01],\n        [0.0000e+00, 1.0805e+08, 2.0298e+03,  ..., 0.0000e+00, 9.0000e-02,\n         0.0000e+00],\n        ...,\n        [0.0000e+00, 3.1815e+06, 0.0000e+00,  ..., 1.0000e+00, 1.5200e+00,\n         7.0000e+00],\n        [0.0000e+00, 1.0805e+08, 2.0292e+03,  ..., 0.0000e+00, 1.2000e-01,\n         0.0000e+00],\n        [5.9290e+01, 1.0805e+08, 2.0330e+03,  ..., 0.0000e+00, 4.9300e+00,\n         0.0000e+00]], dtype=torch.float64)"
     },
     "execution_count": 135,
     "metadata": {},
     "output_type": "execute_result"
    }
   ],
   "source": [
    "statistical_features"
   ],
   "metadata": {
    "collapsed": false,
    "pycharm": {
     "name": "#%%\n"
    }
   }
  },
  {
   "cell_type": "code",
   "execution_count": 136,
   "outputs": [],
   "source": [
    "torch.save(statistical_features, \"../../workdir/system_a/stat_feature.txt\")"
   ],
   "metadata": {
    "collapsed": false,
    "pycharm": {
     "name": "#%%\n"
    }
   }
  },
  {
   "cell_type": "code",
   "execution_count": 137,
   "outputs": [],
   "source": [
    "test_new = torch.load(\"../../workdir/system_a/stat_feature.txt\")"
   ],
   "metadata": {
    "collapsed": false,
    "pycharm": {
     "name": "#%%\n"
    }
   }
  },
  {
   "cell_type": "code",
   "execution_count": 138,
   "outputs": [
    {
     "data": {
      "text/plain": "tensor(False)"
     },
     "execution_count": 138,
     "metadata": {},
     "output_type": "execute_result"
    }
   ],
   "source": [
    "(test_new[0] == test_new[10]).all()"
   ],
   "metadata": {
    "collapsed": false,
    "pycharm": {
     "name": "#%%\n"
    }
   }
  },
  {
   "cell_type": "code",
   "execution_count": 63,
   "outputs": [],
   "source": [
    "from torch.utils.data import DataLoader, Dataset"
   ],
   "metadata": {
    "collapsed": false,
    "pycharm": {
     "name": "#%%\n"
    }
   }
  },
  {
   "cell_type": "code",
   "execution_count": 90,
   "outputs": [
    {
     "ename": "ImportError",
     "evalue": "cannot import name 'TensorDataset' from 'src.dataloader' (/home/junetheriver/code/aiops/src/dataloader.py)",
     "output_type": "error",
     "traceback": [
      "\u001B[0;31m---------------------------------------------------------------------------\u001B[0m",
      "\u001B[0;31mImportError\u001B[0m                               Traceback (most recent call last)",
      "Input \u001B[0;32mIn [90]\u001B[0m, in \u001B[0;36m<cell line: 2>\u001B[0;34m()\u001B[0m\n\u001B[1;32m      1\u001B[0m \u001B[38;5;28;01mimport\u001B[39;00m \u001B[38;5;21;01msrc\u001B[39;00m\u001B[38;5;21;01m.\u001B[39;00m\u001B[38;5;21;01mdataloader\u001B[39;00m \u001B[38;5;28;01mas\u001B[39;00m \u001B[38;5;21;01mdataloader\u001B[39;00m\n\u001B[0;32m----> 2\u001B[0m \u001B[38;5;28;01mfrom\u001B[39;00m \u001B[38;5;21;01msrc\u001B[39;00m\u001B[38;5;21;01m.\u001B[39;00m\u001B[38;5;21;01mdataloader\u001B[39;00m \u001B[38;5;28;01mimport\u001B[39;00m TensorDataset\n",
      "\u001B[0;31mImportError\u001B[0m: cannot import name 'TensorDataset' from 'src.dataloader' (/home/junetheriver/code/aiops/src/dataloader.py)"
     ]
    }
   ],
   "source": [
    "import src.dataloader as dataloader\n",
    "from src.dataloader import TensorDataset"
   ],
   "metadata": {
    "collapsed": false,
    "pycharm": {
     "name": "#%%\n"
    }
   }
  },
  {
   "cell_type": "code",
   "execution_count": 81,
   "outputs": [
    {
     "name": "stdout",
     "output_type": "stream",
     "text": [
      "torch.Size([10, 679])\n",
      "torch.Size([10, 679])\n",
      "torch.Size([10, 679])\n",
      "torch.Size([10, 679])\n",
      "torch.Size([10, 679])\n",
      "torch.Size([10, 679])\n",
      "torch.Size([10, 679])\n",
      "torch.Size([10, 679])\n",
      "torch.Size([10, 679])\n",
      "torch.Size([10, 679])\n",
      "torch.Size([10, 679])\n",
      "torch.Size([10, 679])\n",
      "torch.Size([10, 679])\n",
      "torch.Size([10, 679])\n",
      "torch.Size([10, 679])\n",
      "torch.Size([10, 679])\n",
      "torch.Size([10, 679])\n",
      "torch.Size([10, 679])\n",
      "torch.Size([10, 679])\n",
      "torch.Size([10, 679])\n",
      "torch.Size([10, 679])\n",
      "torch.Size([10, 679])\n",
      "torch.Size([10, 679])\n",
      "torch.Size([10, 679])\n",
      "torch.Size([10, 679])\n",
      "torch.Size([10, 679])\n",
      "torch.Size([10, 679])\n",
      "torch.Size([10, 679])\n",
      "torch.Size([10, 679])\n",
      "torch.Size([10, 679])\n",
      "torch.Size([10, 679])\n",
      "torch.Size([10, 679])\n",
      "torch.Size([10, 679])\n",
      "torch.Size([10, 679])\n",
      "torch.Size([10, 679])\n",
      "torch.Size([10, 679])\n",
      "torch.Size([10, 679])\n",
      "torch.Size([10, 679])\n",
      "torch.Size([9, 679])\n"
     ]
    }
   ],
   "source": [
    "for x in dl:\n",
    "    print(x.shape)"
   ],
   "metadata": {
    "collapsed": false,
    "pycharm": {
     "name": "#%%\n"
    }
   }
  },
  {
   "cell_type": "code",
   "execution_count": null,
   "outputs": [],
   "source": [
    "def train(model, dataset):\n",
    "    print(np.bincount([np.argmax(data[1]) for data in dataset]))\n",
    "\n",
    "    print(model.train())\n",
    "    criterion = nn.CrossEntropyLoss()\n",
    "    optimizer = optim.SGD(model.parameters(), lr=args.lr)\n",
    "    # optimizer = optim.Adam(model.parameters(), lr=args.lr, weight_decay=0.01)\n",
    "\n",
    "    for epoch in range(args.epoch):\n",
    "        start_time = datetime.datetime.now()\n",
    "        running_loss = 0.0\n",
    "        for i, data in enumerate(dataset):\n",
    "            inputs, labels = data\n",
    "            optimizer.zero_grad()\n",
    "\n",
    "            outputs = model(inputs)\n",
    "            loss = criterion(outputs, torch.tensor(labels).unsqueeze(dim=0))\n",
    "            loss.backward()\n",
    "            optimizer.step()\n",
    "\n",
    "            running_loss += loss.item()\n",
    "        print(f\"\\r epoch {epoch}, running loss {running_loss}, used time {datetime.datetime.now() - start_time}\", end='')\n",
    "    print(\"Training finished\")"
   ],
   "metadata": {
    "collapsed": false,
    "pycharm": {
     "name": "#%%\n"
    }
   }
  },
  {
   "cell_type": "code",
   "execution_count": 91,
   "outputs": [
    {
     "data": {
      "text/plain": "torch.Size([389, 679])"
     },
     "execution_count": 91,
     "metadata": {},
     "output_type": "execute_result"
    }
   ],
   "source": [
    "test_new.shape"
   ],
   "metadata": {
    "collapsed": false,
    "pycharm": {
     "name": "#%%\n"
    }
   }
  },
  {
   "cell_type": "code",
   "execution_count": 139,
   "outputs": [
    {
     "data": {
      "text/plain": "DecisionTreeClassifier()"
     },
     "execution_count": 139,
     "metadata": {},
     "output_type": "execute_result"
    }
   ],
   "source": [
    "from sklearn.tree import DecisionTreeClassifier\n",
    "tree = DecisionTreeClassifier()\n",
    "tree.fit(test_new, y_df[\"y\"].values)"
   ],
   "metadata": {
    "collapsed": false,
    "pycharm": {
     "name": "#%%\n"
    }
   }
  },
  {
   "cell_type": "code",
   "execution_count": 140,
   "outputs": [
    {
     "data": {
      "text/plain": "array([4, 3, 0, 1, 5, 0, 3, 0, 1, 1, 1, 4, 7, 3, 1, 7, 0, 1, 0, 5, 1, 1,\n       1, 1, 1, 7, 0, 7, 2, 3, 0, 0, 5, 2, 3, 7, 0, 0, 6, 7, 0, 2, 3, 1,\n       0, 7, 2, 0, 0, 3, 1, 1, 4, 4, 0, 1, 4, 1, 0, 0, 0, 5, 0, 3, 0, 6,\n       1, 0, 0, 4, 3, 0, 3, 0, 6, 3, 1, 1, 3, 1, 6, 1, 0, 0, 0, 4, 5, 0,\n       4, 3, 7, 0, 1, 0, 3, 1, 1, 3, 2, 0, 0, 6, 0, 0, 0, 0, 0, 1, 0, 1,\n       0, 3, 5, 0, 2, 4, 7, 0, 4, 7, 2, 6, 1, 0, 0, 3, 7, 3, 7, 7, 0, 5,\n       1, 1, 7, 7, 0, 4, 0, 7, 0, 1, 1, 1, 3, 0, 0, 1, 0, 2, 1, 1, 1, 1,\n       6, 7, 1, 1, 6, 5, 0, 0, 7, 0, 0, 6, 4, 0, 1, 4, 6, 0, 0, 0, 0, 7,\n       3, 1, 0, 1, 7, 0, 1, 7, 0, 2, 1, 1, 0, 4, 0, 1, 1, 0, 6, 1, 0, 7,\n       5, 3, 1, 3, 1, 0, 3, 0, 1, 0, 0, 1, 0, 0, 3, 0, 4, 4, 0, 4, 0, 4,\n       0, 2, 2, 2, 6, 0, 6, 4, 5, 1, 0, 1, 0, 3, 1, 0, 3, 1, 7, 1, 6, 2,\n       2, 0, 1, 1, 1, 0, 1, 1, 0, 0, 7, 1, 2, 7, 7, 0, 0, 0, 0, 0, 7, 3,\n       0, 2, 1, 5, 2, 0, 0, 0, 3, 1, 0, 2, 6, 1, 5, 0, 0, 0, 4, 0, 0, 3,\n       5, 7, 0, 0, 5, 1, 0, 7, 7, 2, 6, 5, 7, 1, 0, 0, 1, 1, 3, 2, 3, 7,\n       0, 1, 0, 3, 3, 2, 0, 0, 0, 1, 0, 0, 0, 0, 4, 2, 7, 0, 0, 1, 6, 4,\n       0, 3, 5, 0, 0, 6, 0, 1, 4, 4, 0, 0, 0, 3, 0, 4, 1, 5, 0, 6, 0, 3,\n       3, 5, 0, 0, 6, 5, 7, 7, 5, 0, 7, 1, 0, 1, 0, 0, 6, 0, 6, 0, 3, 1,\n       2, 3, 0, 0, 0, 0, 0, 6, 4, 0, 0, 5, 4, 1, 2])"
     },
     "execution_count": 140,
     "metadata": {},
     "output_type": "execute_result"
    }
   ],
   "source": [
    "tree.predict(test_new)"
   ],
   "metadata": {
    "collapsed": false,
    "pycharm": {
     "name": "#%%\n"
    }
   }
  },
  {
   "cell_type": "code",
   "execution_count": 102,
   "outputs": [
    {
     "data": {
      "text/plain": "tensor([0.0000e+00, 1.0805e+08, 0.0000e+00, 0.0000e+00, 4.4000e-02, 5.1800e-01,\n        0.0000e+00, 0.0000e+00, 0.0000e+00, 0.0000e+00, 0.0000e+00, 0.0000e+00,\n        0.0000e+00, 1.0000e-03, 0.0000e+00, 3.7313e+06, 3.5147e+01, 3.7843e+01,\n        4.0000e-03, 0.0000e+00, 1.0600e+00, 0.0000e+00, 0.0000e+00, 3.0890e+01,\n        1.3150e+04, 4.7206e+01, 1.5380e+02, 0.0000e+00, 0.0000e+00, 0.0000e+00,\n        0.0000e+00, 3.1618e+01, 0.0000e+00, 2.9000e+01, 8.6529e+07, 0.0000e+00,\n        6.0200e-01, 3.5648e+03, 0.0000e+00, 0.0000e+00, 0.0000e+00, 1.0000e-02,\n        7.0000e+00, 1.0284e+04, 1.0600e+00, 0.0000e+00, 5.8678e+01, 0.0000e+00,\n        0.0000e+00, 8.0005e+04, 0.0000e+00, 0.0000e+00, 1.3500e+00, 0.0000e+00,\n        6.7655e+07, 0.0000e+00, 9.9307e+01, 0.0000e+00, 6.1000e+00, 4.8000e-02,\n        6.0000e-02, 1.8862e+04, 6.9300e-01, 1.0122e+04, 0.0000e+00, 0.0000e+00,\n        0.0000e+00, 1.1900e+02, 3.6200e-01, 0.0000e+00, 0.0000e+00, 2.2123e+04,\n        8.0000e-03, 2.0000e-03, 6.2214e+03, 0.0000e+00, 0.0000e+00, 1.0000e-02,\n        5.0000e-03, 0.0000e+00, 5.7921e+01, 6.6200e+02, 0.0000e+00, 8.5866e+03,\n        1.1800e+00, 0.0000e+00, 0.0000e+00, 0.0000e+00, 0.0000e+00, 0.0000e+00,\n        0.0000e+00, 0.0000e+00, 0.0000e+00, 4.4000e-02, 0.0000e+00, 7.2000e-02,\n        0.0000e+00, 0.0000e+00, 0.0000e+00, 0.0000e+00, 0.0000e+00, 1.3914e-01,\n        1.6381e+00, 0.0000e+00, 0.0000e+00, 0.0000e+00, 0.0000e+00, 0.0000e+00,\n        0.0000e+00, 0.0000e+00, 3.1623e-03, 0.0000e+00, 1.8170e+02, 7.2870e+00,\n        7.3708e+00, 6.9921e-03, 0.0000e+00, 2.1603e-02, 0.0000e+00, 0.0000e+00,\n        5.2006e-01, 1.5597e+02, 5.1631e-03, 6.3246e-01, 0.0000e+00, 0.0000e+00,\n        0.0000e+00, 0.0000e+00, 5.1972e-01, 0.0000e+00, 0.0000e+00, 1.9480e+03,\n        0.0000e+00, 6.6320e-01, 3.7561e+01, 0.0000e+00, 0.0000e+00, 0.0000e+00,\n        0.0000e+00, 2.2136e+01, 3.5149e+03, 2.1603e-02, 0.0000e+00, 8.9537e+00,\n        0.0000e+00, 0.0000e+00, 1.5815e-01, 0.0000e+00, 0.0000e+00, 4.2691e+00,\n        0.0000e+00, 1.9478e+03, 0.0000e+00, 1.4758e-01, 0.0000e+00, 1.2867e+00,\n        5.3083e-02, 9.4281e-03, 1.5597e+02, 1.4758e-01, 1.6647e+02, 0.0000e+00,\n        0.0000e+00, 0.0000e+00, 2.5820e+00, 1.0820e-01, 0.0000e+00, 0.0000e+00,\n        1.6643e+02, 4.2164e-03, 6.3246e-03, 1.8646e+03, 0.0000e+00, 0.0000e+00,\n        0.0000e+00, 1.5811e-02, 0.0000e+00, 8.1778e+00, 0.0000e+00, 0.0000e+00,\n        1.2929e+01, 0.0000e+00, 0.0000e+00, 0.0000e+00, 0.0000e+00, 0.0000e+00,\n        0.0000e+00, 0.0000e+00, 0.0000e+00, 0.0000e+00, 1.3914e-01, 0.0000e+00,\n        2.8206e-02, 0.0000e+00, 0.0000e+00, 1.0805e+08, 0.0000e+00, 0.0000e+00,\n        0.0000e+00, 0.0000e+00, 0.0000e+00, 0.0000e+00, 0.0000e+00, 0.0000e+00,\n        0.0000e+00, 0.0000e+00, 0.0000e+00, 0.0000e+00, 0.0000e+00, 3.7310e+06,\n        2.5380e+01, 2.7600e+01, 0.0000e+00, 0.0000e+00, 1.0200e+00, 0.0000e+00,\n        0.0000e+00, 3.0140e+01, 1.2868e+04, 4.7200e+01, 1.5200e+02, 0.0000e+00,\n        0.0000e+00, 0.0000e+00, 0.0000e+00, 3.0870e+01, 0.0000e+00, 2.9000e+01,\n        8.6527e+07, 0.0000e+00, 0.0000e+00, 3.5200e+03, 0.0000e+00, 0.0000e+00,\n        0.0000e+00, 1.0000e-02, 0.0000e+00, 4.7401e+03, 1.0200e+00, 0.0000e+00,\n        4.7130e+01, 0.0000e+00, 0.0000e+00, 8.0004e+04, 0.0000e+00, 0.0000e+00,\n        0.0000e+00, 0.0000e+00, 6.7652e+07, 0.0000e+00, 9.9120e+01, 0.0000e+00,\n        4.0000e+00, 0.0000e+00, 5.0000e-02, 1.8633e+04, 4.2000e-01, 9.8830e+03,\n        0.0000e+00, 0.0000e+00, 0.0000e+00, 1.1500e+02, 2.1000e-01, 0.0000e+00,\n        0.0000e+00, 2.1807e+04, 0.0000e+00, 0.0000e+00, 2.8343e+03, 0.0000e+00,\n        0.0000e+00, 1.0000e-02, 0.0000e+00, 0.0000e+00, 4.7350e+01, 6.6200e+02,\n        0.0000e+00, 8.5530e+03, 1.1800e+00, 0.0000e+00, 0.0000e+00, 0.0000e+00,\n        0.0000e+00, 0.0000e+00, 0.0000e+00, 0.0000e+00, 0.0000e+00, 0.0000e+00,\n        0.0000e+00, 4.0000e-02, 0.0000e+00, 0.0000e+00, 1.0805e+08, 0.0000e+00,\n        0.0000e+00, 0.0000e+00, 0.0000e+00, 0.0000e+00, 0.0000e+00, 0.0000e+00,\n        0.0000e+00, 0.0000e+00, 0.0000e+00, 0.0000e+00, 0.0000e+00, 0.0000e+00,\n        3.7311e+06, 3.1070e+01, 3.3443e+01, 0.0000e+00, 0.0000e+00, 1.0500e+00,\n        0.0000e+00, 0.0000e+00, 3.0730e+01, 1.3085e+04, 4.7200e+01, 1.5400e+02,\n        0.0000e+00, 0.0000e+00, 0.0000e+00, 0.0000e+00, 3.1460e+01, 0.0000e+00,\n        2.9000e+01, 8.6528e+07, 0.0000e+00, 1.3000e-01, 3.5280e+03, 0.0000e+00,\n        0.0000e+00, 0.0000e+00, 1.0000e-02, 0.0000e+00, 8.7974e+03, 1.0500e+00,\n        0.0000e+00, 5.3847e+01, 0.0000e+00, 0.0000e+00, 8.0005e+04, 0.0000e+00,\n        0.0000e+00, 0.0000e+00, 0.0000e+00, 6.7653e+07, 0.0000e+00, 9.9180e+01,\n        0.0000e+00, 5.2500e+00, 1.0000e-02, 5.0000e-02, 1.8814e+04, 5.9250e-01,\n        1.0071e+04, 0.0000e+00, 0.0000e+00, 0.0000e+00, 1.1650e+02, 2.9000e-01,\n        0.0000e+00, 0.0000e+00, 2.2054e+04, 1.0000e-02, 0.0000e+00, 4.9837e+03,\n        0.0000e+00, 0.0000e+00, 1.0000e-02, 0.0000e+00, 0.0000e+00, 5.3503e+01,\n        6.6200e+02, 0.0000e+00, 8.5835e+03, 1.1800e+00, 0.0000e+00, 0.0000e+00,\n        0.0000e+00, 0.0000e+00, 0.0000e+00, 0.0000e+00, 0.0000e+00, 0.0000e+00,\n        0.0000e+00, 0.0000e+00, 5.0000e-02, 0.0000e+00, 0.0000e+00, 1.0805e+08,\n        0.0000e+00, 0.0000e+00, 0.0000e+00, 0.0000e+00, 0.0000e+00, 0.0000e+00,\n        0.0000e+00, 0.0000e+00, 0.0000e+00, 0.0000e+00, 0.0000e+00, 0.0000e+00,\n        0.0000e+00, 3.7313e+06, 3.3550e+01, 3.5490e+01, 0.0000e+00, 0.0000e+00,\n        1.0700e+00, 0.0000e+00, 0.0000e+00, 3.0865e+01, 1.3150e+04, 4.7210e+01,\n        1.5400e+02, 0.0000e+00, 0.0000e+00, 0.0000e+00, 0.0000e+00, 3.1590e+01,\n        0.0000e+00, 2.9000e+01, 8.6529e+07, 0.0000e+00, 4.4000e-01, 3.5680e+03,\n        0.0000e+00, 0.0000e+00, 0.0000e+00, 1.0000e-02, 0.0000e+00, 9.5068e+03,\n        1.0700e+00, 0.0000e+00, 5.6700e+01, 0.0000e+00, 0.0000e+00, 8.0005e+04,\n        0.0000e+00, 0.0000e+00, 0.0000e+00, 0.0000e+00, 6.7655e+07, 0.0000e+00,\n        9.9310e+01, 0.0000e+00, 6.0000e+00, 3.5000e-02, 6.0000e-02, 1.8862e+04,\n        6.9000e-01, 1.0114e+04, 0.0000e+00, 0.0000e+00, 0.0000e+00, 1.2000e+02,\n        3.3000e-01, 0.0000e+00, 0.0000e+00, 2.2132e+04, 1.0000e-02, 0.0000e+00,\n        6.1432e+03, 0.0000e+00, 0.0000e+00, 1.0000e-02, 0.0000e+00, 0.0000e+00,\n        5.5755e+01, 6.6200e+02, 0.0000e+00, 8.5915e+03, 1.1800e+00, 0.0000e+00,\n        0.0000e+00, 0.0000e+00, 0.0000e+00, 0.0000e+00, 0.0000e+00, 0.0000e+00,\n        0.0000e+00, 0.0000e+00, 0.0000e+00, 6.5000e-02, 0.0000e+00, 0.0000e+00,\n        1.0805e+08, 0.0000e+00, 0.0000e+00, 0.0000e+00, 0.0000e+00, 0.0000e+00,\n        0.0000e+00, 0.0000e+00, 0.0000e+00, 0.0000e+00, 0.0000e+00, 0.0000e+00,\n        0.0000e+00, 0.0000e+00, 3.7314e+06, 4.1635e+01, 4.4620e+01, 7.5000e-03,\n        0.0000e+00, 1.0775e+00, 0.0000e+00, 0.0000e+00, 3.1110e+01, 1.3198e+04,\n        4.7210e+01, 1.5400e+02, 0.0000e+00, 0.0000e+00, 0.0000e+00, 0.0000e+00,\n        3.1838e+01, 0.0000e+00, 2.9000e+01, 8.6531e+07, 0.0000e+00, 8.7500e-01,\n        3.5840e+03, 0.0000e+00, 0.0000e+00, 0.0000e+00, 1.0000e-02, 0.0000e+00,\n        1.3129e+04, 1.0775e+00, 0.0000e+00, 6.6560e+01, 0.0000e+00, 0.0000e+00,\n        8.0005e+04, 0.0000e+00, 0.0000e+00, 0.0000e+00, 0.0000e+00, 6.7656e+07,\n        0.0000e+00, 9.9407e+01, 0.0000e+00, 6.7500e+00, 7.0000e-02, 7.0000e-02,\n        1.8927e+04, 8.2000e-01, 1.0192e+04, 0.0000e+00, 0.0000e+00, 0.0000e+00,\n        1.2075e+02, 4.6000e-01, 0.0000e+00, 0.0000e+00, 2.2174e+04, 1.0000e-02,\n        0.0000e+00, 7.5466e+03, 0.0000e+00, 0.0000e+00, 1.0000e-02, 0.0000e+00,\n        0.0000e+00, 6.4877e+01, 6.6200e+02, 0.0000e+00, 8.5938e+03, 1.1800e+00,\n        0.0000e+00, 0.0000e+00, 0.0000e+00, 0.0000e+00, 0.0000e+00, 0.0000e+00,\n        0.0000e+00, 0.0000e+00, 0.0000e+00, 0.0000e+00, 9.7500e-02, 0.0000e+00,\n        0.0000e+00, 1.0805e+08, 0.0000e+00, 0.0000e+00, 4.4000e-01, 5.1800e+00,\n        0.0000e+00, 0.0000e+00, 0.0000e+00, 0.0000e+00, 0.0000e+00, 0.0000e+00,\n        0.0000e+00, 1.0000e-02, 0.0000e+00, 3.7315e+06, 4.6730e+01, 4.9500e+01,\n        2.0000e-02, 0.0000e+00, 1.0800e+00, 0.0000e+00, 0.0000e+00, 3.1880e+01,\n        1.3379e+04, 4.7210e+01, 1.5400e+02, 0.0000e+00, 0.0000e+00, 0.0000e+00,\n        0.0000e+00, 3.2610e+01, 0.0000e+00, 2.9000e+01, 8.6532e+07, 0.0000e+00,\n        2.0000e+00, 3.6160e+03, 0.0000e+00, 0.0000e+00, 0.0000e+00, 1.0000e-02,\n        7.0000e+01, 1.5296e+04, 1.0800e+00, 0.0000e+00, 7.2950e+01, 0.0000e+00,\n        0.0000e+00, 8.0005e+04, 0.0000e+00, 0.0000e+00, 1.3500e+01, 0.0000e+00,\n        6.7657e+07, 0.0000e+00, 9.9580e+01, 0.0000e+00, 8.0000e+00, 1.6000e-01,\n        7.0000e-02, 1.9144e+04, 8.8000e-01, 1.0439e+04, 0.0000e+00, 0.0000e+00,\n        0.0000e+00, 1.2200e+02, 5.0000e-01, 0.0000e+00, 0.0000e+00, 2.2363e+04,\n        1.0000e-02, 2.0000e-02, 9.0759e+03, 0.0000e+00, 0.0000e+00, 1.0000e-02,\n        5.0000e-02, 0.0000e+00, 7.1080e+01, 6.6200e+02, 0.0000e+00, 8.5960e+03,\n        1.1800e+00, 0.0000e+00, 0.0000e+00, 0.0000e+00, 0.0000e+00, 0.0000e+00,\n        0.0000e+00, 0.0000e+00, 0.0000e+00, 4.4000e-01, 0.0000e+00, 1.1000e-01,\n        0.0000e+00], dtype=torch.float64)"
     },
     "execution_count": 102,
     "metadata": {},
     "output_type": "execute_result"
    }
   ],
   "source": [
    "test_new[2]"
   ],
   "metadata": {
    "collapsed": false,
    "pycharm": {
     "name": "#%%\n"
    }
   }
  },
  {
   "cell_type": "code",
   "execution_count": null,
   "outputs": [],
   "source": [],
   "metadata": {
    "collapsed": false,
    "pycharm": {
     "name": "#%%\n"
    }
   }
  }
 ],
 "metadata": {
  "kernelspec": {
   "display_name": "Python 3",
   "language": "python",
   "name": "python3"
  },
  "language_info": {
   "codemirror_mode": {
    "name": "ipython",
    "version": 2
   },
   "file_extension": ".py",
   "mimetype": "text/x-python",
   "name": "python",
   "nbconvert_exporter": "python",
   "pygments_lexer": "ipython2",
   "version": "2.7.6"
  }
 },
 "nbformat": 4,
 "nbformat_minor": 0
}