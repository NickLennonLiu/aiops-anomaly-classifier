{
 "cells": [
  {
   "cell_type": "code",
   "execution_count": 3,
   "metadata": {
    "collapsed": true
   },
   "outputs": [],
   "source": [
    "import pandas\n",
    "import sklearn.metrics\n",
    "import torch\n",
    "import torch.nn as nn\n",
    "import numpy as np\n",
    "import scipy.stats as stats\n",
    "import matplotlib.pyplot as plt\n",
    "import importlib\n",
    "import src.params as params\n",
    "import src.model as model\n",
    "import src.main as main\n",
    "import src.dataloader as dataloader\n",
    "importlib.reload(dataloader)\n",
    "importlib.reload(model)\n",
    "import torch.nn.functional as F\n",
    "import src.dataloader as dataloader\n",
    "import pandas as pd\n",
    "from pandas import DataFrame\n",
    "from sklearn.preprocessing import StandardScaler"
   ]
  },
  {
   "cell_type": "code",
   "execution_count": 2,
   "outputs": [
    {
     "name": "stdout",
     "output_type": "stream",
     "text": [
      "Loading preprocessed data from /home/junetheriver/code/aiops/workdir/system_a/data_pre.pkl\n",
      "metric_num: 2152, kpi_num: 121, torch.Size([38880, 2153])\n"
     ]
    }
   ],
   "source": [
    "args = params.get_args(\"../config/system_a.yaml\")\n",
    "data,kpi_name = main.get_cmdb(args)\n",
    "train,valid,test = main.get_dataset(args)\n",
    "basic = model.Basic(args, data, kpi_name)"
   ],
   "metadata": {
    "collapsed": false,
    "pycharm": {
     "name": "#%%\n"
    }
   }
  },
  {
   "cell_type": "code",
   "execution_count": 4,
   "outputs": [],
   "source": [
    "df = pd.read_csv(\"../../workdir/system_a/ts.csv\")"
   ],
   "metadata": {
    "collapsed": false,
    "pycharm": {
     "name": "#%%\n"
    }
   }
  },
  {
   "cell_type": "code",
   "execution_count": 5,
   "outputs": [
    {
     "data": {
      "text/plain": "   Unnamed: 0  id  index  system.io.await  system.net.bytes_rcvd  \\\n0           0   0      0              0.0                2834.32   \n1           1   0      1              0.0                7579.49   \n2           2   0      2              0.0                4868.15   \n3           3   0      3              0.0                9075.92   \n4           4   0      4              0.0                7447.75   \n\n   system.net.udp.in_datagrams  system.net.bytes_sent  system.io.wrqm_s  \\\n0                         1.03                6207.08               0.0   \n1                         1.05                4740.14               0.0   \n2                         1.05                8800.13               0.0   \n3                         1.07               15296.17               0.0   \n4                         1.08               13647.97               0.0   \n\n   system.net.tcp.out_segs  haproxy.backend.session.time  ...  \\\n0                    47.13                           0.0  ...   \n1                    47.15                           0.0  ...   \n2                    54.05                           0.0  ...   \n3                    72.95                           0.0  ...   \n4                    68.58                           0.0  ...   \n\n   weblogic.webapp.sessions  system.disk.pct_usage  \\\n0                       0.0                  47.20   \n1                       0.0                  47.20   \n2                       0.0                  47.20   \n3                       0.0                  47.20   \n4                       0.0                  47.21   \n\n   haproxy.backend.session.rate  haproxy.frontend.response.2xx  \\\n0                           0.0                            0.0   \n1                           0.0                            0.0   \n2                           0.0                            0.0   \n3                           0.0                            0.0   \n4                           0.0                            0.0   \n\n   redis.mem.used  system.mem.real.used  system.fs.inodes.in_use  \\\n0             0.0               10439.0                     1.18   \n1             0.0               10181.0                     1.18   \n2             0.0               10195.0                     1.18   \n3             0.0               10071.0                     1.18   \n4             0.0               10071.0                     1.18   \n\n   haproxy.frontend.requests.rate  system.run_time  system.load.5  \n0                             0.0        3731006.2           0.10  \n1                             0.0        3731065.5           0.11  \n2                             0.0        3731125.5           0.11  \n3                             0.0        3731185.8           0.09  \n4                             0.0        3731246.0           0.07  \n\n[5 rows x 100 columns]",
      "text/html": "<div>\n<style scoped>\n    .dataframe tbody tr th:only-of-type {\n        vertical-align: middle;\n    }\n\n    .dataframe tbody tr th {\n        vertical-align: top;\n    }\n\n    .dataframe thead th {\n        text-align: right;\n    }\n</style>\n<table border=\"1\" class=\"dataframe\">\n  <thead>\n    <tr style=\"text-align: right;\">\n      <th></th>\n      <th>Unnamed: 0</th>\n      <th>id</th>\n      <th>index</th>\n      <th>system.io.await</th>\n      <th>system.net.bytes_rcvd</th>\n      <th>system.net.udp.in_datagrams</th>\n      <th>system.net.bytes_sent</th>\n      <th>system.io.wrqm_s</th>\n      <th>system.net.tcp.out_segs</th>\n      <th>haproxy.backend.session.time</th>\n      <th>...</th>\n      <th>weblogic.webapp.sessions</th>\n      <th>system.disk.pct_usage</th>\n      <th>haproxy.backend.session.rate</th>\n      <th>haproxy.frontend.response.2xx</th>\n      <th>redis.mem.used</th>\n      <th>system.mem.real.used</th>\n      <th>system.fs.inodes.in_use</th>\n      <th>haproxy.frontend.requests.rate</th>\n      <th>system.run_time</th>\n      <th>system.load.5</th>\n    </tr>\n  </thead>\n  <tbody>\n    <tr>\n      <th>0</th>\n      <td>0</td>\n      <td>0</td>\n      <td>0</td>\n      <td>0.0</td>\n      <td>2834.32</td>\n      <td>1.03</td>\n      <td>6207.08</td>\n      <td>0.0</td>\n      <td>47.13</td>\n      <td>0.0</td>\n      <td>...</td>\n      <td>0.0</td>\n      <td>47.20</td>\n      <td>0.0</td>\n      <td>0.0</td>\n      <td>0.0</td>\n      <td>10439.0</td>\n      <td>1.18</td>\n      <td>0.0</td>\n      <td>3731006.2</td>\n      <td>0.10</td>\n    </tr>\n    <tr>\n      <th>1</th>\n      <td>1</td>\n      <td>0</td>\n      <td>1</td>\n      <td>0.0</td>\n      <td>7579.49</td>\n      <td>1.05</td>\n      <td>4740.14</td>\n      <td>0.0</td>\n      <td>47.15</td>\n      <td>0.0</td>\n      <td>...</td>\n      <td>0.0</td>\n      <td>47.20</td>\n      <td>0.0</td>\n      <td>0.0</td>\n      <td>0.0</td>\n      <td>10181.0</td>\n      <td>1.18</td>\n      <td>0.0</td>\n      <td>3731065.5</td>\n      <td>0.11</td>\n    </tr>\n    <tr>\n      <th>2</th>\n      <td>2</td>\n      <td>0</td>\n      <td>2</td>\n      <td>0.0</td>\n      <td>4868.15</td>\n      <td>1.05</td>\n      <td>8800.13</td>\n      <td>0.0</td>\n      <td>54.05</td>\n      <td>0.0</td>\n      <td>...</td>\n      <td>0.0</td>\n      <td>47.20</td>\n      <td>0.0</td>\n      <td>0.0</td>\n      <td>0.0</td>\n      <td>10195.0</td>\n      <td>1.18</td>\n      <td>0.0</td>\n      <td>3731125.5</td>\n      <td>0.11</td>\n    </tr>\n    <tr>\n      <th>3</th>\n      <td>3</td>\n      <td>0</td>\n      <td>3</td>\n      <td>0.0</td>\n      <td>9075.92</td>\n      <td>1.07</td>\n      <td>15296.17</td>\n      <td>0.0</td>\n      <td>72.95</td>\n      <td>0.0</td>\n      <td>...</td>\n      <td>0.0</td>\n      <td>47.20</td>\n      <td>0.0</td>\n      <td>0.0</td>\n      <td>0.0</td>\n      <td>10071.0</td>\n      <td>1.18</td>\n      <td>0.0</td>\n      <td>3731185.8</td>\n      <td>0.09</td>\n    </tr>\n    <tr>\n      <th>4</th>\n      <td>4</td>\n      <td>0</td>\n      <td>4</td>\n      <td>0.0</td>\n      <td>7447.75</td>\n      <td>1.08</td>\n      <td>13647.97</td>\n      <td>0.0</td>\n      <td>68.58</td>\n      <td>0.0</td>\n      <td>...</td>\n      <td>0.0</td>\n      <td>47.21</td>\n      <td>0.0</td>\n      <td>0.0</td>\n      <td>0.0</td>\n      <td>10071.0</td>\n      <td>1.18</td>\n      <td>0.0</td>\n      <td>3731246.0</td>\n      <td>0.07</td>\n    </tr>\n  </tbody>\n</table>\n<p>5 rows × 100 columns</p>\n</div>"
     },
     "execution_count": 5,
     "metadata": {},
     "output_type": "execute_result"
    }
   ],
   "source": [
    "df.head()"
   ],
   "metadata": {
    "collapsed": false,
    "pycharm": {
     "name": "#%%\n"
    }
   }
  },
  {
   "cell_type": "code",
   "execution_count": 6,
   "outputs": [],
   "source": [
    "ss = StandardScaler()"
   ],
   "metadata": {
    "collapsed": false,
    "pycharm": {
     "name": "#%%\n"
    }
   }
  },
  {
   "cell_type": "code",
   "execution_count": 7,
   "outputs": [],
   "source": [
    "values = df.values"
   ],
   "metadata": {
    "collapsed": false,
    "pycharm": {
     "name": "#%%\n"
    }
   }
  },
  {
   "cell_type": "code",
   "execution_count": 13,
   "outputs": [],
   "source": [
    "values[:,3:] = ss.fit_transform(values[:,3:])"
   ],
   "metadata": {
    "collapsed": false,
    "pycharm": {
     "name": "#%%\n"
    }
   }
  },
  {
   "cell_type": "code",
   "execution_count": 11,
   "outputs": [
    {
     "data": {
      "text/plain": "array([4.31858612e-01, 1.52254536e+05, 9.20855270e+00, 2.12338312e+05,\n       3.50841722e+01, 5.22402470e+02, 4.52544987e+00, 2.17646553e+02,\n       4.40293573e+03, 4.16228792e-01, 4.92151535e+02, 6.23494936e+03,\n       2.90898792e+01, 9.14601542e-02, 2.05398458e-01, 4.51573522e+00,\n       8.72826403e+07, 1.82776350e-01, 5.64831877e+00, 4.47377892e-02,\n       2.00514139e-02, 1.47117352e+01, 9.25449871e-01, 1.57986237e+03,\n       3.85604113e-03, 4.35604113e-02, 4.20895617e+02, 1.90290488e-01,\n       4.46940874e-02, 1.28534704e-03, 9.74989717e+01, 1.98200514e-01,\n       7.22236504e-02, 5.54493573e-01, 4.29803342e+00, 4.46940874e-02,\n       3.08483290e-03, 5.08309693e+07, 9.55309434e+01, 4.21198715e+00,\n       4.29305913e-02, 5.26023907e+02, 8.23120217e+07, 4.24575835e+00,\n       4.77585907e+02, 1.79948586e-03, 4.57069409e-02, 9.30591260e-01,\n       4.26953470e+00, 5.14138817e-02, 1.73706530e+04, 2.88678663e-01,\n       2.96401028e-01, 2.84364756e+03, 1.97787817e+04, 7.90359382e+04,\n       6.06683805e-02, 6.23494936e+03, 2.84812596e+01, 1.46879177e-01,\n       1.26776350e+01, 4.81825193e+00, 1.16132010e+04, 2.75267352e-01,\n       1.67017995e+00, 5.96810283e+00, 4.43804627e-02, 5.65552699e-03,\n       5.26919254e+03, 6.03598972e-01, 3.69413779e+02, 3.06667352e+00,\n       6.34304113e+02, 2.84364756e+03, 1.11337558e+03, 1.78663239e-01,\n       4.40293573e+03, 2.84061697e+00, 2.54451928e+02, 3.64197429e+02,\n       3.55115681e-02, 1.51413882e-01, 3.27988483e+03, 1.88586118e+00,\n       6.12159383e-02, 2.62030848e+01, 9.18409512e+00, 6.96052348e+04,\n       3.65246992e+01, 1.60565553e+00, 1.88586118e+00, 2.93250550e+04,\n       7.91112879e+03, 1.38157841e+00, 1.61336761e+00, 3.32074185e+06,\n       2.83329049e-01])"
     },
     "execution_count": 11,
     "metadata": {},
     "output_type": "execute_result"
    }
   ],
   "source": [
    "ss.mean_"
   ],
   "metadata": {
    "collapsed": false,
    "pycharm": {
     "name": "#%%\n"
    }
   }
  },
  {
   "cell_type": "code",
   "execution_count": 19,
   "outputs": [],
   "source": [
    "new_df = DataFrame(values[:,1:])"
   ],
   "metadata": {
    "collapsed": false,
    "pycharm": {
     "name": "#%%\n"
    }
   }
  },
  {
   "cell_type": "code",
   "execution_count": 20,
   "outputs": [
    {
     "data": {
      "text/plain": "    0    1         2         3         4         5         6         7   \\\n0  0.0  0.0 -0.125178 -0.567428 -0.261788 -0.608013 -0.208925 -0.602919   \n1  0.0  1.0 -0.125178 -0.549408 -0.261148 -0.612340 -0.208925 -0.602893   \n2  0.0  2.0 -0.125178 -0.559704 -0.261148 -0.600364 -0.208925 -0.594140   \n3  0.0  3.0 -0.125178 -0.543725 -0.260508 -0.581203 -0.208925 -0.570164   \n4  0.0  4.0 -0.125178 -0.549908 -0.260188 -0.586065 -0.208925 -0.575708   \n\n         8         9   ...        89        90        91       92        93  \\\n0 -0.100101 -0.109432  ... -0.782101  0.913373 -0.262319 -0.24826 -0.071888   \n1 -0.100101 -0.109432  ... -0.782101  0.913373 -0.262319 -0.24826 -0.071888   \n2 -0.100101 -0.109432  ... -0.782101  0.913373 -0.262319 -0.24826 -0.071888   \n3 -0.100101 -0.109432  ... -0.782101  0.913373 -0.262319 -0.24826 -0.071888   \n4 -0.100101 -0.109432  ... -0.782101  0.914229 -0.262319 -0.24826 -0.071888   \n\n         94        95        96        97        98  \n0  0.615230 -0.292515 -0.260023  0.557870 -0.280821  \n1  0.552438 -0.292515 -0.260023  0.557951 -0.265503  \n2  0.555846 -0.292515 -0.260023  0.558032 -0.265503  \n3  0.525667 -0.292515 -0.260023  0.558114 -0.296139  \n4  0.525667 -0.292515 -0.260023  0.558196 -0.326775  \n\n[5 rows x 99 columns]",
      "text/html": "<div>\n<style scoped>\n    .dataframe tbody tr th:only-of-type {\n        vertical-align: middle;\n    }\n\n    .dataframe tbody tr th {\n        vertical-align: top;\n    }\n\n    .dataframe thead th {\n        text-align: right;\n    }\n</style>\n<table border=\"1\" class=\"dataframe\">\n  <thead>\n    <tr style=\"text-align: right;\">\n      <th></th>\n      <th>0</th>\n      <th>1</th>\n      <th>2</th>\n      <th>3</th>\n      <th>4</th>\n      <th>5</th>\n      <th>6</th>\n      <th>7</th>\n      <th>8</th>\n      <th>9</th>\n      <th>...</th>\n      <th>89</th>\n      <th>90</th>\n      <th>91</th>\n      <th>92</th>\n      <th>93</th>\n      <th>94</th>\n      <th>95</th>\n      <th>96</th>\n      <th>97</th>\n      <th>98</th>\n    </tr>\n  </thead>\n  <tbody>\n    <tr>\n      <th>0</th>\n      <td>0.0</td>\n      <td>0.0</td>\n      <td>-0.125178</td>\n      <td>-0.567428</td>\n      <td>-0.261788</td>\n      <td>-0.608013</td>\n      <td>-0.208925</td>\n      <td>-0.602919</td>\n      <td>-0.100101</td>\n      <td>-0.109432</td>\n      <td>...</td>\n      <td>-0.782101</td>\n      <td>0.913373</td>\n      <td>-0.262319</td>\n      <td>-0.24826</td>\n      <td>-0.071888</td>\n      <td>0.615230</td>\n      <td>-0.292515</td>\n      <td>-0.260023</td>\n      <td>0.557870</td>\n      <td>-0.280821</td>\n    </tr>\n    <tr>\n      <th>1</th>\n      <td>0.0</td>\n      <td>1.0</td>\n      <td>-0.125178</td>\n      <td>-0.549408</td>\n      <td>-0.261148</td>\n      <td>-0.612340</td>\n      <td>-0.208925</td>\n      <td>-0.602893</td>\n      <td>-0.100101</td>\n      <td>-0.109432</td>\n      <td>...</td>\n      <td>-0.782101</td>\n      <td>0.913373</td>\n      <td>-0.262319</td>\n      <td>-0.24826</td>\n      <td>-0.071888</td>\n      <td>0.552438</td>\n      <td>-0.292515</td>\n      <td>-0.260023</td>\n      <td>0.557951</td>\n      <td>-0.265503</td>\n    </tr>\n    <tr>\n      <th>2</th>\n      <td>0.0</td>\n      <td>2.0</td>\n      <td>-0.125178</td>\n      <td>-0.559704</td>\n      <td>-0.261148</td>\n      <td>-0.600364</td>\n      <td>-0.208925</td>\n      <td>-0.594140</td>\n      <td>-0.100101</td>\n      <td>-0.109432</td>\n      <td>...</td>\n      <td>-0.782101</td>\n      <td>0.913373</td>\n      <td>-0.262319</td>\n      <td>-0.24826</td>\n      <td>-0.071888</td>\n      <td>0.555846</td>\n      <td>-0.292515</td>\n      <td>-0.260023</td>\n      <td>0.558032</td>\n      <td>-0.265503</td>\n    </tr>\n    <tr>\n      <th>3</th>\n      <td>0.0</td>\n      <td>3.0</td>\n      <td>-0.125178</td>\n      <td>-0.543725</td>\n      <td>-0.260508</td>\n      <td>-0.581203</td>\n      <td>-0.208925</td>\n      <td>-0.570164</td>\n      <td>-0.100101</td>\n      <td>-0.109432</td>\n      <td>...</td>\n      <td>-0.782101</td>\n      <td>0.913373</td>\n      <td>-0.262319</td>\n      <td>-0.24826</td>\n      <td>-0.071888</td>\n      <td>0.525667</td>\n      <td>-0.292515</td>\n      <td>-0.260023</td>\n      <td>0.558114</td>\n      <td>-0.296139</td>\n    </tr>\n    <tr>\n      <th>4</th>\n      <td>0.0</td>\n      <td>4.0</td>\n      <td>-0.125178</td>\n      <td>-0.549908</td>\n      <td>-0.260188</td>\n      <td>-0.586065</td>\n      <td>-0.208925</td>\n      <td>-0.575708</td>\n      <td>-0.100101</td>\n      <td>-0.109432</td>\n      <td>...</td>\n      <td>-0.782101</td>\n      <td>0.914229</td>\n      <td>-0.262319</td>\n      <td>-0.24826</td>\n      <td>-0.071888</td>\n      <td>0.525667</td>\n      <td>-0.292515</td>\n      <td>-0.260023</td>\n      <td>0.558196</td>\n      <td>-0.326775</td>\n    </tr>\n  </tbody>\n</table>\n<p>5 rows × 99 columns</p>\n</div>"
     },
     "execution_count": 20,
     "metadata": {},
     "output_type": "execute_result"
    }
   ],
   "source": [
    "new_df.head()"
   ],
   "metadata": {
    "collapsed": false,
    "pycharm": {
     "name": "#%%\n"
    }
   }
  },
  {
   "cell_type": "code",
   "execution_count": 23,
   "outputs": [],
   "source": [
    "new_df.columns = df.columns[1:]"
   ],
   "metadata": {
    "collapsed": false,
    "pycharm": {
     "name": "#%%\n"
    }
   }
  },
  {
   "cell_type": "code",
   "execution_count": 24,
   "outputs": [
    {
     "data": {
      "text/plain": "    id  index  system.io.await  system.net.bytes_rcvd  \\\n0  0.0    0.0        -0.125178              -0.567428   \n1  0.0    1.0        -0.125178              -0.549408   \n2  0.0    2.0        -0.125178              -0.559704   \n3  0.0    3.0        -0.125178              -0.543725   \n4  0.0    4.0        -0.125178              -0.549908   \n\n   system.net.udp.in_datagrams  system.net.bytes_sent  system.io.wrqm_s  \\\n0                    -0.261788              -0.608013         -0.208925   \n1                    -0.261148              -0.612340         -0.208925   \n2                    -0.261148              -0.600364         -0.208925   \n3                    -0.260508              -0.581203         -0.208925   \n4                    -0.260188              -0.586065         -0.208925   \n\n   system.net.tcp.out_segs  haproxy.backend.session.time  system.io.wkb_s  \\\n0                -0.602919                     -0.100101        -0.109432   \n1                -0.602893                     -0.100101        -0.109432   \n2                -0.594140                     -0.100101        -0.109432   \n3                -0.570164                     -0.100101        -0.109432   \n4                -0.575708                     -0.100101        -0.109432   \n\n   ...  weblogic.webapp.sessions  system.disk.pct_usage  \\\n0  ...                 -0.782101               0.913373   \n1  ...                 -0.782101               0.913373   \n2  ...                 -0.782101               0.913373   \n3  ...                 -0.782101               0.913373   \n4  ...                 -0.782101               0.914229   \n\n   haproxy.backend.session.rate  haproxy.frontend.response.2xx  \\\n0                     -0.262319                       -0.24826   \n1                     -0.262319                       -0.24826   \n2                     -0.262319                       -0.24826   \n3                     -0.262319                       -0.24826   \n4                     -0.262319                       -0.24826   \n\n   redis.mem.used  system.mem.real.used  system.fs.inodes.in_use  \\\n0       -0.071888              0.615230                -0.292515   \n1       -0.071888              0.552438                -0.292515   \n2       -0.071888              0.555846                -0.292515   \n3       -0.071888              0.525667                -0.292515   \n4       -0.071888              0.525667                -0.292515   \n\n   haproxy.frontend.requests.rate  system.run_time  system.load.5  \n0                       -0.260023         0.557870      -0.280821  \n1                       -0.260023         0.557951      -0.265503  \n2                       -0.260023         0.558032      -0.265503  \n3                       -0.260023         0.558114      -0.296139  \n4                       -0.260023         0.558196      -0.326775  \n\n[5 rows x 99 columns]",
      "text/html": "<div>\n<style scoped>\n    .dataframe tbody tr th:only-of-type {\n        vertical-align: middle;\n    }\n\n    .dataframe tbody tr th {\n        vertical-align: top;\n    }\n\n    .dataframe thead th {\n        text-align: right;\n    }\n</style>\n<table border=\"1\" class=\"dataframe\">\n  <thead>\n    <tr style=\"text-align: right;\">\n      <th></th>\n      <th>id</th>\n      <th>index</th>\n      <th>system.io.await</th>\n      <th>system.net.bytes_rcvd</th>\n      <th>system.net.udp.in_datagrams</th>\n      <th>system.net.bytes_sent</th>\n      <th>system.io.wrqm_s</th>\n      <th>system.net.tcp.out_segs</th>\n      <th>haproxy.backend.session.time</th>\n      <th>system.io.wkb_s</th>\n      <th>...</th>\n      <th>weblogic.webapp.sessions</th>\n      <th>system.disk.pct_usage</th>\n      <th>haproxy.backend.session.rate</th>\n      <th>haproxy.frontend.response.2xx</th>\n      <th>redis.mem.used</th>\n      <th>system.mem.real.used</th>\n      <th>system.fs.inodes.in_use</th>\n      <th>haproxy.frontend.requests.rate</th>\n      <th>system.run_time</th>\n      <th>system.load.5</th>\n    </tr>\n  </thead>\n  <tbody>\n    <tr>\n      <th>0</th>\n      <td>0.0</td>\n      <td>0.0</td>\n      <td>-0.125178</td>\n      <td>-0.567428</td>\n      <td>-0.261788</td>\n      <td>-0.608013</td>\n      <td>-0.208925</td>\n      <td>-0.602919</td>\n      <td>-0.100101</td>\n      <td>-0.109432</td>\n      <td>...</td>\n      <td>-0.782101</td>\n      <td>0.913373</td>\n      <td>-0.262319</td>\n      <td>-0.24826</td>\n      <td>-0.071888</td>\n      <td>0.615230</td>\n      <td>-0.292515</td>\n      <td>-0.260023</td>\n      <td>0.557870</td>\n      <td>-0.280821</td>\n    </tr>\n    <tr>\n      <th>1</th>\n      <td>0.0</td>\n      <td>1.0</td>\n      <td>-0.125178</td>\n      <td>-0.549408</td>\n      <td>-0.261148</td>\n      <td>-0.612340</td>\n      <td>-0.208925</td>\n      <td>-0.602893</td>\n      <td>-0.100101</td>\n      <td>-0.109432</td>\n      <td>...</td>\n      <td>-0.782101</td>\n      <td>0.913373</td>\n      <td>-0.262319</td>\n      <td>-0.24826</td>\n      <td>-0.071888</td>\n      <td>0.552438</td>\n      <td>-0.292515</td>\n      <td>-0.260023</td>\n      <td>0.557951</td>\n      <td>-0.265503</td>\n    </tr>\n    <tr>\n      <th>2</th>\n      <td>0.0</td>\n      <td>2.0</td>\n      <td>-0.125178</td>\n      <td>-0.559704</td>\n      <td>-0.261148</td>\n      <td>-0.600364</td>\n      <td>-0.208925</td>\n      <td>-0.594140</td>\n      <td>-0.100101</td>\n      <td>-0.109432</td>\n      <td>...</td>\n      <td>-0.782101</td>\n      <td>0.913373</td>\n      <td>-0.262319</td>\n      <td>-0.24826</td>\n      <td>-0.071888</td>\n      <td>0.555846</td>\n      <td>-0.292515</td>\n      <td>-0.260023</td>\n      <td>0.558032</td>\n      <td>-0.265503</td>\n    </tr>\n    <tr>\n      <th>3</th>\n      <td>0.0</td>\n      <td>3.0</td>\n      <td>-0.125178</td>\n      <td>-0.543725</td>\n      <td>-0.260508</td>\n      <td>-0.581203</td>\n      <td>-0.208925</td>\n      <td>-0.570164</td>\n      <td>-0.100101</td>\n      <td>-0.109432</td>\n      <td>...</td>\n      <td>-0.782101</td>\n      <td>0.913373</td>\n      <td>-0.262319</td>\n      <td>-0.24826</td>\n      <td>-0.071888</td>\n      <td>0.525667</td>\n      <td>-0.292515</td>\n      <td>-0.260023</td>\n      <td>0.558114</td>\n      <td>-0.296139</td>\n    </tr>\n    <tr>\n      <th>4</th>\n      <td>0.0</td>\n      <td>4.0</td>\n      <td>-0.125178</td>\n      <td>-0.549908</td>\n      <td>-0.260188</td>\n      <td>-0.586065</td>\n      <td>-0.208925</td>\n      <td>-0.575708</td>\n      <td>-0.100101</td>\n      <td>-0.109432</td>\n      <td>...</td>\n      <td>-0.782101</td>\n      <td>0.914229</td>\n      <td>-0.262319</td>\n      <td>-0.24826</td>\n      <td>-0.071888</td>\n      <td>0.525667</td>\n      <td>-0.292515</td>\n      <td>-0.260023</td>\n      <td>0.558196</td>\n      <td>-0.326775</td>\n    </tr>\n  </tbody>\n</table>\n<p>5 rows × 99 columns</p>\n</div>"
     },
     "execution_count": 24,
     "metadata": {},
     "output_type": "execute_result"
    }
   ],
   "source": [
    "new_df.head()"
   ],
   "metadata": {
    "collapsed": false,
    "pycharm": {
     "name": "#%%\n"
    }
   }
  },
  {
   "cell_type": "code",
   "execution_count": 25,
   "outputs": [],
   "source": [
    "new_df.to_csv(\"../../workdir/system_a/ts_scaled.csv\")"
   ],
   "metadata": {
    "collapsed": false,
    "pycharm": {
     "name": "#%%\n"
    }
   }
  },
  {
   "cell_type": "code",
   "execution_count": 27,
   "outputs": [],
   "source": [
    "new_df.id.max()\n",
    "ts = new_df"
   ],
   "metadata": {
    "collapsed": false,
    "pycharm": {
     "name": "#%%\n"
    }
   }
  },
  {
   "cell_type": "code",
   "execution_count": 29,
   "outputs": [],
   "source": [
    "des_l = []\n",
    "for idx in range(int(ts.id.max())+1):\n",
    "    des_df = ts[ts.id == idx].describe()[1:].iloc[:,2:]\n",
    "    des_l.append(des_df)"
   ],
   "metadata": {
    "collapsed": false,
    "pycharm": {
     "name": "#%%\n"
    }
   }
  },
  {
   "cell_type": "code",
   "execution_count": 38,
   "outputs": [
    {
     "data": {
      "text/plain": "      system.io.await  system.net.bytes_rcvd  system.net.udp.in_datagrams  \\\nmean        -0.007785              -0.509995                    -0.261244   \nstd          0.142685               0.013983                     0.000724   \nmin         -0.125178              -0.534014                    -0.262108   \n25%         -0.125178              -0.521613                    -0.261788   \n50%         -0.059960              -0.505733                    -0.261468   \n75%          0.055259              -0.499491                    -0.260668   \nmax          0.228450              -0.493870                    -0.260188   \n\n      system.net.bytes_sent  system.io.wrqm_s  system.net.tcp.out_segs  \\\nmean              -0.540165         -0.138358                -0.512312   \nstd                0.020584          0.148430                 0.022595   \nmin               -0.577101         -0.208925                -0.549867   \n25%               -0.554900         -0.208925                -0.529823   \n50%               -0.535669         -0.208925                -0.507750   \n75%               -0.527118         -0.200737                -0.497376   \nmax               -0.512317          0.204945                -0.478091   \n\n      haproxy.backend.session.time  system.io.wkb_s  \\\nmean                     -0.100101        -0.059153   \nstd                       0.000000         0.061875   \nmin                      -0.100101        -0.109432   \n25%                      -0.100101        -0.109432   \n50%                      -0.100101        -0.092840   \n75%                      -0.100101        -0.012644   \nmax                      -0.100101         0.043418   \n\n      redis.replication.backlog_histlen  system.io.w_await  ...  \\\nmean                      -7.188846e-02          -0.003192  ...   \nstd                        1.462847e-17           0.139927  ...   \nmin                       -7.188846e-02          -0.118316  ...   \n25%                       -7.188846e-02          -0.118316  ...   \n50%                       -7.188846e-02          -0.054358  ...   \n75%                       -7.188846e-02           0.058634  ...   \nmax                       -7.188846e-02           0.228477  ...   \n\n      weblogic.webapp.sessions  system.disk.pct_usage  \\\nmean                  2.967302               0.642663   \nstd                   0.000071               0.000442   \nmin                   2.967227               0.642150   \n25%                   2.967227               0.642150   \n50%                   2.967335               0.643005   \n75%                   2.967335               0.643005   \nmax                   2.967436               0.643005   \n\n      haproxy.backend.session.rate  haproxy.frontend.response.2xx  \\\nmean                     -0.262319                  -2.482596e-01   \nstd                       0.000000                   2.925695e-17   \nmin                      -0.262319                  -2.482596e-01   \n25%                      -0.262319                  -2.482596e-01   \n50%                      -0.262319                  -2.482596e-01   \n75%                      -0.262319                  -2.482596e-01   \nmax                      -0.262319                  -2.482596e-01   \n\n      redis.mem.used  system.mem.real.used  system.fs.inodes.in_use  \\\nmean       -0.071888              0.826166            -2.925148e-01   \nstd         0.000000              0.022790             5.851389e-17   \nmin        -0.071888              0.801171            -2.925148e-01   \n25%        -0.071888              0.805978            -2.925148e-01   \n50%        -0.071888              0.825874            -2.925148e-01   \n75%        -0.071888              0.831533            -2.925148e-01   \nmax        -0.071888              0.863476            -2.925148e-01   \n\n      haproxy.frontend.requests.rate  system.run_time  system.load.5  \nmean                       -0.260023         0.203253      -0.210359  \nstd                         0.000000         0.000247       0.034023  \nmin                        -0.260023         0.202886      -0.250185  \n25%                        -0.260023         0.203070      -0.234867  \n50%                        -0.260023         0.203253      -0.211891  \n75%                        -0.260023         0.203437      -0.192743  \nmax                        -0.260023         0.203621      -0.158278  \n\n[7 rows x 97 columns]",
      "text/html": "<div>\n<style scoped>\n    .dataframe tbody tr th:only-of-type {\n        vertical-align: middle;\n    }\n\n    .dataframe tbody tr th {\n        vertical-align: top;\n    }\n\n    .dataframe thead th {\n        text-align: right;\n    }\n</style>\n<table border=\"1\" class=\"dataframe\">\n  <thead>\n    <tr style=\"text-align: right;\">\n      <th></th>\n      <th>system.io.await</th>\n      <th>system.net.bytes_rcvd</th>\n      <th>system.net.udp.in_datagrams</th>\n      <th>system.net.bytes_sent</th>\n      <th>system.io.wrqm_s</th>\n      <th>system.net.tcp.out_segs</th>\n      <th>haproxy.backend.session.time</th>\n      <th>system.io.wkb_s</th>\n      <th>redis.replication.backlog_histlen</th>\n      <th>system.io.w_await</th>\n      <th>...</th>\n      <th>weblogic.webapp.sessions</th>\n      <th>system.disk.pct_usage</th>\n      <th>haproxy.backend.session.rate</th>\n      <th>haproxy.frontend.response.2xx</th>\n      <th>redis.mem.used</th>\n      <th>system.mem.real.used</th>\n      <th>system.fs.inodes.in_use</th>\n      <th>haproxy.frontend.requests.rate</th>\n      <th>system.run_time</th>\n      <th>system.load.5</th>\n    </tr>\n  </thead>\n  <tbody>\n    <tr>\n      <th>mean</th>\n      <td>-0.007785</td>\n      <td>-0.509995</td>\n      <td>-0.261244</td>\n      <td>-0.540165</td>\n      <td>-0.138358</td>\n      <td>-0.512312</td>\n      <td>-0.100101</td>\n      <td>-0.059153</td>\n      <td>-7.188846e-02</td>\n      <td>-0.003192</td>\n      <td>...</td>\n      <td>2.967302</td>\n      <td>0.642663</td>\n      <td>-0.262319</td>\n      <td>-2.482596e-01</td>\n      <td>-0.071888</td>\n      <td>0.826166</td>\n      <td>-2.925148e-01</td>\n      <td>-0.260023</td>\n      <td>0.203253</td>\n      <td>-0.210359</td>\n    </tr>\n    <tr>\n      <th>std</th>\n      <td>0.142685</td>\n      <td>0.013983</td>\n      <td>0.000724</td>\n      <td>0.020584</td>\n      <td>0.148430</td>\n      <td>0.022595</td>\n      <td>0.000000</td>\n      <td>0.061875</td>\n      <td>1.462847e-17</td>\n      <td>0.139927</td>\n      <td>...</td>\n      <td>0.000071</td>\n      <td>0.000442</td>\n      <td>0.000000</td>\n      <td>2.925695e-17</td>\n      <td>0.000000</td>\n      <td>0.022790</td>\n      <td>5.851389e-17</td>\n      <td>0.000000</td>\n      <td>0.000247</td>\n      <td>0.034023</td>\n    </tr>\n    <tr>\n      <th>min</th>\n      <td>-0.125178</td>\n      <td>-0.534014</td>\n      <td>-0.262108</td>\n      <td>-0.577101</td>\n      <td>-0.208925</td>\n      <td>-0.549867</td>\n      <td>-0.100101</td>\n      <td>-0.109432</td>\n      <td>-7.188846e-02</td>\n      <td>-0.118316</td>\n      <td>...</td>\n      <td>2.967227</td>\n      <td>0.642150</td>\n      <td>-0.262319</td>\n      <td>-2.482596e-01</td>\n      <td>-0.071888</td>\n      <td>0.801171</td>\n      <td>-2.925148e-01</td>\n      <td>-0.260023</td>\n      <td>0.202886</td>\n      <td>-0.250185</td>\n    </tr>\n    <tr>\n      <th>25%</th>\n      <td>-0.125178</td>\n      <td>-0.521613</td>\n      <td>-0.261788</td>\n      <td>-0.554900</td>\n      <td>-0.208925</td>\n      <td>-0.529823</td>\n      <td>-0.100101</td>\n      <td>-0.109432</td>\n      <td>-7.188846e-02</td>\n      <td>-0.118316</td>\n      <td>...</td>\n      <td>2.967227</td>\n      <td>0.642150</td>\n      <td>-0.262319</td>\n      <td>-2.482596e-01</td>\n      <td>-0.071888</td>\n      <td>0.805978</td>\n      <td>-2.925148e-01</td>\n      <td>-0.260023</td>\n      <td>0.203070</td>\n      <td>-0.234867</td>\n    </tr>\n    <tr>\n      <th>50%</th>\n      <td>-0.059960</td>\n      <td>-0.505733</td>\n      <td>-0.261468</td>\n      <td>-0.535669</td>\n      <td>-0.208925</td>\n      <td>-0.507750</td>\n      <td>-0.100101</td>\n      <td>-0.092840</td>\n      <td>-7.188846e-02</td>\n      <td>-0.054358</td>\n      <td>...</td>\n      <td>2.967335</td>\n      <td>0.643005</td>\n      <td>-0.262319</td>\n      <td>-2.482596e-01</td>\n      <td>-0.071888</td>\n      <td>0.825874</td>\n      <td>-2.925148e-01</td>\n      <td>-0.260023</td>\n      <td>0.203253</td>\n      <td>-0.211891</td>\n    </tr>\n    <tr>\n      <th>75%</th>\n      <td>0.055259</td>\n      <td>-0.499491</td>\n      <td>-0.260668</td>\n      <td>-0.527118</td>\n      <td>-0.200737</td>\n      <td>-0.497376</td>\n      <td>-0.100101</td>\n      <td>-0.012644</td>\n      <td>-7.188846e-02</td>\n      <td>0.058634</td>\n      <td>...</td>\n      <td>2.967335</td>\n      <td>0.643005</td>\n      <td>-0.262319</td>\n      <td>-2.482596e-01</td>\n      <td>-0.071888</td>\n      <td>0.831533</td>\n      <td>-2.925148e-01</td>\n      <td>-0.260023</td>\n      <td>0.203437</td>\n      <td>-0.192743</td>\n    </tr>\n    <tr>\n      <th>max</th>\n      <td>0.228450</td>\n      <td>-0.493870</td>\n      <td>-0.260188</td>\n      <td>-0.512317</td>\n      <td>0.204945</td>\n      <td>-0.478091</td>\n      <td>-0.100101</td>\n      <td>0.043418</td>\n      <td>-7.188846e-02</td>\n      <td>0.228477</td>\n      <td>...</td>\n      <td>2.967436</td>\n      <td>0.643005</td>\n      <td>-0.262319</td>\n      <td>-2.482596e-01</td>\n      <td>-0.071888</td>\n      <td>0.863476</td>\n      <td>-2.925148e-01</td>\n      <td>-0.260023</td>\n      <td>0.203621</td>\n      <td>-0.158278</td>\n    </tr>\n  </tbody>\n</table>\n<p>7 rows × 97 columns</p>\n</div>"
     },
     "execution_count": 38,
     "metadata": {},
     "output_type": "execute_result"
    }
   ],
   "source": [
    "des_l[15]"
   ],
   "metadata": {
    "collapsed": false,
    "pycharm": {
     "name": "#%%\n"
    }
   }
  },
  {
   "cell_type": "code",
   "execution_count": 39,
   "outputs": [],
   "source": [
    "des_tensor = []\n",
    "for df in des_l:\n",
    "    des_tensor.append(torch.tensor(df.values).flatten())\n",
    "statistical_features = torch.stack(des_tensor)"
   ],
   "metadata": {
    "collapsed": false,
    "pycharm": {
     "name": "#%%\n"
    }
   }
  },
  {
   "cell_type": "code",
   "execution_count": 41,
   "outputs": [
    {
     "data": {
      "text/plain": "torch.Size([389, 679])"
     },
     "execution_count": 41,
     "metadata": {},
     "output_type": "execute_result"
    }
   ],
   "source": [
    "statistical_features.shape"
   ],
   "metadata": {
    "collapsed": false,
    "pycharm": {
     "name": "#%%\n"
    }
   }
  },
  {
   "cell_type": "code",
   "execution_count": 42,
   "outputs": [],
   "source": [
    "torch.save(statistical_features, \"../../workdir/system_a/stat_feature_scaled.txt\")"
   ],
   "metadata": {
    "collapsed": false,
    "pycharm": {
     "name": "#%%\n"
    }
   }
  },
  {
   "cell_type": "code",
   "execution_count": 43,
   "outputs": [],
   "source": [
    "import scipy"
   ],
   "metadata": {
    "collapsed": false,
    "pycharm": {
     "name": "#%%\n"
    }
   }
  },
  {
   "cell_type": "code",
   "execution_count": 44,
   "outputs": [],
   "source": [
    "from scipy.fft import fft, ifft"
   ],
   "metadata": {
    "collapsed": false,
    "pycharm": {
     "name": "#%%\n"
    }
   }
  },
  {
   "cell_type": "code",
   "execution_count": 59,
   "outputs": [],
   "source": [
    "a = abs(torch.fft.fft(torch.tensor(new_df.values[:10,2:]))).to(torch.float32)"
   ],
   "metadata": {
    "collapsed": false,
    "pycharm": {
     "name": "#%%\n"
    }
   }
  },
  {
   "cell_type": "code",
   "execution_count": 51,
   "outputs": [
    {
     "data": {
      "text/plain": "(3890, 99)"
     },
     "execution_count": 51,
     "metadata": {},
     "output_type": "execute_result"
    }
   ],
   "source": [
    "new_df.values.shape"
   ],
   "metadata": {
    "collapsed": false,
    "pycharm": {
     "name": "#%%\n"
    }
   }
  },
  {
   "cell_type": "code",
   "execution_count": 55,
   "outputs": [
    {
     "data": {
      "text/plain": "torch.Size([10, 97])"
     },
     "execution_count": 55,
     "metadata": {},
     "output_type": "execute_result"
    }
   ],
   "source": [
    "a.shape"
   ],
   "metadata": {
    "collapsed": false,
    "pycharm": {
     "name": "#%%\n"
    }
   }
  },
  {
   "cell_type": "code",
   "execution_count": 60,
   "outputs": [
    {
     "data": {
      "text/plain": "tensor([[ 0.7048, -2.3714,  4.5877,  2.6997, -2.0173,  2.9363, -1.2145, -0.3125,\n         -0.1531,  0.0144],\n        [ 0.6127, -2.3813,  4.6752,  2.6446, -1.9629,  2.8087, -1.1502, -0.3813,\n         -0.1658, -0.0432],\n        [ 0.6066, -2.4083,  4.6588,  2.7244, -1.9962,  2.7783, -1.1864, -0.3555,\n         -0.1952,  0.0369],\n        [ 0.6016, -2.5774,  4.5557,  2.8688, -2.0031,  2.5841, -1.1934, -0.3128,\n         -0.2597,  0.0643],\n        [ 0.6116, -2.5988,  4.5759,  2.9260, -2.0188,  2.5759, -1.1997, -0.3394,\n         -0.2569,  0.0680],\n        [ 0.6677, -2.4920,  4.5945,  2.8315, -1.9841,  2.7226, -1.2324, -0.3449,\n         -0.1915,  0.1040],\n        [ 0.6488, -2.5909,  4.5854,  2.8789, -2.0079,  2.6809, -1.2186, -0.3297,\n         -0.2900,  0.0447],\n        [ 0.6477, -2.6717,  4.6251,  2.9331, -2.0509,  2.6471, -1.2651, -0.2953,\n         -0.2836,  0.0990],\n        [ 0.5428, -2.6389,  4.7094,  2.8388, -1.9256,  2.5499, -1.2296, -0.3864,\n         -0.3595,  0.0928],\n        [ 0.7909, -2.7256,  4.4149,  2.0037, -1.6731,  2.6492, -0.9016, -0.4185,\n         -0.2287,  0.6193]], grad_fn=<AddmmBackward0>)"
     },
     "execution_count": 60,
     "metadata": {},
     "output_type": "execute_result"
    }
   ],
   "source": [
    "l1 = nn.Linear(97, 10)\n",
    "l1(a)"
   ],
   "metadata": {
    "collapsed": false,
    "pycharm": {
     "name": "#%%\n"
    }
   }
  },
  {
   "cell_type": "code",
   "execution_count": null,
   "outputs": [],
   "source": [],
   "metadata": {
    "collapsed": false,
    "pycharm": {
     "name": "#%%\n"
    }
   }
  }
 ],
 "metadata": {
  "kernelspec": {
   "display_name": "Python 3",
   "language": "python",
   "name": "python3"
  },
  "language_info": {
   "codemirror_mode": {
    "name": "ipython",
    "version": 2
   },
   "file_extension": ".py",
   "mimetype": "text/x-python",
   "name": "python",
   "nbconvert_exporter": "python",
   "pygments_lexer": "ipython2",
   "version": "2.7.6"
  }
 },
 "nbformat": 4,
 "nbformat_minor": 0
}