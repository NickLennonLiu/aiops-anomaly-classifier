{
 "cells": [
  {
   "cell_type": "code",
   "execution_count": 3,
   "metadata": {
    "collapsed": true
   },
   "outputs": [
    {
     "data": {
      "text/plain": "<module 'src.model' from '/home/junetheriver/code/aiops/src/model.py'>"
     },
     "execution_count": 3,
     "metadata": {},
     "output_type": "execute_result"
    }
   ],
   "source": [
    "import src.net as net\n",
    "import sklearn.metrics\n",
    "import torch.nn as nn\n",
    "import numpy as np\n",
    "import scipy.stats as stats\n",
    "import matplotlib.pyplot as plt\n",
    "import importlib\n",
    "import src.params as params\n",
    "import src.main as main\n",
    "import src.dataloader as dataloader\n",
    "import torch.nn.functional as F\n",
    "import pandas as pd\n",
    "from pandas import DataFrame\n",
    "from sklearn.preprocessing import StandardScaler\n",
    "import src.preprocess as preprocess\n",
    "from copy import copy\n",
    "import src.feature_extraction as feature_extraction\n",
    "import sys, os, torch\n",
    "importlib.reload(dataloader)\n",
    "importlib.reload(preprocess)\n",
    "importlib.reload(feature_extraction)\n",
    "importlib.reload(net)"
   ]
  },
  {
   "cell_type": "code",
   "execution_count": 51,
   "outputs": [
    {
     "ename": "AssertionError",
     "evalue": "err",
     "output_type": "error",
     "traceback": [
      "\u001B[0;31m---------------------------------------------------------------------------\u001B[0m",
      "\u001B[0;31mAssertionError\u001B[0m                            Traceback (most recent call last)",
      "Input \u001B[0;32mIn [51]\u001B[0m, in \u001B[0;36m<cell line: 10>\u001B[0;34m()\u001B[0m\n\u001B[1;32m      7\u001B[0m a \u001B[38;5;241m=\u001B[39m torch\u001B[38;5;241m.\u001B[39mrand((\u001B[38;5;241m1\u001B[39m,window,nf))  \u001B[38;5;66;03m# batch x series length x num_features\u001B[39;00m\n\u001B[1;32m      8\u001B[0m a \u001B[38;5;241m=\u001B[39m a\u001B[38;5;241m.\u001B[39mpermute(\u001B[38;5;241m0\u001B[39m,\u001B[38;5;241m2\u001B[39m,\u001B[38;5;241m1\u001B[39m)\n\u001B[0;32m---> 10\u001B[0m \u001B[38;5;28;01massert\u001B[39;00m window \u001B[38;5;241m+\u001B[39m \u001B[38;5;241m2\u001B[39m \u001B[38;5;241m*\u001B[39m padding \u001B[38;5;241m>\u001B[39m\u001B[38;5;241m=\u001B[39m kernel_size, \u001B[38;5;124m\"\u001B[39m\u001B[38;5;124merr\u001B[39m\u001B[38;5;124m\"\u001B[39m\n\u001B[1;32m     11\u001B[0m conv \u001B[38;5;241m=\u001B[39m md\u001B[38;5;241m.\u001B[39mSepConv1d(nf, no, kernel_size, stride, padding)   \u001B[38;5;66;03m# ni, no, kernel, stride, pad\u001B[39;00m\n\u001B[1;32m     14\u001B[0m \u001B[38;5;28mprint\u001B[39m(conv(a)\u001B[38;5;241m.\u001B[39mshape[\u001B[38;5;241m2\u001B[39m], \u001B[38;5;28mint\u001B[39m((window \u001B[38;5;241m-\u001B[39m kernel_size \u001B[38;5;241m+\u001B[39m padding\u001B[38;5;241m*\u001B[39m\u001B[38;5;241m2\u001B[39m \u001B[38;5;241m+\u001B[39m stride)\u001B[38;5;241m/\u001B[39m stride))\n",
      "\u001B[0;31mAssertionError\u001B[0m: err"
     ]
    }
   ],
   "source": [
    "window = 1\n",
    "nf = 760\n",
    "no = 128\n",
    "kernel_size = 4\n",
    "stride = 2\n",
    "padding = 1\n",
    "a = torch.rand((1,window,nf))  # batch x series length x num_features\n",
    "a = a.permute(0,2,1)\n",
    "\n",
    "assert window + 2 * padding >= kernel_size, \"err\"\n",
    "conv = net.SepConv1d(nf, no, kernel_size, stride, padding)   # ni, no, kernel, stride, pad\n",
    "\n",
    "\n",
    "print(conv(a).shape[2], int((window - kernel_size + padding*2 + stride)/ stride))"
   ],
   "metadata": {
    "collapsed": false,
    "pycharm": {
     "name": "#%%\n"
    }
   }
  },
  {
   "cell_type": "code",
   "execution_count": 15,
   "outputs": [
    {
     "ename": "NameError",
     "evalue": "name 'nf' is not defined",
     "output_type": "error",
     "traceback": [
      "\u001B[0;31m---------------------------------------------------------------------------\u001B[0m",
      "\u001B[0;31mNameError\u001B[0m                                 Traceback (most recent call last)",
      "Input \u001B[0;32mIn [15]\u001B[0m, in \u001B[0;36m<cell line: 1>\u001B[0;34m()\u001B[0m\n\u001B[0;32m----> 1\u001B[0m conv \u001B[38;5;241m=\u001B[39m md\u001B[38;5;241m.\u001B[39mSepConv1d(\u001B[43mnf\u001B[49m, no, kernel_size, stride, padding)   \u001B[38;5;66;03m# ni, no, kernel, stride, pad\u001B[39;00m\n\u001B[1;32m      2\u001B[0m \u001B[38;5;28;01massert\u001B[39;00m conv(a)\u001B[38;5;241m.\u001B[39mshape[\u001B[38;5;241m2\u001B[39m] \u001B[38;5;241m==\u001B[39m window \u001B[38;5;241m-\u001B[39m kernel_size \u001B[38;5;241m+\u001B[39m padding \u001B[38;5;241m+\u001B[39m \u001B[38;5;241m1\u001B[39m\n",
      "\u001B[0;31mNameError\u001B[0m: name 'nf' is not defined"
     ]
    }
   ],
   "source": [],
   "metadata": {
    "collapsed": false,
    "pycharm": {
     "name": "#%%\n"
    }
   }
  },
  {
   "cell_type": "code",
   "execution_count": null,
   "outputs": [],
   "source": [],
   "metadata": {
    "collapsed": false,
    "pycharm": {
     "name": "#%%\n"
    }
   }
  }
 ],
 "metadata": {
  "kernelspec": {
   "display_name": "Python 3",
   "language": "python",
   "name": "python3"
  },
  "language_info": {
   "codemirror_mode": {
    "name": "ipython",
    "version": 2
   },
   "file_extension": ".py",
   "mimetype": "text/x-python",
   "name": "python",
   "nbconvert_exporter": "python",
   "pygments_lexer": "ipython2",
   "version": "2.7.6"
  }
 },
 "nbformat": 4,
 "nbformat_minor": 0
}