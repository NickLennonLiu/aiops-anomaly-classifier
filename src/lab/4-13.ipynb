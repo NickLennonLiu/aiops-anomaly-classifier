{
 "cells": [
  {
   "cell_type": "code",
   "execution_count": 1,
   "metadata": {
    "collapsed": true
   },
   "outputs": [],
   "source": [
    "import sklearn.metrics\n",
    "import torch\n",
    "import torch.nn as nn\n",
    "import numpy as np\n",
    "import scipy.stats as stats\n",
    "import matplotlib.pyplot as plt\n",
    "import importlib\n",
    "import src.params as params\n",
    "import src.model as model\n",
    "import src.main as main\n",
    "import src.dataloader as dataloader\n",
    "importlib.reload(dataloader)\n",
    "importlib.reload(model)\n",
    "import torch.nn.functional as F"
   ]
  },
  {
   "cell_type": "code",
   "execution_count": 3,
   "outputs": [
    {
     "name": "stdout",
     "output_type": "stream",
     "text": [
      "Loading preprocessed data from /home/junetheriver/code/aiops/workdir/system_a/data_pre.pkl\n",
      "Loaded ground truth from gt_pre.pkl\n",
      "[140  79  24  39  27  21  23  36]\n",
      "metric_num: 2152, kpi_num: 121, torch.Size([38880, 2153])\n"
     ]
    }
   ],
   "source": [
    "args = params.get_args(\"../config/system_a.yaml\")\n",
    "data,kpi_name = main.get_cmdb(args)\n",
    "train,valid,test = main.get_dataset(args)\n",
    "basic = model.Basic(args, data, kpi_name)"
   ],
   "metadata": {
    "collapsed": false,
    "pycharm": {
     "name": "#%%\n"
    }
   }
  },
  {
   "cell_type": "code",
   "execution_count": 8,
   "outputs": [
    {
     "data": {
      "text/plain": "torch.Size([38880, 2153])"
     },
     "execution_count": 8,
     "metadata": {},
     "output_type": "execute_result"
    }
   ],
   "source": [
    "basic.data.shape"
   ],
   "metadata": {
    "collapsed": false,
    "pycharm": {
     "name": "#%%\n"
    }
   }
  },
  {
   "cell_type": "code",
   "execution_count": 27,
   "outputs": [],
   "source": [
    "metric_dt = {}\n",
    "for l in range(8):\n",
    "    metric_dt[l] = set()\n",
    "for x,y in train:\n",
    "    cmdb_id, timestamp = x\n",
    "    cmdb_idx = basic.cmdb_idx[cmdb_id]\n",
    "    y = np.argmax(y)\n",
    "    a = model.get_kpi_at_time(basic.data, cmdb_idx, timestamp, 10)\n",
    "    b = model.get_kpi_at_time(basic.data, cmdb_idx, timestamp-10, 20)\n",
    "    for i in range(basic.kpi_num):\n",
    "        p = stats.ks_2samp(a[:,i], b[:,i])[1]\n",
    "        if p < 0.05:\n",
    "            # print(p)\n",
    "            metric_dt[y].add(list(basic.kpi_set)[i])"
   ],
   "metadata": {
    "collapsed": false,
    "pycharm": {
     "name": "#%%\n"
    }
   }
  },
  {
   "cell_type": "code",
   "execution_count": 34,
   "outputs": [],
   "source": [
    "import pandas as pd\n",
    "max_len = 0\n",
    "for i in metric_dt.values():\n",
    "    if max_len < len(i):\n",
    "        max_len = len(i)\n",
    "for k, i in metric_dt.items():\n",
    "    i = list(i)\n",
    "    while len(i) < max_len:\n",
    "        i.append('')\n",
    "    i.sort()\n",
    "    i.reverse()\n",
    "    metric_dt[k] = i"
   ],
   "metadata": {
    "collapsed": false,
    "pycharm": {
     "name": "#%%\n"
    }
   }
  },
  {
   "cell_type": "code",
   "execution_count": 35,
   "outputs": [],
   "source": [
    "df = pd.DataFrame(metric_dt)\n",
    "df.to_csv(\"../../workdir/system_a/kstest_kpi.csv\")"
   ],
   "metadata": {
    "collapsed": false,
    "pycharm": {
     "name": "#%%\n"
    }
   }
  },
  {
   "cell_type": "code",
   "execution_count": 36,
   "outputs": [],
   "source": [
    "from sklearn import tree"
   ],
   "metadata": {
    "collapsed": false,
    "pycharm": {
     "name": "#%%\n"
    }
   }
  },
  {
   "cell_type": "code",
   "execution_count": 37,
   "outputs": [
    {
     "name": "stdout",
     "output_type": "stream",
     "text": [
      "Loaded ground truth from gt_pre.pkl\n",
      "[140  79  24  39  27  21  23  36]\n"
     ]
    }
   ],
   "source": [
    "\n",
    "dataset = dataloader.MyDataset(args)"
   ],
   "metadata": {
    "collapsed": false,
    "pycharm": {
     "name": "#%%\n"
    }
   }
  },
  {
   "cell_type": "code",
   "execution_count": 57,
   "outputs": [],
   "source": [
    "X = [np.array(basic.data[int(x[1]), :2152]) for x, y in dataset]\n",
    "Y = [np.argmax(y) for x, y in dataset]"
   ],
   "metadata": {
    "collapsed": false,
    "pycharm": {
     "name": "#%%\n"
    }
   }
  },
  {
   "cell_type": "code",
   "execution_count": 60,
   "outputs": [
    {
     "data": {
      "text/plain": "311.20000000000005"
     },
     "execution_count": 60,
     "metadata": {},
     "output_type": "execute_result"
    }
   ],
   "source": [
    "len(X) * 0.8"
   ],
   "metadata": {
    "collapsed": false,
    "pycharm": {
     "name": "#%%\n"
    }
   }
  },
  {
   "cell_type": "code",
   "execution_count": 77,
   "outputs": [],
   "source": [],
   "metadata": {
    "collapsed": false,
    "pycharm": {
     "name": "#%%\n"
    }
   }
  },
  {
   "cell_type": "code",
   "execution_count": 78,
   "outputs": [],
   "source": [],
   "metadata": {
    "collapsed": false,
    "pycharm": {
     "name": "#%%\n"
    }
   }
  },
  {
   "cell_type": "code",
   "execution_count": 87,
   "outputs": [
    {
     "name": "stdout",
     "output_type": "stream",
     "text": [
      "0.2948717948717949\n"
     ]
    },
    {
     "data": {
      "text/plain": "array([0.45714286, 0.27027027, 0.        , 0.14285714, 0.        ,\n       0.        , 0.        , 0.125     ])"
     },
     "execution_count": 87,
     "metadata": {},
     "output_type": "execute_result"
    }
   ],
   "source": [
    "clf = tree.DecisionTreeClassifier(max_depth=9)\n",
    "X_train = X[:311]\n",
    "Y_train = Y[:311]\n",
    "clf = clf.fit(X_train, Y_train)\n",
    "X_test = X[311:]\n",
    "Y_test = Y[311:]\n",
    "Y_predict = clf.predict(X_test)\n",
    "import sklearn\n",
    "print(sklearn.metrics.accuracy_score(Y_test, Y_predict))\n",
    "sklearn.metrics.f1_score(Y_test, Y_predict, average=None)"
   ],
   "metadata": {
    "collapsed": false,
    "pycharm": {
     "name": "#%%\n"
    }
   }
  },
  {
   "cell_type": "code",
   "execution_count": 76,
   "outputs": [
    {
     "data": {
      "text/plain": "[Text(0.48719507334183676, 0.9705882352941176, 'X[848] <= 4139.0\\ngini = 0.807\\nsamples = 311\\nvalue = [106, 63, 24, 33, 20, 19, 23, 23]'),\n Text(0.1916454081632653, 0.9117647058823529, 'X[789] <= 11450.255\\ngini = 0.865\\nsamples = 99\\nvalue = [15, 14, 16, 16, 10, 9, 13, 6]'),\n Text(0.13903061224489796, 0.8529411764705882, 'X[1610] <= 5.135\\ngini = 0.375\\nsamples = 8\\nvalue = [0, 0, 0, 2, 0, 0, 6, 0]'),\n Text(0.1288265306122449, 0.7941176470588235, 'gini = 0.0\\nsamples = 6\\nvalue = [0, 0, 0, 0, 0, 0, 6, 0]'),\n Text(0.14923469387755103, 0.7941176470588235, 'gini = 0.0\\nsamples = 2\\nvalue = [0, 0, 0, 2, 0, 0, 0, 0]'),\n Text(0.24426020408163265, 0.8529411764705882, 'X[1140] <= 0.225\\ngini = 0.862\\nsamples = 91\\nvalue = [15, 14, 16, 14, 10, 9, 7, 6]'),\n Text(0.16964285714285715, 0.7941176470588235, 'X[217] <= 0.47\\ngini = 0.829\\nsamples = 50\\nvalue = [3, 6, 15, 8, 4, 5, 7, 2]'),\n Text(0.11479591836734694, 0.7352941176470589, 'X[1732] <= 15.5\\ngini = 0.741\\nsamples = 35\\nvalue = [1, 6, 15, 1, 1, 4, 6, 1]'),\n Text(0.0663265306122449, 0.6764705882352942, 'X[1197] <= 489.0\\ngini = 0.645\\nsamples = 27\\nvalue = [1, 5, 15, 1, 1, 2, 1, 1]'),\n Text(0.02040816326530612, 0.6176470588235294, 'X[1250] <= 7635.0\\ngini = 0.612\\nsamples = 7\\nvalue = [1, 4, 0, 1, 1, 0, 0, 0]'),\n Text(0.01020408163265306, 0.5588235294117647, 'gini = 0.0\\nsamples = 4\\nvalue = [0, 4, 0, 0, 0, 0, 0, 0]'),\n Text(0.030612244897959183, 0.5588235294117647, 'X[2097] <= 41883354.0\\ngini = 0.667\\nsamples = 3\\nvalue = [1, 0, 0, 1, 1, 0, 0, 0]'),\n Text(0.02040816326530612, 0.5, 'gini = 0.0\\nsamples = 1\\nvalue = [0, 0, 0, 1, 0, 0, 0, 0]'),\n Text(0.04081632653061224, 0.5, 'X[2122] <= 44.895\\ngini = 0.5\\nsamples = 2\\nvalue = [1, 0, 0, 0, 1, 0, 0, 0]'),\n Text(0.030612244897959183, 0.4411764705882353, 'gini = 0.0\\nsamples = 1\\nvalue = [0, 0, 0, 0, 1, 0, 0, 0]'),\n Text(0.05102040816326531, 0.4411764705882353, 'gini = 0.0\\nsamples = 1\\nvalue = [1, 0, 0, 0, 0, 0, 0, 0]'),\n Text(0.11224489795918367, 0.6176470588235294, 'X[1230] <= 0.005\\ngini = 0.42\\nsamples = 20\\nvalue = [0, 1, 15, 0, 0, 2, 1, 1]'),\n Text(0.10204081632653061, 0.5588235294117647, 'X[1605] <= 6.88\\ngini = 0.296\\nsamples = 18\\nvalue = [0, 1, 15, 0, 0, 0, 1, 1]'),\n Text(0.08163265306122448, 0.5, 'X[676] <= 1.26\\ngini = 0.117\\nsamples = 16\\nvalue = [0, 0, 15, 0, 0, 0, 0, 1]'),\n Text(0.07142857142857142, 0.4411764705882353, 'gini = 0.0\\nsamples = 15\\nvalue = [0, 0, 15, 0, 0, 0, 0, 0]'),\n Text(0.09183673469387756, 0.4411764705882353, 'gini = 0.0\\nsamples = 1\\nvalue = [0, 0, 0, 0, 0, 0, 0, 1]'),\n Text(0.12244897959183673, 0.5, 'X[560] <= 588.095\\ngini = 0.5\\nsamples = 2\\nvalue = [0, 1, 0, 0, 0, 0, 1, 0]'),\n Text(0.11224489795918367, 0.4411764705882353, 'gini = 0.0\\nsamples = 1\\nvalue = [0, 1, 0, 0, 0, 0, 0, 0]'),\n Text(0.1326530612244898, 0.4411764705882353, 'gini = 0.0\\nsamples = 1\\nvalue = [0, 0, 0, 0, 0, 0, 1, 0]'),\n Text(0.12244897959183673, 0.5588235294117647, 'gini = 0.0\\nsamples = 2\\nvalue = [0, 0, 0, 0, 0, 2, 0, 0]'),\n Text(0.16326530612244897, 0.6764705882352942, 'X[2012] <= 0.065\\ngini = 0.531\\nsamples = 8\\nvalue = [0, 1, 0, 0, 0, 2, 5, 0]'),\n Text(0.15306122448979592, 0.6176470588235294, 'X[995] <= 2416.0\\ngini = 0.444\\nsamples = 3\\nvalue = [0, 1, 0, 0, 0, 2, 0, 0]'),\n Text(0.14285714285714285, 0.5588235294117647, 'gini = 0.0\\nsamples = 1\\nvalue = [0, 1, 0, 0, 0, 0, 0, 0]'),\n Text(0.16326530612244897, 0.5588235294117647, 'gini = 0.0\\nsamples = 2\\nvalue = [0, 0, 0, 0, 0, 2, 0, 0]'),\n Text(0.17346938775510204, 0.6176470588235294, 'gini = 0.0\\nsamples = 5\\nvalue = [0, 0, 0, 0, 0, 0, 5, 0]'),\n Text(0.22448979591836735, 0.7352941176470589, 'X[1599] <= 28.365\\ngini = 0.711\\nsamples = 15\\nvalue = [2, 0, 0, 7, 3, 1, 1, 1]'),\n Text(0.21428571428571427, 0.6764705882352942, 'X[167] <= 2632.7\\ngini = 0.611\\nsamples = 12\\nvalue = [2, 0, 0, 7, 0, 1, 1, 1]'),\n Text(0.19387755102040816, 0.6176470588235294, 'X[1895] <= 4815.5\\ngini = 0.625\\nsamples = 4\\nvalue = [2, 0, 0, 0, 0, 0, 1, 1]'),\n Text(0.1836734693877551, 0.5588235294117647, 'gini = 0.0\\nsamples = 2\\nvalue = [2, 0, 0, 0, 0, 0, 0, 0]'),\n Text(0.20408163265306123, 0.5588235294117647, 'X[563] <= 45417.19\\ngini = 0.5\\nsamples = 2\\nvalue = [0, 0, 0, 0, 0, 0, 1, 1]'),\n Text(0.19387755102040816, 0.5, 'gini = 0.0\\nsamples = 1\\nvalue = [0, 0, 0, 0, 0, 0, 0, 1]'),\n Text(0.21428571428571427, 0.5, 'gini = 0.0\\nsamples = 1\\nvalue = [0, 0, 0, 0, 0, 0, 1, 0]'),\n Text(0.23469387755102042, 0.6176470588235294, 'X[2117] <= 0.105\\ngini = 0.219\\nsamples = 8\\nvalue = [0, 0, 0, 7, 0, 1, 0, 0]'),\n Text(0.22448979591836735, 0.5588235294117647, 'gini = 0.0\\nsamples = 1\\nvalue = [0, 0, 0, 0, 0, 1, 0, 0]'),\n Text(0.24489795918367346, 0.5588235294117647, 'gini = 0.0\\nsamples = 7\\nvalue = [0, 0, 0, 7, 0, 0, 0, 0]'),\n Text(0.23469387755102042, 0.6764705882352942, 'gini = 0.0\\nsamples = 3\\nvalue = [0, 0, 0, 0, 3, 0, 0, 0]'),\n Text(0.31887755102040816, 0.7941176470588235, 'X[15] <= 13.41\\ngini = 0.814\\nsamples = 41\\nvalue = [12, 8, 1, 6, 6, 4, 0, 4]'),\n Text(0.2755102040816326, 0.7352941176470589, 'X[1753] <= 0.055\\ngini = 0.462\\nsamples = 13\\nvalue = [9, 3, 1, 0, 0, 0, 0, 0]'),\n Text(0.2653061224489796, 0.6764705882352942, 'X[1353] <= 0.565\\ngini = 0.56\\nsamples = 5\\nvalue = [1, 3, 1, 0, 0, 0, 0, 0]'),\n Text(0.25510204081632654, 0.6176470588235294, 'gini = 0.0\\nsamples = 3\\nvalue = [0, 3, 0, 0, 0, 0, 0, 0]'),\n Text(0.2755102040816326, 0.6176470588235294, 'X[532] <= 7872.825\\ngini = 0.5\\nsamples = 2\\nvalue = [1, 0, 1, 0, 0, 0, 0, 0]'),\n Text(0.2653061224489796, 0.5588235294117647, 'gini = 0.0\\nsamples = 1\\nvalue = [0, 0, 1, 0, 0, 0, 0, 0]'),\n Text(0.2857142857142857, 0.5588235294117647, 'gini = 0.0\\nsamples = 1\\nvalue = [1, 0, 0, 0, 0, 0, 0, 0]'),\n Text(0.2857142857142857, 0.6764705882352942, 'gini = 0.0\\nsamples = 8\\nvalue = [8, 0, 0, 0, 0, 0, 0, 0]'),\n Text(0.3622448979591837, 0.7352941176470589, 'X[1907] <= 0.235\\ngini = 0.824\\nsamples = 28\\nvalue = [3, 5, 0, 6, 6, 4, 0, 4]'),\n Text(0.336734693877551, 0.6764705882352942, 'X[766] <= 4.69\\ngini = 0.802\\nsamples = 22\\nvalue = [3, 5, 0, 6, 1, 3, 0, 4]'),\n Text(0.3163265306122449, 0.6176470588235294, 'X[1908] <= 0.125\\ngini = 0.449\\nsamples = 7\\nvalue = [1, 5, 0, 0, 1, 0, 0, 0]'),\n Text(0.30612244897959184, 0.5588235294117647, 'X[1968] <= 2239.11\\ngini = 0.5\\nsamples = 2\\nvalue = [1, 0, 0, 0, 1, 0, 0, 0]'),\n Text(0.29591836734693877, 0.5, 'gini = 0.0\\nsamples = 1\\nvalue = [1, 0, 0, 0, 0, 0, 0, 0]'),\n Text(0.3163265306122449, 0.5, 'gini = 0.0\\nsamples = 1\\nvalue = [0, 0, 0, 0, 1, 0, 0, 0]'),\n Text(0.32653061224489793, 0.5588235294117647, 'gini = 0.0\\nsamples = 5\\nvalue = [0, 5, 0, 0, 0, 0, 0, 0]'),\n Text(0.35714285714285715, 0.6176470588235294, 'X[1485] <= 5.5\\ngini = 0.711\\nsamples = 15\\nvalue = [2, 0, 0, 6, 0, 3, 0, 4]'),\n Text(0.3469387755102041, 0.5588235294117647, 'gini = 0.0\\nsamples = 3\\nvalue = [0, 0, 0, 0, 0, 3, 0, 0]'),\n Text(0.3673469387755102, 0.5588235294117647, 'X[875] <= 0.085\\ngini = 0.611\\nsamples = 12\\nvalue = [2, 0, 0, 6, 0, 0, 0, 4]'),\n Text(0.35714285714285715, 0.5, 'X[929] <= 2.165\\ngini = 0.571\\nsamples = 7\\nvalue = [2, 0, 0, 1, 0, 0, 0, 4]'),\n Text(0.3469387755102041, 0.4411764705882353, 'X[1006] <= 162.5\\ngini = 0.444\\nsamples = 3\\nvalue = [2, 0, 0, 1, 0, 0, 0, 0]'),\n Text(0.336734693877551, 0.38235294117647056, 'gini = 0.0\\nsamples = 1\\nvalue = [0, 0, 0, 1, 0, 0, 0, 0]'),\n Text(0.35714285714285715, 0.38235294117647056, 'gini = 0.0\\nsamples = 2\\nvalue = [2, 0, 0, 0, 0, 0, 0, 0]'),\n Text(0.3673469387755102, 0.4411764705882353, 'gini = 0.0\\nsamples = 4\\nvalue = [0, 0, 0, 0, 0, 0, 0, 4]'),\n Text(0.37755102040816324, 0.5, 'gini = 0.0\\nsamples = 5\\nvalue = [0, 0, 0, 5, 0, 0, 0, 0]'),\n Text(0.3877551020408163, 0.6764705882352942, 'X[2067] <= 2185.5\\ngini = 0.278\\nsamples = 6\\nvalue = [0, 0, 0, 0, 5, 1, 0, 0]'),\n Text(0.37755102040816324, 0.6176470588235294, 'gini = 0.0\\nsamples = 5\\nvalue = [0, 0, 0, 0, 5, 0, 0, 0]'),\n Text(0.3979591836734694, 0.6176470588235294, 'gini = 0.0\\nsamples = 1\\nvalue = [0, 0, 0, 0, 0, 1, 0, 0]'),\n Text(0.7827447385204082, 0.9117647058823529, 'X[700] <= 20.785\\ngini = 0.741\\nsamples = 212\\nvalue = [91, 49, 8, 17, 10, 10, 10, 17]'),\n Text(0.6063058035714286, 0.8529411764705882, 'X[1466] <= 0.005\\ngini = 0.775\\nsamples = 168\\nvalue = [60, 45, 8, 15, 7, 9, 10, 14]'),\n Text(0.45918367346938777, 0.7941176470588235, 'X[59] <= 4.5\\ngini = 0.565\\nsamples = 19\\nvalue = [1, 12, 1, 1, 0, 1, 3, 0]'),\n Text(0.4489795918367347, 0.7352941176470589, 'X[85] <= 1006.615\\ngini = 0.422\\nsamples = 16\\nvalue = [1, 12, 1, 1, 0, 1, 0, 0]'),\n Text(0.42857142857142855, 0.6764705882352942, 'X[2107] <= 60516444.0\\ngini = 0.667\\nsamples = 3\\nvalue = [1, 0, 0, 1, 0, 1, 0, 0]'),\n Text(0.41836734693877553, 0.6176470588235294, 'gini = 0.0\\nsamples = 1\\nvalue = [0, 0, 0, 0, 0, 1, 0, 0]'),\n Text(0.4387755102040816, 0.6176470588235294, 'X[222] <= 27944.0\\ngini = 0.5\\nsamples = 2\\nvalue = [1, 0, 0, 1, 0, 0, 0, 0]'),\n Text(0.42857142857142855, 0.5588235294117647, 'gini = 0.0\\nsamples = 1\\nvalue = [0, 0, 0, 1, 0, 0, 0, 0]'),\n Text(0.4489795918367347, 0.5588235294117647, 'gini = 0.0\\nsamples = 1\\nvalue = [1, 0, 0, 0, 0, 0, 0, 0]'),\n Text(0.46938775510204084, 0.6764705882352942, 'X[102] <= 0.565\\ngini = 0.142\\nsamples = 13\\nvalue = [0, 12, 1, 0, 0, 0, 0, 0]'),\n Text(0.45918367346938777, 0.6176470588235294, 'gini = 0.0\\nsamples = 1\\nvalue = [0, 0, 1, 0, 0, 0, 0, 0]'),\n Text(0.47959183673469385, 0.6176470588235294, 'gini = 0.0\\nsamples = 12\\nvalue = [0, 12, 0, 0, 0, 0, 0, 0]'),\n Text(0.46938775510204084, 0.7352941176470589, 'gini = 0.0\\nsamples = 3\\nvalue = [0, 0, 0, 0, 0, 0, 3, 0]'),\n Text(0.7534279336734694, 0.7941176470588235, 'X[1955] <= 6.25\\ngini = 0.767\\nsamples = 149\\nvalue = [59, 33, 7, 14, 7, 8, 7, 14]'),\n Text(0.6650191326530612, 0.7352941176470589, 'X[2018] <= 52.5\\ngini = 0.791\\nsamples = 119\\nvalue = [39, 31, 6, 14, 6, 5, 6, 12]'),\n Text(0.5998086734693877, 0.6764705882352942, 'X[545] <= 57.345\\ngini = 0.804\\nsamples = 110\\nvalue = [31, 31, 6, 14, 6, 5, 6, 11]'),\n Text(0.5, 0.6176470588235294, 'X[276] <= 0.035\\ngini = 0.673\\nsamples = 34\\nvalue = [17, 4, 2, 8, 2, 0, 1, 0]'),\n Text(0.47959183673469385, 0.5588235294117647, 'X[2082] <= 8.5\\ngini = 0.726\\nsamples = 21\\nvalue = [6, 4, 0, 8, 2, 0, 1, 0]'),\n Text(0.46938775510204084, 0.5, 'X[783] <= 6.0\\ngini = 0.664\\nsamples = 16\\nvalue = [1, 4, 0, 8, 2, 0, 1, 0]'),\n Text(0.4489795918367347, 0.4411764705882353, 'X[774] <= 0.975\\ngini = 0.446\\nsamples = 11\\nvalue = [1, 0, 0, 8, 1, 0, 1, 0]'),\n Text(0.4387755102040816, 0.38235294117647056, 'X[532] <= 4632.53\\ngini = 0.667\\nsamples = 3\\nvalue = [1, 0, 0, 0, 1, 0, 1, 0]'),\n Text(0.42857142857142855, 0.3235294117647059, 'gini = 0.0\\nsamples = 1\\nvalue = [1, 0, 0, 0, 0, 0, 0, 0]'),\n Text(0.4489795918367347, 0.3235294117647059, 'X[1270] <= 0.25\\ngini = 0.5\\nsamples = 2\\nvalue = [0, 0, 0, 0, 1, 0, 1, 0]'),\n Text(0.4387755102040816, 0.2647058823529412, 'gini = 0.0\\nsamples = 1\\nvalue = [0, 0, 0, 0, 0, 0, 1, 0]'),\n Text(0.45918367346938777, 0.2647058823529412, 'gini = 0.0\\nsamples = 1\\nvalue = [0, 0, 0, 0, 1, 0, 0, 0]'),\n Text(0.45918367346938777, 0.38235294117647056, 'gini = 0.0\\nsamples = 8\\nvalue = [0, 0, 0, 8, 0, 0, 0, 0]'),\n Text(0.4897959183673469, 0.4411764705882353, 'X[2100] <= 694.825\\ngini = 0.32\\nsamples = 5\\nvalue = [0, 4, 0, 0, 1, 0, 0, 0]'),\n Text(0.47959183673469385, 0.38235294117647056, 'gini = 0.0\\nsamples = 4\\nvalue = [0, 4, 0, 0, 0, 0, 0, 0]'),\n Text(0.5, 0.38235294117647056, 'gini = 0.0\\nsamples = 1\\nvalue = [0, 0, 0, 0, 1, 0, 0, 0]'),\n Text(0.4897959183673469, 0.5, 'gini = 0.0\\nsamples = 5\\nvalue = [5, 0, 0, 0, 0, 0, 0, 0]'),\n Text(0.5204081632653061, 0.5588235294117647, 'X[825] <= 10619.0\\ngini = 0.26\\nsamples = 13\\nvalue = [11, 0, 2, 0, 0, 0, 0, 0]'),\n Text(0.5102040816326531, 0.5, 'gini = 0.0\\nsamples = 11\\nvalue = [11, 0, 0, 0, 0, 0, 0, 0]'),\n Text(0.5306122448979592, 0.5, 'gini = 0.0\\nsamples = 2\\nvalue = [0, 0, 2, 0, 0, 0, 0, 0]'),\n Text(0.6996173469387755, 0.6176470588235294, 'X[629] <= 0.095\\ngini = 0.798\\nsamples = 76\\nvalue = [14, 27, 4, 6, 4, 5, 5, 11]'),\n Text(0.6441326530612245, 0.5588235294117647, 'X[1174] <= 98.69\\ngini = 0.772\\nsamples = 60\\nvalue = [5, 25, 3, 5, 4, 5, 4, 9]'),\n Text(0.5943877551020408, 0.5, 'X[1943] <= 5.275\\ngini = 0.717\\nsamples = 51\\nvalue = [5, 25, 3, 4, 3, 5, 1, 5]'),\n Text(0.5459183673469388, 0.4411764705882353, 'X[682] <= 358.0\\ngini = 0.481\\nsamples = 31\\nvalue = [0, 22, 1, 1, 2, 2, 1, 2]'),\n Text(0.5204081632653061, 0.38235294117647056, 'X[896] <= 29.82\\ngini = 0.326\\nsamples = 27\\nvalue = [0, 22, 1, 0, 2, 0, 1, 1]'),\n Text(0.5, 0.3235294117647059, 'X[338] <= 2151.17\\ngini = 0.72\\nsamples = 5\\nvalue = [0, 1, 0, 0, 2, 0, 1, 1]'),\n Text(0.4897959183673469, 0.2647058823529412, 'X[789] <= 20220.89\\ngini = 0.667\\nsamples = 3\\nvalue = [0, 1, 0, 0, 0, 0, 1, 1]'),\n Text(0.47959183673469385, 0.20588235294117646, 'gini = 0.0\\nsamples = 1\\nvalue = [0, 0, 0, 0, 0, 0, 1, 0]'),\n Text(0.5, 0.20588235294117646, 'X[1692] <= 19.78\\ngini = 0.5\\nsamples = 2\\nvalue = [0, 1, 0, 0, 0, 0, 0, 1]'),\n Text(0.4897959183673469, 0.14705882352941177, 'gini = 0.0\\nsamples = 1\\nvalue = [0, 1, 0, 0, 0, 0, 0, 0]'),\n Text(0.5102040816326531, 0.14705882352941177, 'gini = 0.0\\nsamples = 1\\nvalue = [0, 0, 0, 0, 0, 0, 0, 1]'),\n Text(0.5102040816326531, 0.2647058823529412, 'gini = 0.0\\nsamples = 2\\nvalue = [0, 0, 0, 0, 2, 0, 0, 0]'),\n Text(0.5408163265306123, 0.3235294117647059, 'X[73] <= 9.68\\ngini = 0.087\\nsamples = 22\\nvalue = [0, 21, 1, 0, 0, 0, 0, 0]'),\n Text(0.5306122448979592, 0.2647058823529412, 'gini = 0.0\\nsamples = 1\\nvalue = [0, 0, 1, 0, 0, 0, 0, 0]'),\n Text(0.5510204081632653, 0.2647058823529412, 'gini = 0.0\\nsamples = 21\\nvalue = [0, 21, 0, 0, 0, 0, 0, 0]'),\n Text(0.5714285714285714, 0.38235294117647056, 'X[779] <= 48176.0\\ngini = 0.625\\nsamples = 4\\nvalue = [0, 0, 0, 1, 0, 2, 0, 1]'),\n Text(0.5612244897959183, 0.3235294117647059, 'gini = 0.0\\nsamples = 2\\nvalue = [0, 0, 0, 0, 0, 2, 0, 0]'),\n Text(0.5816326530612245, 0.3235294117647059, 'X[1927] <= 0.055\\ngini = 0.5\\nsamples = 2\\nvalue = [0, 0, 0, 1, 0, 0, 0, 1]'),\n Text(0.5714285714285714, 0.2647058823529412, 'gini = 0.0\\nsamples = 1\\nvalue = [0, 0, 0, 1, 0, 0, 0, 0]'),\n Text(0.5918367346938775, 0.2647058823529412, 'gini = 0.0\\nsamples = 1\\nvalue = [0, 0, 0, 0, 0, 0, 0, 1]'),\n Text(0.6428571428571429, 0.4411764705882353, 'X[844] <= 3138.785\\ngini = 0.835\\nsamples = 20\\nvalue = [5, 3, 2, 3, 1, 3, 0, 3]'),\n Text(0.6326530612244898, 0.38235294117647056, 'X[1365] <= 1430.875\\ngini = 0.803\\nsamples = 17\\nvalue = [5, 3, 2, 0, 1, 3, 0, 3]'),\n Text(0.6224489795918368, 0.3235294117647059, 'X[1219] <= 0.015\\ngini = 0.805\\nsamples = 13\\nvalue = [1, 3, 2, 0, 1, 3, 0, 3]'),\n Text(0.6122448979591837, 0.2647058823529412, 'X[2056] <= 135.0\\ngini = 0.76\\nsamples = 10\\nvalue = [1, 3, 2, 0, 1, 0, 0, 3]'),\n Text(0.6020408163265306, 0.20588235294117646, 'gini = 0.0\\nsamples = 3\\nvalue = [0, 0, 0, 0, 0, 0, 0, 3]'),\n Text(0.6224489795918368, 0.20588235294117646, 'X[931] <= 1.34\\ngini = 0.694\\nsamples = 7\\nvalue = [1, 3, 2, 0, 1, 0, 0, 0]'),\n Text(0.6122448979591837, 0.14705882352941177, 'gini = 0.0\\nsamples = 3\\nvalue = [0, 3, 0, 0, 0, 0, 0, 0]'),\n Text(0.6326530612244898, 0.14705882352941177, 'X[294] <= 2.195\\ngini = 0.625\\nsamples = 4\\nvalue = [1, 0, 2, 0, 1, 0, 0, 0]'),\n Text(0.6224489795918368, 0.08823529411764706, 'X[2132] <= 5.465\\ngini = 0.5\\nsamples = 2\\nvalue = [1, 0, 0, 0, 1, 0, 0, 0]'),\n Text(0.6122448979591837, 0.029411764705882353, 'gini = 0.0\\nsamples = 1\\nvalue = [1, 0, 0, 0, 0, 0, 0, 0]'),\n Text(0.6326530612244898, 0.029411764705882353, 'gini = 0.0\\nsamples = 1\\nvalue = [0, 0, 0, 0, 1, 0, 0, 0]'),\n Text(0.6428571428571429, 0.08823529411764706, 'gini = 0.0\\nsamples = 2\\nvalue = [0, 0, 2, 0, 0, 0, 0, 0]'),\n Text(0.6326530612244898, 0.2647058823529412, 'gini = 0.0\\nsamples = 3\\nvalue = [0, 0, 0, 0, 0, 3, 0, 0]'),\n Text(0.6428571428571429, 0.3235294117647059, 'gini = 0.0\\nsamples = 4\\nvalue = [4, 0, 0, 0, 0, 0, 0, 0]'),\n Text(0.6530612244897959, 0.38235294117647056, 'gini = 0.0\\nsamples = 3\\nvalue = [0, 0, 0, 3, 0, 0, 0, 0]'),\n Text(0.6938775510204082, 0.5, 'X[438] <= 0.055\\ngini = 0.667\\nsamples = 9\\nvalue = [0, 0, 0, 1, 1, 0, 3, 4]'),\n Text(0.6836734693877551, 0.4411764705882353, 'X[858] <= 93.5\\ngini = 0.56\\nsamples = 5\\nvalue = [0, 0, 0, 1, 1, 0, 3, 0]'),\n Text(0.673469387755102, 0.38235294117647056, 'gini = 0.0\\nsamples = 3\\nvalue = [0, 0, 0, 0, 0, 0, 3, 0]'),\n Text(0.6938775510204082, 0.38235294117647056, 'X[857] <= 12503.22\\ngini = 0.5\\nsamples = 2\\nvalue = [0, 0, 0, 1, 1, 0, 0, 0]'),\n Text(0.6836734693877551, 0.3235294117647059, 'gini = 0.0\\nsamples = 1\\nvalue = [0, 0, 0, 1, 0, 0, 0, 0]'),\n Text(0.7040816326530612, 0.3235294117647059, 'gini = 0.0\\nsamples = 1\\nvalue = [0, 0, 0, 0, 1, 0, 0, 0]'),\n Text(0.7040816326530612, 0.4411764705882353, 'gini = 0.0\\nsamples = 4\\nvalue = [0, 0, 0, 0, 0, 0, 0, 4]'),\n Text(0.7551020408163265, 0.5588235294117647, 'X[1057] <= 1.38\\ngini = 0.641\\nsamples = 16\\nvalue = [9, 2, 1, 1, 0, 0, 1, 2]'),\n Text(0.7346938775510204, 0.5, 'X[378] <= 1.0\\ngini = 0.722\\nsamples = 6\\nvalue = [0, 2, 0, 1, 0, 0, 1, 2]'),\n Text(0.7244897959183674, 0.4411764705882353, 'gini = 0.0\\nsamples = 2\\nvalue = [0, 0, 0, 0, 0, 0, 0, 2]'),\n Text(0.7448979591836735, 0.4411764705882353, 'X[319] <= 16.835\\ngini = 0.625\\nsamples = 4\\nvalue = [0, 2, 0, 1, 0, 0, 1, 0]'),\n Text(0.7346938775510204, 0.38235294117647056, 'gini = 0.0\\nsamples = 2\\nvalue = [0, 2, 0, 0, 0, 0, 0, 0]'),\n Text(0.7551020408163265, 0.38235294117647056, 'X[49] <= 60625318.0\\ngini = 0.5\\nsamples = 2\\nvalue = [0, 0, 0, 1, 0, 0, 1, 0]'),\n Text(0.7448979591836735, 0.3235294117647059, 'gini = 0.0\\nsamples = 1\\nvalue = [0, 0, 0, 0, 0, 0, 1, 0]'),\n Text(0.7653061224489796, 0.3235294117647059, 'gini = 0.0\\nsamples = 1\\nvalue = [0, 0, 0, 1, 0, 0, 0, 0]'),\n Text(0.7755102040816326, 0.5, 'X[1264] <= 20.55\\ngini = 0.18\\nsamples = 10\\nvalue = [9, 0, 1, 0, 0, 0, 0, 0]'),\n Text(0.7653061224489796, 0.4411764705882353, 'gini = 0.0\\nsamples = 1\\nvalue = [0, 0, 1, 0, 0, 0, 0, 0]'),\n Text(0.7857142857142857, 0.4411764705882353, 'gini = 0.0\\nsamples = 9\\nvalue = [9, 0, 0, 0, 0, 0, 0, 0]'),\n Text(0.7302295918367347, 0.6764705882352942, 'X[1010] <= 689.5\\ngini = 0.198\\nsamples = 9\\nvalue = [8, 0, 0, 0, 0, 0, 0, 1]'),\n Text(0.7200255102040817, 0.6176470588235294, 'gini = 0.0\\nsamples = 1\\nvalue = [0, 0, 0, 0, 0, 0, 0, 1]'),\n Text(0.7404336734693877, 0.6176470588235294, 'gini = 0.0\\nsamples = 8\\nvalue = [8, 0, 0, 0, 0, 0, 0, 0]'),\n Text(0.8418367346938775, 0.7352941176470589, 'X[522] <= 0.045\\ngini = 0.533\\nsamples = 30\\nvalue = [20, 2, 1, 0, 1, 3, 1, 2]'),\n Text(0.8163265306122449, 0.6764705882352942, 'X[859] <= 49784.25\\ngini = 0.349\\nsamples = 25\\nvalue = [20, 1, 1, 0, 1, 0, 0, 2]'),\n Text(0.8061224489795918, 0.6176470588235294, 'gini = 0.0\\nsamples = 2\\nvalue = [0, 0, 0, 0, 0, 0, 0, 2]'),\n Text(0.826530612244898, 0.6176470588235294, 'X[2002] <= 13.235\\ngini = 0.238\\nsamples = 23\\nvalue = [20, 1, 1, 0, 1, 0, 0, 0]'),\n Text(0.8061224489795918, 0.5588235294117647, 'X[1717] <= 9.0\\ngini = 0.5\\nsamples = 2\\nvalue = [0, 1, 1, 0, 0, 0, 0, 0]'),\n Text(0.7959183673469388, 0.5, 'gini = 0.0\\nsamples = 1\\nvalue = [0, 1, 0, 0, 0, 0, 0, 0]'),\n Text(0.8163265306122449, 0.5, 'gini = 0.0\\nsamples = 1\\nvalue = [0, 0, 1, 0, 0, 0, 0, 0]'),\n Text(0.8469387755102041, 0.5588235294117647, 'X[1911] <= 1.01\\ngini = 0.091\\nsamples = 21\\nvalue = [20, 0, 0, 0, 1, 0, 0, 0]'),\n Text(0.8367346938775511, 0.5, 'gini = 0.0\\nsamples = 20\\nvalue = [20, 0, 0, 0, 0, 0, 0, 0]'),\n Text(0.8571428571428571, 0.5, 'gini = 0.0\\nsamples = 1\\nvalue = [0, 0, 0, 0, 1, 0, 0, 0]'),\n Text(0.8673469387755102, 0.6764705882352942, 'X[481] <= 3524.5\\ngini = 0.56\\nsamples = 5\\nvalue = [0, 1, 0, 0, 0, 3, 1, 0]'),\n Text(0.8571428571428571, 0.6176470588235294, 'gini = 0.0\\nsamples = 3\\nvalue = [0, 0, 0, 0, 0, 3, 0, 0]'),\n Text(0.8775510204081632, 0.6176470588235294, 'X[1261] <= 5.0\\ngini = 0.5\\nsamples = 2\\nvalue = [0, 1, 0, 0, 0, 0, 1, 0]'),\n Text(0.8673469387755102, 0.5588235294117647, 'gini = 0.0\\nsamples = 1\\nvalue = [0, 0, 0, 0, 0, 0, 1, 0]'),\n Text(0.8877551020408163, 0.5588235294117647, 'gini = 0.0\\nsamples = 1\\nvalue = [0, 1, 0, 0, 0, 0, 0, 0]'),\n Text(0.9591836734693877, 0.8529411764705882, 'X[1838] <= 7.475\\ngini = 0.483\\nsamples = 44\\nvalue = [31, 4, 0, 2, 3, 1, 0, 3]'),\n Text(0.9489795918367347, 0.7941176470588235, 'X[1943] <= 1.29\\ngini = 0.41\\nsamples = 41\\nvalue = [31, 4, 0, 2, 0, 1, 0, 3]'),\n Text(0.9183673469387755, 0.7352941176470589, 'X[299] <= 29.285\\ngini = 0.735\\nsamples = 7\\nvalue = [1, 1, 0, 1, 0, 1, 0, 3]'),\n Text(0.9081632653061225, 0.6764705882352942, 'X[1672] <= 117.5\\ngini = 0.75\\nsamples = 4\\nvalue = [1, 1, 0, 1, 0, 1, 0, 0]'),\n Text(0.8979591836734694, 0.6176470588235294, 'gini = 0.0\\nsamples = 1\\nvalue = [0, 1, 0, 0, 0, 0, 0, 0]'),\n Text(0.9183673469387755, 0.6176470588235294, 'X[901] <= 9.755\\ngini = 0.667\\nsamples = 3\\nvalue = [1, 0, 0, 1, 0, 1, 0, 0]'),\n Text(0.9081632653061225, 0.5588235294117647, 'gini = 0.0\\nsamples = 1\\nvalue = [0, 0, 0, 0, 0, 1, 0, 0]'),\n Text(0.9285714285714286, 0.5588235294117647, 'X[1067] <= 29.59\\ngini = 0.5\\nsamples = 2\\nvalue = [1, 0, 0, 1, 0, 0, 0, 0]'),\n Text(0.9183673469387755, 0.5, 'gini = 0.0\\nsamples = 1\\nvalue = [1, 0, 0, 0, 0, 0, 0, 0]'),\n Text(0.9387755102040817, 0.5, 'gini = 0.0\\nsamples = 1\\nvalue = [0, 0, 0, 1, 0, 0, 0, 0]'),\n Text(0.9285714285714286, 0.6764705882352942, 'gini = 0.0\\nsamples = 3\\nvalue = [0, 0, 0, 0, 0, 0, 0, 3]'),\n Text(0.9795918367346939, 0.7352941176470589, 'X[1667] <= 3.025\\ngini = 0.213\\nsamples = 34\\nvalue = [30, 3, 0, 1, 0, 0, 0, 0]'),\n Text(0.9693877551020408, 0.6764705882352942, 'X[432] <= 92563000.0\\ngini = 0.119\\nsamples = 32\\nvalue = [30, 1, 0, 1, 0, 0, 0, 0]'),\n Text(0.9591836734693877, 0.6176470588235294, 'X[431] <= 7.74\\ngini = 0.062\\nsamples = 31\\nvalue = [30, 0, 0, 1, 0, 0, 0, 0]'),\n Text(0.9489795918367347, 0.5588235294117647, 'gini = 0.0\\nsamples = 1\\nvalue = [0, 0, 0, 1, 0, 0, 0, 0]'),\n Text(0.9693877551020408, 0.5588235294117647, 'gini = 0.0\\nsamples = 30\\nvalue = [30, 0, 0, 0, 0, 0, 0, 0]'),\n Text(0.9795918367346939, 0.6176470588235294, 'gini = 0.0\\nsamples = 1\\nvalue = [0, 1, 0, 0, 0, 0, 0, 0]'),\n Text(0.9897959183673469, 0.6764705882352942, 'gini = 0.0\\nsamples = 2\\nvalue = [0, 2, 0, 0, 0, 0, 0, 0]'),\n Text(0.9693877551020408, 0.7941176470588235, 'gini = 0.0\\nsamples = 3\\nvalue = [0, 0, 0, 0, 3, 0, 0, 0]')]"
     },
     "execution_count": 76,
     "metadata": {},
     "output_type": "execute_result"
    },
    {
     "data": {
      "text/plain": "<Figure size 432x288 with 1 Axes>",
      "image/png": "[encoded data removed]"
     },
     "metadata": {
      "needs_background": "light"
     },
     "output_type": "display_data"
    }
   ],
   "source": [
    "tree.plot_tree(clf)"
   ],
   "metadata": {
    "collapsed": false,
    "pycharm": {
     "name": "#%%\n"
    }
   }
  },
  {
   "cell_type": "code",
   "execution_count": null,
   "outputs": [],
   "source": [],
   "metadata": {
    "collapsed": false,
    "pycharm": {
     "name": "#%%\n"
    }
   }
  }
 ],
 "metadata": {
  "kernelspec": {
   "display_name": "Python 3",
   "language": "python",
   "name": "python3"
  },
  "language_info": {
   "codemirror_mode": {
    "name": "ipython",
    "version": 2
   },
   "file_extension": ".py",
   "mimetype": "text/x-python",
   "name": "python",
   "nbconvert_exporter": "python",
   "pygments_lexer": "ipython2",
   "version": "2.7.6"
  }
 },
 "nbformat": 4,
 "nbformat_minor": 0
}