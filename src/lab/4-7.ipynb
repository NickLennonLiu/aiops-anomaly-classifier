{
 "cells": [
  {
   "cell_type": "code",
   "execution_count": 16,
   "metadata": {
    "collapsed": true
   },
   "outputs": [
    {
     "data": {
      "text/plain": "<module 'src.dataloader' from '/home/junetheriver/code/aiops/src/dataloader.py'>"
     },
     "execution_count": 16,
     "metadata": {},
     "output_type": "execute_result"
    }
   ],
   "source": [
    "import pandas as pd\n",
    "\n",
    "from src import *\n",
    "import importlib\n",
    "importlib.reload(preprocess)\n",
    "importlib.reload(dataloader)"
   ]
  },
  {
   "cell_type": "code",
   "execution_count": 17,
   "outputs": [],
   "source": [
    "args = params.get_args()"
   ],
   "metadata": {
    "collapsed": false,
    "pycharm": {
     "name": "#%%\n"
    }
   }
  },
  {
   "cell_type": "code",
   "execution_count": 18,
   "outputs": [
    {
     "data": {
      "text/plain": "    cmdb_id  故障类别  故障内容                       time\n1  gjjcore5     0     0 2021-02-26 03:33:02.259792\n2  gjjcore9     0     1 2021-02-26 03:55:02.253467\n3  gjjcore3     1     2 2021-02-26 04:04:02.258659\n4  gjjcore6     1     2 2021-02-26 04:29:17.962392\n5  gjjcore7     0     1 2021-02-26 04:45:02.265726",
      "text/html": "<div>\n<style scoped>\n    .dataframe tbody tr th:only-of-type {\n        vertical-align: middle;\n    }\n\n    .dataframe tbody tr th {\n        vertical-align: top;\n    }\n\n    .dataframe thead th {\n        text-align: right;\n    }\n</style>\n<table border=\"1\" class=\"dataframe\">\n  <thead>\n    <tr style=\"text-align: right;\">\n      <th></th>\n      <th>cmdb_id</th>\n      <th>故障类别</th>\n      <th>故障内容</th>\n      <th>time</th>\n    </tr>\n  </thead>\n  <tbody>\n    <tr>\n      <th>1</th>\n      <td>gjjcore5</td>\n      <td>0</td>\n      <td>0</td>\n      <td>2021-02-26 03:33:02.259792</td>\n    </tr>\n    <tr>\n      <th>2</th>\n      <td>gjjcore9</td>\n      <td>0</td>\n      <td>1</td>\n      <td>2021-02-26 03:55:02.253467</td>\n    </tr>\n    <tr>\n      <th>3</th>\n      <td>gjjcore3</td>\n      <td>1</td>\n      <td>2</td>\n      <td>2021-02-26 04:04:02.258659</td>\n    </tr>\n    <tr>\n      <th>4</th>\n      <td>gjjcore6</td>\n      <td>1</td>\n      <td>2</td>\n      <td>2021-02-26 04:29:17.962392</td>\n    </tr>\n    <tr>\n      <th>5</th>\n      <td>gjjcore7</td>\n      <td>0</td>\n      <td>1</td>\n      <td>2021-02-26 04:45:02.265726</td>\n    </tr>\n  </tbody>\n</table>\n</div>"
     },
     "execution_count": 18,
     "metadata": {},
     "output_type": "execute_result"
    }
   ],
   "source": [
    "gt = dataloader.load_gt(args)\n",
    "gt = preprocess.preprocess_gt(gt)\n",
    "gt.head()"
   ],
   "metadata": {
    "collapsed": false,
    "pycharm": {
     "name": "#%%\n"
    }
   }
  },
  {
   "cell_type": "code",
   "execution_count": 17,
   "outputs": [
    {
     "data": {
      "text/plain": "<module 'src.dataloader' from '/home/junetheriver/code/aiops/src/dataloader.py'>"
     },
     "execution_count": 17,
     "metadata": {},
     "output_type": "execute_result"
    }
   ],
   "source": [
    "importlib.reload(dataloader)"
   ],
   "metadata": {
    "collapsed": false,
    "pycharm": {
     "name": "#%%\n"
    }
   }
  },
  {
   "cell_type": "code",
   "execution_count": 19,
   "outputs": [],
   "source": [
    "dt = dataloader.load_dt(args)"
   ],
   "metadata": {
    "collapsed": false,
    "pycharm": {
     "name": "#%%\n"
    }
   }
  },
  {
   "cell_type": "code",
   "execution_count": 2,
   "outputs": [],
   "source": [
    "import pickle"
   ],
   "metadata": {
    "collapsed": false,
    "pycharm": {
     "name": "#%%\n"
    }
   }
  },
  {
   "cell_type": "code",
   "execution_count": 22,
   "outputs": [],
   "source": [
    "with open(\"../../workdir/system_a/data.pkl\", 'wb') as f:\n",
    "    pickle.dump(dt, f)"
   ],
   "metadata": {
    "collapsed": false,
    "pycharm": {
     "name": "#%%\n"
    }
   }
  },
  {
   "cell_type": "code",
   "execution_count": 105,
   "outputs": [],
   "source": [
    "from pandas import DataFrame\n",
    "with open(\"../../workdir/system_a/data.pkl\", \"rb\") as f:\n",
    "    dt = pickle.load(f)"
   ],
   "metadata": {
    "collapsed": false,
    "pycharm": {
     "name": "#%%\n"
    }
   }
  },
  {
   "cell_type": "code",
   "execution_count": 4,
   "outputs": [
    {
     "data": {
      "text/plain": "system.net.tcp.retrans_segs    float64\ndtype: object"
     },
     "execution_count": 4,
     "metadata": {},
     "output_type": "execute_result"
    }
   ],
   "source": [
    "dt.keys()\n",
    "dt['gjjcore8'][0].dtypes"
   ],
   "metadata": {
    "collapsed": false,
    "pycharm": {
     "name": "#%%\n"
    }
   }
  },
  {
   "cell_type": "code",
   "execution_count": 12,
   "outputs": [],
   "source": [
    "# Seasonal Decompose\n",
    "from statsmodels.tsa.seasonal import seasonal_decompose\n",
    "import matplotlib.pyplot as plt\n",
    "import pandas as pd"
   ],
   "metadata": {
    "collapsed": false,
    "pycharm": {
     "name": "#%%\n"
    }
   }
  },
  {
   "cell_type": "code",
   "execution_count": 13,
   "outputs": [],
   "source": [
    "for cmdb_id in list(dt.keys()):\n",
    "    for df in dt[cmdb_id]:\n",
    "        df.index = pd.to_datetime(df.index, unit=\"s\")"
   ],
   "metadata": {
    "collapsed": false,
    "pycharm": {
     "name": "#%%\n"
    }
   }
  },
  {
   "cell_type": "code",
   "execution_count": 106,
   "outputs": [],
   "source": [
    "from pandas.tseries.frequencies import to_offset\n",
    "import numpy as np\n",
    "for cmdb_id in list(dt.keys()):\n",
    "    dt[cmdb_id] = [df for df in dt[cmdb_id] if df.nunique().iloc[0] > 1]\n",
    "        # result = seasonal_decompose(df)"
   ],
   "metadata": {
    "collapsed": false,
    "pycharm": {
     "name": "#%%\n"
    }
   }
  },
  {
   "cell_type": "code",
   "execution_count": 108,
   "outputs": [],
   "source": [
    "with open(\"../../workdir/system_a/data_nonconst.pkl\", 'wb') as f:\n",
    "    pickle.dump(dt, f)"
   ],
   "metadata": {
    "collapsed": false,
    "pycharm": {
     "name": "#%%\n"
    }
   }
  },
  {
   "cell_type": "code",
   "execution_count": 122,
   "outputs": [
    {
     "name": "stdout",
     "output_type": "stream",
     "text": [
      "71\n",
      "      system.net.tcp.retrans_segs\n",
      "mean                     0.042151\n",
      "std                      0.924960\n",
      "min                      0.000000\n",
      "25%                      0.000000\n",
      "50%                      0.000000\n",
      "75%                      0.000000\n",
      "max                     55.660000\n",
      "(71, 7)\n"
     ]
    }
   ],
   "source": [
    "for cmdb_id in list(dt.keys())[:1]:\n",
    "    print(len(dt[cmdb_id]))\n",
    "    for df in dt[cmdb_id][:1]:\n",
    "        print(df.describe()[1:])\n",
    "    statistical = np.stack([df.describe()[1:] for df in dt[cmdb_id]], axis=2).squeeze().transpose()\n",
    "    print(statistical.shape)"
   ],
   "metadata": {
    "collapsed": false,
    "pycharm": {
     "name": "#%%\n"
    }
   }
  },
  {
   "cell_type": "code",
   "execution_count": 126,
   "outputs": [
    {
     "data": {
      "text/plain": "<module 'src.statistics' from '/home/junetheriver/code/aiops/src/statistics.py'>"
     },
     "execution_count": 126,
     "metadata": {},
     "output_type": "execute_result"
    }
   ],
   "source": [
    "import src.statistics as statistics\n",
    "importlib.reload(statistics)"
   ],
   "metadata": {
    "collapsed": false,
    "pycharm": {
     "name": "#%%\n"
    }
   }
  },
  {
   "cell_type": "code",
   "execution_count": 127,
   "outputs": [],
   "source": [
    "dt_describe = statistics.describe(dt)"
   ],
   "metadata": {
    "collapsed": false,
    "pycharm": {
     "name": "#%%\n"
    }
   }
  },
  {
   "cell_type": "code",
   "execution_count": 128,
   "outputs": [
    {
     "data": {
      "text/plain": "array([[4.21507937e-02, 9.24960394e-01, 0.00000000e+00, 0.00000000e+00,\n        0.00000000e+00, 0.00000000e+00, 5.56600000e+01],\n       [4.46894841e-02, 7.85641517e-01, 0.00000000e+00, 0.00000000e+00,\n        0.00000000e+00, 0.00000000e+00, 2.87900000e+01],\n       [9.70092688e+01, 4.59686403e+00, 0.00000000e+00, 9.63600000e+01,\n        9.83800000e+01, 9.89600000e+01, 9.95000000e+01],\n       [1.14870155e+05, 1.92925367e+05, 1.15728000e+03, 4.80780000e+03,\n        1.37473250e+04, 1.61159890e+05, 8.22445630e+05],\n       [1.74801587e-01, 4.69835117e-01, 0.00000000e+00, 0.00000000e+00,\n        0.00000000e+00, 0.00000000e+00, 1.90000000e+01],\n       [1.21808656e+01, 2.04431165e+02, 0.00000000e+00, 0.00000000e+00,\n        0.00000000e+00, 0.00000000e+00, 1.00685000e+04],\n       [2.65190049e+04, 4.90727601e+03, 1.53000000e+04, 2.19187500e+04,\n        2.85290000e+04, 3.11740000e+04, 3.17980000e+04],\n       [1.08054397e+08, 4.60238573e+02, 1.08053710e+08, 1.08053964e+08,\n        1.08054670e+08, 1.08054814e+08, 1.08054980e+08],\n       [7.68315427e+02, 8.20669273e+01, 5.38000000e+02, 6.80000000e+02,\n        8.11000000e+02, 8.32000000e+02, 8.94000000e+02],\n       [1.58563367e+04, 4.70656656e+03, 5.38700000e+03, 1.15220000e+04,\n        1.71180000e+04, 2.03912500e+04, 2.20140000e+04],\n       [2.99073115e+00, 4.59686403e+00, 5.00000000e-01, 1.04000000e+00,\n        1.62000000e+00, 3.64000000e+00, 1.00000000e+02],\n       [3.91391310e+01, 6.19551067e+00, 3.07000000e+01, 3.37000000e+01,\n        3.69600000e+01, 4.47000000e+01, 6.39500000e+01],\n       [1.11607143e-02, 1.09675945e-01, 0.00000000e+00, 0.00000000e+00,\n        0.00000000e+00, 0.00000000e+00, 3.00000000e+00],\n       [3.02470734e+00, 5.55569220e+00, 0.00000000e+00, 7.50000000e-01,\n        1.63000000e+00, 3.75000000e+00, 1.42380000e+02],\n       [8.98294630e+00, 1.62253663e+00, 5.00000000e+00, 8.00000000e+00,\n        9.00000000e+00, 1.00000000e+01, 4.10000000e+01],\n       [3.23510744e+01, 1.90950822e+00, 2.94800000e+01, 3.07600000e+01,\n        3.13500000e+01, 3.42600000e+01, 7.20200000e+01],\n       [1.69763312e+05, 1.03170476e+05, 1.08177000e+04, 8.37266000e+04,\n        1.65321500e+05, 2.69312400e+05, 3.52218300e+05],\n       [1.03024653e+00, 4.14902194e-02, 9.50000000e-01, 1.00000000e+00,\n        1.03000000e+00, 1.07000000e+00, 1.23000000e+00],\n       [6.27171433e+02, 8.36148825e+02, 3.10000000e+00, 2.51000000e+01,\n        6.54000000e+01, 1.19637500e+03, 3.12670000e+03],\n       [9.44887505e+07, 6.11359434e+06, 7.00102920e+07, 8.89995535e+07,\n        9.66404870e+07, 9.98540330e+07, 1.02814512e+08],\n       [2.41774802e-01, 4.44456566e-01, 0.00000000e+00, 6.00000000e-02,\n        1.30000000e-01, 3.00000000e-01, 1.13900000e+01],\n       [3.97338436e+02, 6.38720719e+02, 1.19800000e+01, 3.38500000e+01,\n        6.56750000e+01, 5.53152500e+02, 2.73077000e+03],\n       [6.26537192e+02, 2.56456378e+02, 1.70000000e+01, 4.38000000e+02,\n        6.18000000e+02, 8.01000000e+02, 1.37400000e+03],\n       [2.50000000e+00, 5.77350269e-01, 2.00000000e+00, 2.00000000e+00,\n        2.50000000e+00, 3.00000000e+00, 3.00000000e+00],\n       [2.98516865e-02, 4.26558045e-02, 0.00000000e+00, 1.00000000e-02,\n        2.00000000e-02, 4.00000000e-02, 8.70000000e-01],\n       [2.98784722e-02, 5.58356964e-02, 0.00000000e+00, 1.00000000e-02,\n        2.00000000e-02, 4.00000000e-02, 1.42000000e+00],\n       [6.64756944e-02, 1.78147263e+00, 0.00000000e+00, 0.00000000e+00,\n        0.00000000e+00, 0.00000000e+00, 6.31900000e+01],\n       [3.08427579e-02, 3.24630707e-02, 1.00000000e-02, 1.00000000e-02,\n        2.00000000e-02, 4.00000000e-02, 5.30000000e-01],\n       [2.98724702e+01, 5.90746684e-01, 2.80000000e+01, 3.00000000e+01,\n        3.00000000e+01, 3.00000000e+01, 3.30000000e+01],\n       [5.49299509e+03, 4.90727601e+03, 2.14000000e+02, 8.38000000e+02,\n        3.48300000e+03, 1.00932500e+04, 1.67120000e+04],\n       [2.41079365e-01, 3.39263559e-01, 1.00000000e-02, 9.00000000e-02,\n        1.30000000e-01, 3.00000000e-01, 6.94000000e+00],\n       [1.03562318e+04, 6.11269660e+02, 9.43700000e+03, 9.84800000e+03,\n        1.00350000e+04, 1.09680000e+04, 2.30550000e+04],\n       [2.38338790e-01, 4.25681565e+00, 0.00000000e+00, 0.00000000e+00,\n        0.00000000e+00, 0.00000000e+00, 1.57500000e+02],\n       [3.06436359e+02, 3.57409494e+01, 7.70000000e+01, 3.03000000e+02,\n        3.16000000e+02, 3.24000000e+02, 4.06000000e+02],\n       [3.98762381e+03, 5.15556745e+02, 3.42400000e+03, 3.52000000e+03,\n        3.58400000e+03, 4.48000000e+03, 4.96000000e+03],\n       [1.18097321e+00, 9.01164025e-03, 1.17000000e+00, 1.17000000e+00,\n        1.18000000e+00, 1.19000000e+00, 1.19000000e+00],\n       [2.47122024e-01, 2.57926152e-01, 5.00000000e-02, 1.20000000e-01,\n        1.40000000e-01, 3.20000000e-01, 4.25000000e+00],\n       [2.03373016e-03, 4.82423941e-02, 0.00000000e+00, 0.00000000e+00,\n        0.00000000e+00, 0.00000000e+00, 2.00000000e+00],\n       [2.48015873e-04, 1.31741492e-02, 0.00000000e+00, 0.00000000e+00,\n        0.00000000e+00, 0.00000000e+00, 1.00000000e+00],\n       [9.44126984e+00, 4.22098100e+00, 2.00000000e+00, 7.00000000e+00,\n        9.00000000e+00, 1.10000000e+01, 7.40000000e+01],\n       [5.90277778e-03, 7.66043476e-02, 0.00000000e+00, 0.00000000e+00,\n        0.00000000e+00, 0.00000000e+00, 1.00000000e+00],\n       [4.73159722e-02, 8.72878431e-01, 0.00000000e+00, 0.00000000e+00,\n        0.00000000e+00, 0.00000000e+00, 5.05000000e+01],\n       [1.37775794e-01, 2.16816631e+00, 0.00000000e+00, 0.00000000e+00,\n        0.00000000e+00, 0.00000000e+00, 5.00000000e+01],\n       [6.70636260e+00, 3.29123412e+01, 0.00000000e+00, 0.00000000e+00,\n        0.00000000e+00, 0.00000000e+00, 4.97910000e+02],\n       [2.74041171e-01, 3.95471103e+00, 0.00000000e+00, 0.00000000e+00,\n        0.00000000e+00, 0.00000000e+00, 2.72780000e+02],\n       [4.34352392e+02, 6.66783829e+02, 2.31200000e+01, 5.38100000e+01,\n        8.75900000e+01, 6.02947500e+02, 2.85445000e+03],\n       [2.18508135e+00, 4.43348418e+00, 2.50000000e-01, 5.00000000e-01,\n        8.30000000e-01, 2.74000000e+00, 9.99100000e+01],\n       [2.35561508e-01, 3.89030237e+00, 0.00000000e+00, 0.00000000e+00,\n        0.00000000e+00, 0.00000000e+00, 2.72780000e+02],\n       [2.70200347e+00, 1.53640511e+01, 0.00000000e+00, 0.00000000e+00,\n        0.00000000e+00, 0.00000000e+00, 5.39000000e+02],\n       [2.87680381e+00, 5.09888600e+00, 4.20000000e-01, 4.40000000e-01,\n        4.60000000e-01, 4.60000000e-01, 1.95700000e+01],\n       [1.03020337e+00, 4.14797514e-02, 9.30000000e-01, 1.00000000e+00,\n        1.03000000e+00, 1.07000000e+00, 1.23000000e+00],\n       [1.60015873e+01, 4.66918440e-02, 1.60000000e+01, 1.60000000e+01,\n        1.60000000e+01, 1.60000000e+01, 1.80000000e+01],\n       [8.72437694e-01, 3.33626406e-01, 0.00000000e+00, 1.00000000e+00,\n        1.00000000e+00, 1.00000000e+00, 1.00000000e+00],\n       [3.12930248e+01, 2.08353134e+00, 2.81400000e+01, 2.95500000e+01,\n        3.01700000e+01, 3.37000000e+01, 7.16800000e+01],\n       [2.03301324e+03, 7.76788602e+00, 2.00700000e+03, 2.02700000e+03,\n        2.03100000e+03, 2.04200000e+03, 2.04400000e+03],\n       [2.19944872e+04, 6.66988842e+02, 9.06600000e+03, 2.12230000e+04,\n        2.23530000e+04, 2.25520000e+04, 2.30030000e+04],\n       [8.00006933e+04, 4.60238573e+02, 7.94180000e+04, 7.95835000e+04,\n        7.97280000e+04, 8.04330000e+04, 8.06880000e+04],\n       [3.28655153e+06, 7.25241814e+05, 2.08932488e+06, 2.39170969e+06,\n        3.47169425e+06, 3.77407931e+06, 4.42206400e+06],\n       [3.57265482e+02, 5.63335992e+02, 1.15200000e+01, 3.18450000e+01,\n        6.58250000e+01, 4.99970000e+02, 2.36800000e+03],\n       [3.09655026e+03, 3.18347229e+02, 2.19550000e+03, 2.75900000e+03,\n        3.27460000e+03, 3.30000000e+03, 3.30000000e+03],\n       [3.96086310e-02, 1.30763044e-01, 0.00000000e+00, 0.00000000e+00,\n        0.00000000e+00, 0.00000000e+00, 2.00000000e+00],\n       [1.74921085e+05, 2.92952663e+05, 1.44643000e+03, 8.85021000e+03,\n        2.24328500e+04, 2.44582307e+05, 2.16850400e+06],\n       [1.37673710e+02, 1.31467233e+01, 1.04000000e+02, 1.27000000e+02,\n        1.35000000e+02, 1.49000000e+02, 2.00000000e+02],\n       [1.45987103e-02, 4.98399426e-03, 1.00000000e-02, 1.00000000e-02,\n        1.00000000e-02, 2.00000000e-02, 2.00000000e-02],\n       [5.56196677e+01, 1.96818002e+03, 0.00000000e+00, 0.00000000e+00,\n        0.00000000e+00, 0.00000000e+00, 7.37000000e+04],\n       [4.52694764e+02, 6.88885122e+02, 2.29700000e+01, 5.44950000e+01,\n        9.45000000e+01, 6.38712500e+02, 2.90445000e+03],\n       [5.96951135e+07, 6.11359434e+06, 5.13693500e+07, 5.43298295e+07,\n        5.75433770e+07, 6.51843105e+07, 8.41735720e+07],\n       [1.44791667e-01, 3.23883034e+00, 0.00000000e+00, 0.00000000e+00,\n        0.00000000e+00, 0.00000000e+00, 1.38000000e+02],\n       [1.45487702e+02, 2.57498929e+03, 0.00000000e+00, 0.00000000e+00,\n        0.00000000e+00, 0.00000000e+00, 8.13740000e+04],\n       [8.18998016e-01, 1.31618919e+00, 0.00000000e+00, 0.00000000e+00,\n        0.00000000e+00, 1.00000000e+00, 9.00000000e+00],\n       [6.41114983e-01, 4.79693289e-01, 0.00000000e+00, 0.00000000e+00,\n        1.00000000e+00, 1.00000000e+00, 1.00000000e+00]])"
     },
     "execution_count": 128,
     "metadata": {},
     "output_type": "execute_result"
    }
   ],
   "source": [
    "dt_describe['gjjcore8']"
   ],
   "metadata": {
    "collapsed": false,
    "pycharm": {
     "name": "#%%\n"
    }
   }
  },
  {
   "cell_type": "code",
   "execution_count": null,
   "outputs": [],
   "source": [],
   "metadata": {
    "collapsed": false,
    "pycharm": {
     "name": "#%%\n"
    }
   }
  }
 ],
 "metadata": {
  "kernelspec": {
   "display_name": "Python 3",
   "language": "python",
   "name": "python3"
  },
  "language_info": {
   "codemirror_mode": {
    "name": "ipython",
    "version": 2
   },
   "file_extension": ".py",
   "mimetype": "text/x-python",
   "name": "python",
   "nbconvert_exporter": "python",
   "pygments_lexer": "ipython2",
   "version": "2.7.6"
  }
 },
 "nbformat": 4,
 "nbformat_minor": 0
}