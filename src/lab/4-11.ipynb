{
 "cells": [
  {
   "cell_type": "code",
   "execution_count": 9,
   "metadata": {
    "collapsed": true
   },
   "outputs": [],
   "source": [
    "import torch\n",
    "import torch.nn as nn\n",
    "import numpy as np\n",
    "import scipy.stats as stats\n",
    "import matplotlib.pyplot as plt"
   ]
  },
  {
   "cell_type": "code",
   "execution_count": 28,
   "outputs": [
    {
     "name": "stdout",
     "output_type": "stream",
     "text": [
      "1.0825088224469026e-05\n"
     ]
    },
    {
     "data": {
      "text/plain": "<Figure size 432x288 with 1 Axes>",
      "image/png": "[encoded data removed]"
     },
     "metadata": {
      "needs_background": "light"
     },
     "output_type": "display_data"
    }
   ],
   "source": [
    "a = [1 for i in range(10)]\n",
    "b = [1.1 for i in range(10)]\n",
    "plt.plot(a)\n",
    "plt.plot(b)\n",
    "print(stats.ks_2samp(a,b)[1])"
   ],
   "metadata": {
    "collapsed": false,
    "pycharm": {
     "name": "#%%\n"
    }
   }
  },
  {
   "cell_type": "code",
   "execution_count": 29,
   "outputs": [],
   "source": [
    "import importlib\n",
    "import src.params as params\n",
    "import src.model as model\n",
    "import src.main as main\n",
    "import src.dataloader as dataloader\n",
    "importlib.reload(dataloader)\n",
    "import numpy as np"
   ],
   "metadata": {
    "collapsed": false,
    "pycharm": {
     "name": "#%%\n"
    }
   }
  },
  {
   "cell_type": "code",
   "execution_count": 35,
   "outputs": [],
   "source": [
    "args = params.get_args(\"../config/system_a.yaml\")"
   ],
   "metadata": {
    "collapsed": false,
    "pycharm": {
     "name": "#%%\n"
    }
   }
  },
  {
   "cell_type": "code",
   "execution_count": 31,
   "outputs": [
    {
     "name": "stdout",
     "output_type": "stream",
     "text": [
      "Loading preprocessed data from /home/junetheriver/code/aiops/workdir/system_a/data_pre.pkl\n"
     ]
    }
   ],
   "source": [
    "data = main.get_cmdb(args)"
   ],
   "metadata": {
    "collapsed": false,
    "pycharm": {
     "name": "#%%\n"
    }
   }
  },
  {
   "cell_type": "code",
   "execution_count": 72,
   "outputs": [
    {
     "name": "stdout",
     "output_type": "stream",
     "text": [
      "Loaded ground truth from gt_pre.pkl\n"
     ]
    }
   ],
   "source": [
    "dataset,valid,test = main.get_dataset(args)"
   ],
   "metadata": {
    "collapsed": false,
    "pycharm": {
     "name": "#%%\n"
    }
   }
  },
  {
   "cell_type": "code",
   "execution_count": 40,
   "outputs": [
    {
     "name": "stdout",
     "output_type": "stream",
     "text": [
      "('gjjcore3', 27361.032171432176) [0. 0. 0. 0. 1. 0. 0. 0.]\n",
      "('gjjha1', 23233.042981517316) [0. 0. 0. 1. 0. 0. 0. 0.]\n",
      "('gjjcore3', 36557.024901783465) [1. 0. 0. 0. 0. 0. 0. 0.]\n",
      "('gjjcore1', 18821.024653434753) [0. 1. 0. 0. 0. 0. 0. 0.]\n",
      "('gjjcore8', 862.0405837337177) [0. 0. 0. 0. 0. 1. 0. 0.]\n",
      "('gjjcore2', 19369.02466955185) [1. 0. 0. 0. 0. 0. 0. 0.]\n",
      "('gjjbps1', 23625.041623850662) [0. 0. 0. 1. 0. 0. 0. 0.]\n",
      "('gjjcore5', 26948.02453416586) [1. 0. 0. 0. 0. 0. 0. 0.]\n",
      "('gjjcore9', 27667.024533899625) [0. 1. 0. 0. 0. 0. 0. 0.]\n",
      "('gjjcore5', 1200.038751800855) [0. 1. 0. 0. 0. 0. 0. 0.]\n",
      "('gjjcore3', 23981.024812301) [0. 1. 0. 0. 0. 0. 0. 0.]\n",
      "('gjjuaap1', 23677.025480282307) [0. 0. 0. 0. 1. 0. 0. 0.]\n",
      "('gjjcore9', 18620.042517618338) [0. 0. 0. 0. 0. 0. 0. 1.]\n",
      "('gjjha1', 37506.042908132076) [0. 0. 0. 1. 0. 0. 0. 0.]\n",
      "('gjjha3', 27201.02477751573) [0. 1. 0. 0. 0. 0. 0. 0.]\n",
      "('gjjcore9', 23010.04226309856) [0. 0. 0. 0. 0. 0. 0. 1.]\n",
      "('gjjha3', 29305.024502281347) [1. 0. 0. 0. 0. 0. 0. 0.]\n",
      "('gjjha2', 24351.024465584756) [0. 1. 0. 0. 0. 0. 0. 0.]\n",
      "('gjjha1', 23332.02579371532) [1. 0. 0. 0. 0. 0. 0. 0.]\n",
      "('gjjha1', 820.0404251337052) [0. 0. 0. 0. 0. 1. 0. 0.]\n",
      "('gjjha1', 37151.02587554852) [0. 1. 0. 0. 0. 0. 0. 0.]\n",
      "('gjjcore1', 869.0376837650934) [0. 1. 0. 0. 0. 0. 0. 0.]\n",
      "('gjjcore8', 27705.02483934959) [0. 1. 0. 0. 0. 0. 0. 0.]\n",
      "('gjjcore6', 1706.0377070983252) [0. 1. 0. 0. 0. 0. 0. 0.]\n",
      "('gjjcore1', 24431.02449691693) [0. 1. 0. 0. 0. 0. 0. 0.]\n",
      "('gjjcore4', 23530.040981566905) [0. 0. 0. 0. 0. 0. 0. 1.]\n",
      "('gjjbps1', 17652.02428483168) [1. 0. 0. 0. 0. 0. 0. 0.]\n",
      "('gjjcore7', 29644.041153450806) [0. 0. 0. 0. 0. 0. 0. 1.]\n",
      "('gjjcore7', 25430.02287538449) [0. 0. 1. 0. 0. 0. 0. 0.]\n",
      "('gjjcore8', 1127.0550197164218) [0. 0. 0. 1. 0. 0. 0. 0.]\n",
      "('gjjuaap1', 24727.0243994991) [1. 0. 0. 0. 0. 0. 0. 0.]\n",
      "('gjjcore9', 28968.025184881688) [1. 0. 0. 0. 0. 0. 0. 0.]\n",
      "('gjjha2', 37078.025980714956) [0. 0. 0. 0. 0. 1. 0. 0.]\n",
      "('gjjcore3', 1025.3018117348354) [0. 0. 1. 0. 0. 0. 0. 0.]\n",
      "('gjjcore6', 27768.042094333967) [0. 0. 0. 1. 0. 0. 0. 0.]\n",
      "('gjjcore2', 22103.042577485245) [0. 0. 0. 0. 0. 0. 0. 1.]\n",
      "('gjjuaap1', 18473.024455149967) [1. 0. 0. 0. 0. 0. 0. 0.]\n",
      "('gjjcore3', 805.038041182359) [1. 0. 0. 0. 0. 0. 0. 0.]\n",
      "('gjjcore4', 1608.0386039177577) [0. 0. 0. 0. 0. 0. 1. 0.]\n",
      "('gjjcore8', 19346.04151908159) [0. 0. 0. 0. 0. 0. 0. 1.]\n",
      "('gjjcore1', 19458.024551284314) [1. 0. 0. 0. 0. 0. 0. 0.]\n",
      "('gjjcore1', 17714.025434398653) [0. 0. 1. 0. 0. 0. 0. 0.]\n",
      "('gjjcore9', 1856.0552832166354) [0. 0. 0. 1. 0. 0. 0. 0.]\n",
      "('gjjha1', 25883.026101267336) [0. 1. 0. 0. 0. 0. 0. 0.]\n",
      "('gjjha2', 37122.025198801355) [1. 0. 0. 0. 0. 0. 0. 0.]\n",
      "('gjjcore2', 37791.04171453317) [0. 0. 0. 0. 0. 0. 0. 1.]\n",
      "('gjjcore5', 772.0374569018682) [0. 0. 1. 0. 0. 0. 0. 0.]\n",
      "('gjjuaap1', 29768.02448170185) [1. 0. 0. 0. 0. 0. 0. 0.]\n",
      "('gjjcore4', 23949.024536931516) [1. 0. 0. 0. 0. 0. 0. 0.]\n",
      "('gjjha1', 27826.042483015855) [0. 0. 0. 1. 0. 0. 0. 0.]\n",
      "('gjjcore2', 18526.024517734844) [0. 1. 0. 0. 0. 0. 0. 0.]\n",
      "('gjjha3', 28324.02468651533) [0. 1. 0. 0. 0. 0. 0. 0.]\n",
      "('gjjha1', 1897.0463860988616) [0. 0. 0. 0. 1. 0. 0. 0.]\n",
      "('gjjcore6', 37641.0269490997) [0. 0. 0. 0. 1. 0. 0. 0.]\n",
      "('gjjuaap1', 21752.02492963473) [1. 0. 0. 0. 0. 0. 0. 0.]\n",
      "('gjjuaap1', 24632.02568420172) [0. 1. 0. 0. 0. 0. 0. 0.]\n",
      "('gjjcore6', 19141.026208583513) [0. 0. 0. 0. 1. 0. 0. 0.]\n",
      "('gjjcore2', 24519.02466530005) [0. 1. 0. 0. 0. 0. 0. 0.]\n",
      "('gjjcore5', 19516.024495883783) [1. 0. 0. 0. 0. 0. 0. 0.]\n",
      "('gjjcore7', 22557.024703065556) [1. 0. 0. 0. 0. 0. 0. 0.]\n",
      "('gjjcore5', 30003.024987232686) [1. 0. 0. 0. 0. 0. 0. 0.]\n",
      "('gjjcore1', 26317.02560576598) [0. 0. 0. 0. 0. 1. 0. 0.]\n",
      "('gjjcore2', 28626.02497411569) [1. 0. 0. 0. 0. 0. 0. 0.]\n",
      "('gjjha1', 3407.056573200226) [0. 0. 0. 1. 0. 0. 0. 0.]\n",
      "('gjjcore8', 19740.024616066614) [1. 0. 0. 0. 0. 0. 0. 0.]\n",
      "('gjjcore6', 18314.025012000402) [0. 0. 0. 0. 0. 0. 1. 0.]\n",
      "('gjjcore4', 18206.02495094935) [0. 1. 0. 0. 0. 0. 0. 0.]\n",
      "('gjjcore6', 18725.02533226808) [1. 0. 0. 0. 0. 0. 0. 0.]\n",
      "('gjjcore1', 29124.024741633733) [1. 0. 0. 0. 0. 0. 0. 0.]\n",
      "('gjjcore7', 970.0402660489083) [0. 0. 0. 0. 1. 0. 0. 0.]\n",
      "('gjjcore2', 1786.0553188999495) [0. 0. 0. 1. 0. 0. 0. 0.]\n",
      "('gjjcore9', 27246.02300358216) [1. 0. 0. 0. 0. 0. 0. 0.]\n",
      "('gjjcore8', 18255.04220558405) [0. 0. 0. 1. 0. 0. 0. 0.]\n",
      "('gjjha2', 27178.024883568287) [1. 0. 0. 0. 0. 0. 0. 0.]\n",
      "('gjjcore7', 1336.038543399175) [0. 0. 0. 0. 0. 0. 1. 0.]\n",
      "('gjjcore7', 991.0570680181186) [0. 0. 0. 1. 0. 0. 0. 0.]\n",
      "('gjjcore2', 28286.025087833405) [0. 1. 0. 0. 0. 0. 0. 0.]\n",
      "('gjjcore6', 18590.024646933874) [0. 1. 0. 0. 0. 0. 0. 0.]\n",
      "('gjjcore1', 1580.0583078980446) [0. 0. 0. 1. 0. 0. 0. 0.]\n",
      "('gjjuaap1', 18408.024522515138) [0. 1. 0. 0. 0. 0. 0. 0.]\n",
      "('gjjcore1', 1299.038566148281) [0. 0. 0. 0. 0. 0. 1. 0.]\n",
      "('gjjuaap1', 24765.024376698337) [0. 1. 0. 0. 0. 0. 0. 0.]\n",
      "('gjjbps1', 18865.024576417603) [1. 0. 0. 0. 0. 0. 0. 0.]\n",
      "('gjjha1', 1073.0424349824586) [1. 0. 0. 0. 0. 0. 0. 0.]\n",
      "('gjjha3', 36048.024435798325) [1. 0. 0. 0. 0. 0. 0. 0.]\n",
      "('gjjha1', 36651.02649063269) [0. 0. 0. 0. 1. 0. 0. 0.]\n",
      "('gjjha1', 25914.026914898554) [0. 0. 0. 0. 0. 1. 0. 0.]\n",
      "('gjjuaap1', 22462.024730285008) [1. 0. 0. 0. 0. 0. 0. 0.]\n",
      "('gjjuaap1', 3448.0397388180095) [0. 0. 0. 0. 1. 0. 0. 0.]\n",
      "('gjjcore8', 37686.04245856603) [0. 0. 0. 1. 0. 0. 0. 0.]\n",
      "('gjjcore9', 1350.055989698569) [0. 0. 0. 0. 0. 0. 0. 1.]\n",
      "('gjjha3', 28172.024902951718) [1. 0. 0. 0. 0. 0. 0. 0.]\n",
      "('gjjha2', 36530.02477771838) [0. 1. 0. 0. 0. 0. 0. 0.]\n",
      "('gjjha2', 36162.024939668176) [1. 0. 0. 0. 0. 0. 0. 0.]\n",
      "('gjjcore3', 21874.04282915195) [0. 0. 0. 1. 0. 0. 0. 0.]\n",
      "('gjjcore5', 36479.02434328397) [0. 1. 0. 0. 0. 0. 0. 0.]\n",
      "('gjjha3', 23438.024543400606) [0. 1. 0. 0. 0. 0. 0. 0.]\n",
      "('gjjcore2', 3377.0556442340217) [0. 0. 0. 1. 0. 0. 0. 0.]\n",
      "('gjjcore7', 19961.412759617964) [0. 0. 1. 0. 0. 0. 0. 0.]\n",
      "('gjjcore9', 36801.02481686672) [1. 0. 0. 0. 0. 0. 0. 0.]\n",
      "('gjjcore3', 19832.024990665912) [1. 0. 0. 0. 0. 0. 0. 0.]\n",
      "('gjjcore7', 25703.023223634562) [0. 0. 0. 0. 0. 0. 1. 0.]\n",
      "('gjjcore4', 25117.024410533904) [1. 0. 0. 0. 0. 0. 0. 0.]\n",
      "('gjjbps1', 38357.02436556816) [1. 0. 0. 0. 0. 0. 0. 0.]\n",
      "('gjjha2', 27881.024942684173) [1. 0. 0. 0. 0. 0. 0. 0.]\n",
      "('gjjcore8', 38469.02453036706) [1. 0. 0. 0. 0. 0. 0. 0.]\n",
      "('gjjha3', 25089.025629965465) [1. 0. 0. 0. 0. 0. 0. 0.]\n",
      "('gjjap3', 1399.0504005352657) [0. 1. 0. 0. 0. 0. 0. 0.]\n",
      "('gjjcore8', 29699.024841634433) [1. 0. 0. 0. 0. 0. 0. 0.]\n",
      "('gjjcore8', 17605.024923249086) [0. 1. 0. 0. 0. 0. 0. 0.]\n",
      "('gjjha1', 26155.029134933153) [1. 0. 0. 0. 0. 0. 0. 0.]\n",
      "('gjjcore9', 22257.042313150563) [0. 0. 0. 1. 0. 0. 0. 0.]\n",
      "('gjjcore3', 27440.028250432013) [0. 0. 0. 0. 0. 1. 0. 0.]\n",
      "('gjjha3', 36210.02488874992) [1. 0. 0. 0. 0. 0. 0. 0.]\n",
      "('gjjcore1', 1261.3357005993525) [0. 0. 1. 0. 0. 0. 0. 0.]\n",
      "('gjjbps1', 29876.029000631966) [0. 0. 0. 0. 1. 0. 0. 0.]\n",
      "('gjjha3', 24366.041857735316) [0. 0. 0. 0. 0. 0. 0. 1.]\n",
      "('gjjcore6', 38156.02460621596) [1. 0. 0. 0. 0. 0. 0. 0.]\n",
      "('gjjcore8', 25023.025878365836) [0. 0. 0. 0. 1. 0. 0. 0.]\n",
      "('gjjcore3', 29750.041196115813) [0. 0. 0. 0. 0. 0. 0. 1.]\n",
      "('gjjcore1', 3456.03934306701) [0. 0. 1. 0. 0. 0. 0. 0.]\n",
      "('gjjcore9', 22780.02558089892) [0. 0. 0. 0. 0. 0. 1. 0.]\n",
      "('gjjcore4', 28822.024850034715) [0. 1. 0. 0. 0. 0. 0. 0.]\n",
      "('gjjcore6', 19636.024687381585) [1. 0. 0. 0. 0. 0. 0. 0.]\n",
      "('gjjcore9', 36427.024579250814) [1. 0. 0. 0. 0. 0. 0. 0.]\n",
      "('gjjcore3', 28737.042301734287) [0. 0. 0. 1. 0. 0. 0. 0.]\n",
      "('gjjcore6', 29352.041926848888) [0. 0. 0. 0. 0. 0. 0. 1.]\n",
      "('gjjcore7', 24494.042086100577) [0. 0. 0. 1. 0. 0. 0. 0.]\n",
      "('gjjredis1', 1243.0593096494674) [0. 0. 0. 0. 0. 0. 0. 1.]\n",
      "('gjjap3', 1386.0577716827393) [0. 0. 0. 0. 0. 0. 0. 1.]\n",
      "('gjjha2', 22542.024749982356) [1. 0. 0. 0. 0. 0. 0. 0.]\n",
      "('gjjcore1', 1617.0529972990355) [0. 0. 0. 0. 0. 1. 0. 0.]\n",
      "('gjjcore1', 27158.02502588431) [0. 1. 0. 0. 0. 0. 0. 0.]\n",
      "('gjjcore7', 765.0377621014912) [0. 1. 0. 0. 0. 0. 0. 0.]\n",
      "('gjjcore6', 18553.04175503254) [0. 0. 0. 0. 0. 0. 0. 1.]\n",
      "('gjjcore9', 38063.04154860179) [0. 0. 0. 0. 0. 0. 0. 1.]\n",
      "('gjjcore9', 19399.024866433938) [1. 0. 0. 0. 0. 0. 0. 0.]\n",
      "('gjjcore1', 22093.024238399663) [0. 0. 0. 0. 1. 0. 0. 0.]\n",
      "('gjjha1', 26272.026417851448) [1. 0. 0. 0. 0. 0. 0. 0.]\n",
      "('gjjcore8', 38024.041154698534) [0. 0. 0. 0. 0. 0. 0. 1.]\n",
      "('gjjha3', 23071.024829550584) [1. 0. 0. 0. 0. 0. 0. 0.]\n",
      "('gjjha2', 24309.0245132486) [0. 1. 0. 0. 0. 0. 0. 0.]\n",
      "('gjjcore9', 715.0375577847163) [0. 1. 0. 0. 0. 0. 0. 0.]\n",
      "('gjjcore6', 24858.024827818077) [0. 1. 0. 0. 0. 0. 0. 0.]\n",
      "('gjjcore3', 1470.0574525515237) [0. 0. 0. 1. 0. 0. 0. 0.]\n",
      "('gjjcore5', 23089.024843283496) [1. 0. 0. 0. 0. 0. 0. 0.]\n",
      "('gjjcore4', 37539.02483263413) [1. 0. 0. 0. 0. 0. 0. 0.]\n",
      "('gjjuaap1', 37955.02445815007) [0. 1. 0. 0. 0. 0. 0. 0.]\n",
      "('gjjcore4', 25408.024473349255) [1. 0. 0. 0. 0. 0. 0. 0.]\n",
      "('gjjcore9', 1485.3453172008196) [0. 0. 1. 0. 0. 0. 0. 0.]\n",
      "('gjjbps1', 22664.024493781726) [0. 1. 0. 0. 0. 0. 0. 0.]\n",
      "('gjjcore4', 904.0375315348307) [0. 1. 0. 0. 0. 0. 0. 0.]\n",
      "('gjjcore7', 19564.024578217664) [0. 1. 0. 0. 0. 0. 0. 0.]\n",
      "('gjjcore7', 28265.02464591662) [0. 1. 0. 0. 0. 0. 0. 0.]\n",
      "('gjjcore9', 24908.02482868433) [0. 0. 0. 0. 0. 0. 1. 0.]\n",
      "('gjjcore8', 1665.0547748843828) [0. 0. 0. 0. 0. 0. 0. 1.]\n",
      "('gjjcore9', 36499.02466293176) [0. 1. 0. 0. 0. 0. 0. 0.]\n",
      "('gjjcore5', 19765.02449111541) [0. 1. 0. 0. 0. 0. 0. 0.]\n",
      "('gjjcore2', 1112.361169632276) [0. 0. 0. 0. 0. 0. 1. 0.]\n",
      "('gjjcore9', 24055.025839149952) [0. 0. 0. 0. 0. 1. 0. 0.]\n",
      "('gjjcore8', 22053.024431916077) [1. 0. 0. 0. 0. 0. 0. 0.]\n",
      "('gjjha2', 26853.024724217255) [1. 0. 0. 0. 0. 0. 0. 0.]\n",
      "('gjjbps1', 22836.041291701793) [0. 0. 0. 0. 0. 0. 0. 1.]\n",
      "('gjjha2', 23387.024701635044) [1. 0. 0. 0. 0. 0. 0. 0.]\n",
      "('gjjha1', 19792.027742950122) [1. 0. 0. 0. 0. 0. 0. 0.]\n",
      "('gjjcore2', 838.3033010005951) [0. 0. 0. 0. 0. 0. 1. 0.]\n",
      "('gjjcore1', 3393.0463845650356) [0. 0. 0. 0. 1. 0. 0. 0.]\n",
      "('gjjcore5', 24091.024337450664) [1. 0. 0. 0. 0. 0. 0. 0.]\n",
      "('gjjha2', 3469.0375516176223) [0. 1. 0. 0. 0. 0. 0. 0.]\n",
      "('gjjcore8', 36676.025820215546) [0. 0. 0. 0. 1. 0. 0. 0.]\n",
      "('gjjcore6', 19425.02480463187) [0. 0. 0. 0. 0. 0. 1. 0.]\n",
      "('gjjbps1', 22407.0245846351) [1. 0. 0. 0. 0. 0. 0. 0.]\n",
      "('gjjcore3', 28155.02492648363) [1. 0. 0. 0. 0. 0. 0. 0.]\n",
      "('gjjcore3', 22622.024933131535) [1. 0. 0. 0. 0. 0. 0. 0.]\n",
      "('gjjcore5', 22652.02469391823) [1. 0. 0. 0. 0. 0. 0. 0.]\n",
      "('gjjcore7', 19205.041427866618) [0. 0. 0. 0. 0. 0. 0. 1.]\n",
      "('gjjha3', 28428.041552917162) [0. 0. 0. 1. 0. 0. 0. 0.]\n",
      "('gjjcore7', 24023.024426265558) [0. 1. 0. 0. 0. 0. 0. 0.]\n",
      "('gjjcore1', 27730.02458886703) [1. 0. 0. 0. 0. 0. 0. 0.]\n",
      "('gjjcore6', 29076.024678667385) [0. 1. 0. 0. 0. 0. 0. 0.]\n",
      "('gjjha1', 26937.044474716982) [0. 0. 0. 0. 0. 0. 0. 1.]\n",
      "('gjjcore5', 693.037663201491) [1. 0. 0. 0. 0. 0. 0. 0.]\n",
      "('gjjcore1', 36748.02431336641) [0. 1. 0. 0. 0. 0. 0. 0.]\n",
      "('gjjcore9', 36002.04187148412) [0. 0. 0. 0. 0. 0. 0. 1.]\n",
      "('gjjcore7', 37888.0244663159) [1. 0. 0. 0. 0. 0. 0. 0.]\n",
      "('gjjcore4', 1592.0385036667187) [0. 0. 1. 0. 0. 0. 0. 0.]\n",
      "('gjjcore4', 26484.02470633189) [0. 1. 0. 0. 0. 0. 0. 0.]\n",
      "('gjjcore7', 18367.024551033974) [0. 1. 0. 0. 0. 0. 0. 0.]\n",
      "('gjjuaap1', 26732.02459203402) [1. 0. 0. 0. 0. 0. 0. 0.]\n",
      "('gjjha2', 38747.04083160162) [0. 0. 0. 0. 1. 0. 0. 0.]\n",
      "('gjjcore5', 23138.025006814798) [1. 0. 0. 0. 0. 0. 0. 0.]\n",
      "('gjjbps1', 17624.02450704972) [0. 1. 0. 0. 0. 0. 0. 0.]\n",
      "('gjjcore2', 19594.024899601936) [0. 1. 0. 0. 0. 0. 0. 0.]\n",
      "('gjjcore6', 29237.024520949522) [1. 0. 0. 0. 0. 0. 0. 0.]\n",
      "('gjjcore7', 23469.024716567994) [0. 0. 0. 0. 0. 0. 1. 0.]\n",
      "('gjjha3', 38293.02457571824) [0. 1. 0. 0. 0. 0. 0. 0.]\n",
      "('gjjcore7', 19924.02462538481) [1. 0. 0. 0. 0. 0. 0. 0.]\n",
      "('gjjcore2', 22909.042766416074) [0. 0. 0. 0. 0. 0. 0. 1.]\n",
      "('gjjbps1', 1310.038910750548) [0. 0. 0. 0. 0. 1. 0. 0.]\n",
      "('gjjbps1', 27546.041460867724) [0. 0. 0. 1. 0. 0. 0. 0.]\n",
      "('gjjcore9', 20124.024485631784) [0. 1. 0. 0. 0. 0. 0. 0.]\n",
      "('gjjha1', 19037.044179983935) [0. 0. 0. 1. 0. 0. 0. 0.]\n",
      "('gjjcore8', 17425.02472261588) [0. 1. 0. 0. 0. 0. 0. 0.]\n",
      "('gjjap2', 3439.0398011167845) [1. 0. 0. 0. 0. 0. 0. 0.]\n",
      "('gjjha1', 1455.056605998675) [0. 0. 0. 1. 0. 0. 0. 0.]\n",
      "('gjjcore7', 28418.02490384976) [1. 0. 0. 0. 0. 0. 0. 0.]\n",
      "('gjjcore7', 29631.024410684902) [0. 1. 0. 0. 0. 0. 0. 0.]\n",
      "('gjjcore3', 27142.024971632163) [1. 0. 0. 0. 0. 0. 0. 0.]\n",
      "('gjjha1', 23774.025806248188) [1. 0. 0. 0. 0. 0. 0. 0.]\n",
      "('gjjha1', 27846.025596264997) [0. 1. 0. 0. 0. 0. 0. 0.]\n",
      "('gjjha3', 1817.0374442656835) [1. 0. 0. 0. 0. 0. 0. 0.]\n",
      "('gjjha2', 25565.026392249267) [1. 0. 0. 0. 0. 0. 0. 0.]\n",
      "('gjjcore7', 36293.0417696317) [0. 0. 0. 1. 0. 0. 0. 0.]\n",
      "('gjjcore9', 23557.024466832478) [1. 0. 0. 0. 0. 0. 0. 0.]\n",
      "('gjjcore4', 36403.026367815335) [0. 0. 0. 0. 1. 0. 0. 0.]\n",
      "('gjjcore4', 25452.026736648877) [0. 0. 0. 0. 1. 0. 0. 0.]\n",
      "('gjjcore5', 38108.02447181543) [1. 0. 0. 0. 0. 0. 0. 0.]\n",
      "('gjjcore7', 38540.026062500474) [0. 0. 0. 0. 1. 0. 0. 0.]\n",
      "('gjjcore1', 1683.047276631991) [1. 0. 0. 0. 0. 0. 0. 0.]\n",
      "('gjjcore6', 26556.026824267705) [0. 0. 0. 0. 1. 0. 0. 0.]\n",
      "('gjjcore5', 36929.02445891698) [1. 0. 0. 0. 0. 0. 0. 0.]\n",
      "('gjjcore9', 21775.024640051524) [0. 0. 1. 0. 0. 0. 0. 0.]\n",
      "('gjjcore3', 724.0376443147659) [0. 0. 1. 0. 0. 0. 0. 0.]\n",
      "('gjjcore4', 1366.3473361849785) [0. 0. 1. 0. 0. 0. 0. 0.]\n",
      "('gjjcore7', 24530.024688200156) [0. 0. 0. 0. 0. 0. 1. 0.]\n",
      "('gjjcore9', 28845.024818217753) [1. 0. 0. 0. 0. 0. 0. 0.]\n",
      "('gjjcore9', 23281.02474499941) [0. 0. 0. 0. 0. 0. 1. 0.]\n",
      "('gjjcore9', 23879.02559800148) [0. 0. 0. 0. 1. 0. 0. 0.]\n",
      "('gjjcore4', 27613.02600351572) [0. 0. 0. 0. 0. 1. 0. 0.]\n",
      "('gjjcore5', 25049.024337601662) [0. 1. 0. 0. 0. 0. 0. 0.]\n",
      "('gjjha1', 23361.025899398326) [1. 0. 0. 0. 0. 0. 0. 0.]\n",
      "('gjjcore8', 27569.024629501502) [0. 1. 0. 0. 0. 0. 0. 0.]\n",
      "('gjjha2', 36589.02469666799) [1. 0. 0. 0. 0. 0. 0. 0.]\n"
     ]
    }
   ],
   "source": [
    "for x,y in dataset:\n",
    "    print(x,y)"
   ],
   "metadata": {
    "collapsed": false,
    "pycharm": {
     "name": "#%%\n"
    }
   }
  },
  {
   "cell_type": "code",
   "execution_count": 82,
   "outputs": [
    {
     "data": {
      "text/plain": "701"
     },
     "execution_count": 82,
     "metadata": {},
     "output_type": "execute_result"
    }
   ],
   "source": [
    "dataset = dataset+valid+test\n",
    "len(dataset)"
   ],
   "metadata": {
    "collapsed": false,
    "pycharm": {
     "name": "#%%\n"
    }
   }
  },
  {
   "cell_type": "code",
   "execution_count": 74,
   "outputs": [
    {
     "name": "stdout",
     "output_type": "stream",
     "text": [
      "max is  675\n"
     ]
    },
    {
     "data": {
      "text/plain": "[<matplotlib.lines.Line2D at 0x7f0a44c28610>]"
     },
     "execution_count": 74,
     "metadata": {},
     "output_type": "execute_result"
    },
    {
     "data": {
      "text/plain": "<Figure size 432x288 with 1 Axes>",
      "image/png": "[encoded data removed]"
     },
     "metadata": {
      "needs_background": "light"
     },
     "output_type": "display_data"
    }
   ],
   "source": [
    "max = 0\n",
    "freq = np.zeros((2152,))\n",
    "for x,y in dataset:\n",
    "    x = int(x[1])\n",
    "    a = model.get_kpi_at_time(data, x, 10)\n",
    "    b = model.get_kpi_at_time(data, x-10, 20)\n",
    "    cnt = 0\n",
    "    for i in range(2152):\n",
    "        p = stats.ks_2samp(a[:,i], b[:,i])[1]\n",
    "        if p < 0.05:\n",
    "            # print(p)\n",
    "            freq[i] += 1\n",
    "            cnt+= 1\n",
    "    if max < cnt:\n",
    "        max = cnt\n",
    "print(\"max is \", max)\n",
    "plt.plot(freq)"
   ],
   "metadata": {
    "collapsed": false,
    "pycharm": {
     "name": "#%%\n"
    }
   }
  },
  {
   "cell_type": "code",
   "execution_count": 61,
   "outputs": [
    {
     "data": {
      "text/plain": "(array([1298.,  242.,   97.,  197.,   69.,   37.,   47.,   31.,   44.,\n          90.]),\n array([  0. ,  23.2,  46.4,  69.6,  92.8, 116. , 139.2, 162.4, 185.6,\n        208.8, 232. ]),\n <BarContainer object of 10 artists>)"
     },
     "execution_count": 61,
     "metadata": {},
     "output_type": "execute_result"
    },
    {
     "data": {
      "text/plain": "<Figure size 432x288 with 1 Axes>",
      "image/png": "[encoded data removed]"
     },
     "metadata": {
      "needs_background": "light"
     },
     "output_type": "display_data"
    }
   ],
   "source": [
    "plt.hist(freq)"
   ],
   "metadata": {
    "collapsed": false,
    "pycharm": {
     "name": "#%%\n"
    }
   }
  },
  {
   "cell_type": "code",
   "execution_count": 76,
   "outputs": [],
   "source": [
    "freq_id = np.argsort(freq)"
   ],
   "metadata": {
    "collapsed": false,
    "pycharm": {
     "name": "#%%\n"
    }
   }
  },
  {
   "cell_type": "code",
   "execution_count": 78,
   "outputs": [
    {
     "data": {
      "text/plain": "572"
     },
     "execution_count": 78,
     "metadata": {},
     "output_type": "execute_result"
    }
   ],
   "source": [
    "freq_id[-1]"
   ],
   "metadata": {
    "collapsed": false,
    "pycharm": {
     "name": "#%%\n"
    }
   }
  },
  {
   "cell_type": "code",
   "execution_count": 80,
   "outputs": [
    {
     "data": {
      "text/plain": "388.0"
     },
     "execution_count": 80,
     "metadata": {},
     "output_type": "execute_result"
    }
   ],
   "source": [
    "freq[572]"
   ],
   "metadata": {
    "collapsed": false,
    "pycharm": {
     "name": "#%%\n"
    }
   }
  },
  {
   "cell_type": "code",
   "execution_count": null,
   "outputs": [],
   "source": [],
   "metadata": {
    "collapsed": false,
    "pycharm": {
     "name": "#%%\n"
    }
   }
  }
 ],
 "metadata": {
  "kernelspec": {
   "display_name": "Python 3",
   "language": "python",
   "name": "python3"
  },
  "language_info": {
   "codemirror_mode": {
    "name": "ipython",
    "version": 2
   },
   "file_extension": ".py",
   "mimetype": "text/x-python",
   "name": "python",
   "nbconvert_exporter": "python",
   "pygments_lexer": "ipython2",
   "version": "2.7.6"
  }
 },
 "nbformat": 4,
 "nbformat_minor": 0
}