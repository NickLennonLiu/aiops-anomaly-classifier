{
 "cells": [
  {
   "cell_type": "code",
   "execution_count": 26,
   "metadata": {
    "collapsed": true
   },
   "outputs": [],
   "source": [
    "import torch\n",
    "import torch.nn as nn\n",
    "import numpy as np\n",
    "import scipy.stats as stats\n",
    "import matplotlib.pyplot as plt\n",
    "import importlib\n",
    "import src.params as params\n",
    "import src.model as model\n",
    "import src.main as main\n",
    "import src.dataloader as dataloader\n",
    "importlib.reload(dataloader)\n",
    "importlib.reload(model)\n",
    "import torch.nn.functional as F"
   ]
  },
  {
   "cell_type": "code",
   "execution_count": 27,
   "outputs": [
    {
     "name": "stdout",
     "output_type": "stream",
     "text": [
      "Loading preprocessed data from /home/junetheriver/code/aiops/workdir/system_a/data_pre.pkl\n",
      "Loaded ground truth from gt_pre.pkl\n"
     ]
    }
   ],
   "source": [
    "args = params.get_args(\"../config/system_a.yaml\")\n",
    "data,kpi_name = main.get_cmdb(args)\n",
    "train,valid,test = main.get_dataset(args)"
   ],
   "metadata": {
    "collapsed": false,
    "pycharm": {
     "name": "#%%\n"
    }
   }
  },
  {
   "cell_type": "code",
   "execution_count": 28,
   "outputs": [],
   "source": [
    "basic = model.Basic(args, data, kpi_name)"
   ],
   "metadata": {
    "collapsed": false,
    "pycharm": {
     "name": "#%%\n"
    }
   }
  },
  {
   "cell_type": "code",
   "execution_count": 33,
   "outputs": [
    {
     "data": {
      "text/plain": "torch.Size([121, 2152])"
     },
     "execution_count": 33,
     "metadata": {},
     "output_type": "execute_result"
    }
   ],
   "source": [
    "basic.data[basic.cmdb_idx['gjjredis1']].shape"
   ],
   "metadata": {
    "collapsed": false,
    "pycharm": {
     "name": "#%%\n"
    }
   }
  },
  {
   "cell_type": "code",
   "execution_count": 34,
   "outputs": [],
   "source": [
    "cmdb_set = set([ck[0] for ck in kpi_name])"
   ],
   "metadata": {
    "collapsed": false,
    "pycharm": {
     "name": "#%%\n"
    }
   }
  },
  {
   "cell_type": "code",
   "execution_count": 35,
   "outputs": [
    {
     "name": "stdout",
     "output_type": "stream",
     "text": [
      "torch.Size([121, 2152])\n",
      "torch.Size([121, 2152])\n",
      "torch.Size([121, 2152])\n",
      "torch.Size([121, 2152])\n",
      "torch.Size([121, 2152])\n",
      "torch.Size([121, 2152])\n",
      "torch.Size([121, 2152])\n",
      "torch.Size([121, 2152])\n",
      "torch.Size([121, 2152])\n",
      "torch.Size([121, 2152])\n",
      "torch.Size([121, 2152])\n",
      "torch.Size([121, 2152])\n",
      "torch.Size([121, 2152])\n",
      "torch.Size([121, 2152])\n",
      "torch.Size([121, 2152])\n",
      "torch.Size([121, 2152])\n",
      "torch.Size([121, 2152])\n",
      "torch.Size([121, 2152])\n",
      "torch.Size([121, 2152])\n",
      "torch.Size([121, 2152])\n",
      "torch.Size([121, 2152])\n",
      "torch.Size([121, 2152])\n",
      "torch.Size([121, 2152])\n",
      "torch.Size([121, 2152])\n",
      "torch.Size([121, 2152])\n",
      "torch.Size([121, 2152])\n",
      "torch.Size([121, 2152])\n",
      "torch.Size([121, 2152])\n",
      "torch.Size([121, 2152])\n",
      "torch.Size([121, 2152])\n",
      "torch.Size([121, 2152])\n",
      "torch.Size([121, 2152])\n",
      "torch.Size([121, 2152])\n",
      "torch.Size([121, 2152])\n",
      "torch.Size([121, 2152])\n"
     ]
    }
   ],
   "source": [
    "for cmdb in cmdb_set:\n",
    "    print(basic.data[basic.cmdb_idx[cmdb]].shape)"
   ],
   "metadata": {
    "collapsed": false,
    "pycharm": {
     "name": "#%%\n"
    }
   }
  },
  {
   "cell_type": "code",
   "execution_count": null,
   "outputs": [],
   "source": [],
   "metadata": {
    "collapsed": false,
    "pycharm": {
     "name": "#%%\n"
    }
   }
  }
 ],
 "metadata": {
  "kernelspec": {
   "display_name": "Python 3",
   "language": "python",
   "name": "python3"
  },
  "language_info": {
   "codemirror_mode": {
    "name": "ipython",
    "version": 2
   },
   "file_extension": ".py",
   "mimetype": "text/x-python",
   "name": "python",
   "nbconvert_exporter": "python",
   "pygments_lexer": "ipython2",
   "version": "2.7.6"
  }
 },
 "nbformat": 4,
 "nbformat_minor": 0
}