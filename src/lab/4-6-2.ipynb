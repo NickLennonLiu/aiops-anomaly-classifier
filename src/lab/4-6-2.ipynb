{
 "cells": [
  {
   "cell_type": "code",
   "execution_count": 5,
   "outputs": [
    {
     "data": {
      "text/plain": "<module 'src.net' from '/home/junetheriver/code/aiops/src/net.py'>"
     },
     "execution_count": 5,
     "metadata": {},
     "output_type": "execute_result"
    }
   ],
   "source": [
    "import src.net as net\n",
    "import sklearn.metrics\n",
    "import torch.nn as nn\n",
    "import numpy as np\n",
    "import scipy.stats as stats\n",
    "import matplotlib.pyplot as plt\n",
    "import importlib\n",
    "import src.params as params\n",
    "import src.main as main\n",
    "import src.dataloader as dataloader\n",
    "import torch.nn.functional as F\n",
    "import pandas as pd\n",
    "from pandas import DataFrame\n",
    "from sklearn.preprocessing import StandardScaler\n",
    "import src.preprocess as preprocess\n",
    "from copy import copy\n",
    "import src.feature_extraction as feature_extraction\n",
    "import sys, os, torch\n",
    "import re\n",
    "importlib.reload(dataloader)\n",
    "importlib.reload(preprocess)\n",
    "importlib.reload(feature_extraction)\n",
    "importlib.reload(net)"
   ],
   "metadata": {
    "collapsed": false,
    "pycharm": {
     "name": "#%%\n"
    }
   }
  },
  {
   "cell_type": "code",
   "execution_count": 16,
   "outputs": [],
   "source": [
    "args = params.get_args()"
   ],
   "metadata": {
    "collapsed": false,
    "pycharm": {
     "name": "#%%\n"
    }
   }
  },
  {
   "cell_type": "code",
   "execution_count": 38,
   "outputs": [],
   "source": [
    "gt = dataloader.load_gt(args)"
   ],
   "metadata": {
    "collapsed": false,
    "pycharm": {
     "name": "#%%\n"
    }
   }
  },
  {
   "cell_type": "code",
   "execution_count": 39,
   "outputs": [],
   "source": [
    "gt = preprocess.preprocess_gt(gt)"
   ],
   "metadata": {
    "collapsed": false,
    "pycharm": {
     "name": "#%%\n"
    }
   }
  },
  {
   "cell_type": "code",
   "execution_count": 43,
   "outputs": [
    {
     "data": {
      "text/plain": "(1614281582.259792, 1616634061.622639)"
     },
     "execution_count": 43,
     "metadata": {},
     "output_type": "execute_result"
    }
   ],
   "source": [
    "gt.time.min(), gt.time.max()"
   ],
   "metadata": {
    "collapsed": false,
    "pycharm": {
     "name": "#%%\n"
    }
   }
  },
  {
   "cell_type": "code",
   "execution_count": 11,
   "outputs": [
    {
     "name": "stdout",
     "output_type": "stream",
     "text": [
      "          timestamp         value\n",
      "count  2.016000e+04  20160.000000\n",
      "mean   1.615466e+09      0.042151\n",
      "std    7.252418e+05      0.924960\n",
      "min    1.614269e+09      0.000000\n",
      "25%    1.614571e+09      0.000000\n",
      "50%    1.615651e+09      0.000000\n",
      "75%    1.615954e+09      0.000000\n",
      "max    1.616602e+09     55.660000\n"
     ]
    }
   ],
   "source": [
    "from pandas import DataFrame\n",
    "import os\n",
    "import pandas\n",
    "dt_path = \"../../data/system-a\"\n",
    "df = DataFrame()\n",
    "for file in os.listdir(dt_path)[:1]:\n",
    "    cmdb_id, kpi_name = os.path.splitext(file)[0].split('##')\n",
    "    a = pandas.read_csv(os.path.join(dt_path, file), index_col=0)\n",
    "    print(a.describe())"
   ],
   "metadata": {
    "collapsed": false,
    "pycharm": {
     "name": "#%%\n"
    }
   }
  },
  {
   "cell_type": "code",
   "execution_count": 19,
   "outputs": [
    {
     "name": "stdout",
     "output_type": "stream",
     "text": [
      "35\n",
      "216\n",
      "Loaded with 3261 cmdb_kpi tuples\n"
     ]
    }
   ],
   "source": [
    "importlib.reload(dataloader)\n",
    "index = dataloader.get_multiIndex(args)"
   ],
   "metadata": {
    "collapsed": false,
    "pycharm": {
     "name": "#%%\n"
    }
   }
  },
  {
   "cell_type": "code",
   "execution_count": 18,
   "outputs": [],
   "source": [
    "args = params.get_args(\"../config/system_a.yaml\")"
   ],
   "metadata": {
    "collapsed": false,
    "pycharm": {
     "name": "#%%\n"
    }
   }
  },
  {
   "cell_type": "code",
   "execution_count": 10,
   "outputs": [
    {
     "data": {
      "text/plain": "MultiIndex([(  'gjjcore8',   'system.net.tcp.retrans_segs'),\n            (  'gjjcore9',        'system.tcp.retrans_pct'),\n            ( 'gjjredis1',                 'redis.cpu.sys'),\n            (  'gjjcore7',             'system.mem.shared'),\n            (    'gjjha3',               'system.run_time'),\n            (    'gjjha1',                 'system.io.w_s'),\n            (   'gjjbps1',                 'system.load.1'),\n            (  'gjjcore7',               'system.run_time'),\n            (  'gjjcore5',         'system.fs.inodes.free'),\n            (  'gjjcore9',        'system.udp.connect.num'),\n            ...\n            ('gjjvincio2',         'system.fs.inodes.free'),\n            (    'gjjha3',               'system.mem.free'),\n            (    'gjjha3',             'system.swap.total'),\n            (  'gjjcore6',           'system.tcp.last_ack'),\n            (  'gjjuaap1',          'system.swap.used_pct'),\n            (  'gjjcore6',          'system.tcp.fin_wait1'),\n            ('gjjvincio2',               'system.mem.used'),\n            ('gjjvincio2',            'system.load.norm.5'),\n            (  'gjjuaap1',          'weblogic.can_connect'),\n            (  'gjjcore9', 'weblogic.jdbc.active_conn_avg')],\n           length=3261)"
     },
     "execution_count": 10,
     "metadata": {},
     "output_type": "execute_result"
    }
   ],
   "source": [
    "index"
   ],
   "metadata": {
    "collapsed": false,
    "pycharm": {
     "name": "#%%\n"
    }
   }
  },
  {
   "cell_type": "code",
   "execution_count": 61,
   "outputs": [],
   "source": [
    "df = DataFrame(index=index, columns=[\"timestamp\", \"value\"])"
   ],
   "metadata": {
    "collapsed": false,
    "pycharm": {
     "name": "#%%\n"
    }
   }
  },
  {
   "cell_type": "code",
   "execution_count": 56,
   "outputs": [
    {
     "data": {
      "text/plain": "array([('gjjcore8', 'system.net.tcp.retrans_segs'),\n       ('gjjcore9', 'system.tcp.retrans_pct'),\n       ('gjjredis1', 'redis.cpu.sys'), ...,\n       ('gjjvincio2', 'system.load.norm.5'),\n       ('gjjuaap1', 'weblogic.can_connect'),\n       ('gjjcore9', 'weblogic.jdbc.active_conn_avg')], dtype=object)"
     },
     "execution_count": 56,
     "metadata": {},
     "output_type": "execute_result"
    }
   ],
   "source": [
    "df.index.values"
   ],
   "metadata": {
    "collapsed": false,
    "pycharm": {
     "name": "#%%\n"
    }
   }
  },
  {
   "cell_type": "code",
   "execution_count": 47,
   "outputs": [
    {
     "data": {
      "text/plain": "<module 'src.dataloader' from '/home/junetheriver/code/aiops/src/dataloader.py'>"
     },
     "execution_count": 47,
     "metadata": {},
     "output_type": "execute_result"
    }
   ],
   "source": [
    "importlib.reload(dataloader)"
   ],
   "metadata": {
    "collapsed": false,
    "pycharm": {
     "name": "#%%\n"
    }
   }
  },
  {
   "cell_type": "code",
   "execution_count": 48,
   "outputs": [
    {
     "data": {
      "text/plain": "('gjjcore8', 'system.net.tcp.retrans_segs')"
     },
     "execution_count": 48,
     "metadata": {},
     "output_type": "execute_result"
    }
   ],
   "source": [
    "index[0]"
   ],
   "metadata": {
    "collapsed": false,
    "pycharm": {
     "name": "#%%\n"
    }
   }
  },
  {
   "cell_type": "code",
   "execution_count": 53,
   "outputs": [],
   "source": [
    "df1 = dataloader.get_cmdb_kpi(args, *index[0]).drop(columns=['cmdb_id', 'kpi_name'])"
   ],
   "metadata": {
    "collapsed": false,
    "pycharm": {
     "name": "#%%\n"
    }
   }
  },
  {
   "cell_type": "code",
   "execution_count": 63,
   "outputs": [
    {
     "data": {
      "text/plain": "313        1614268800\n4479       1614268860\n7920       1614268920\n8636       1614268980\n11357      1614269040\n              ...    \n4021286    1616601300\n4022661    1616601360\n4024995    1616601420\n4028640    1616601480\n4032063    1616601540\nName: timestamp, Length: 20160, dtype: int64"
     },
     "execution_count": 63,
     "metadata": {},
     "output_type": "execute_result"
    }
   ],
   "source": [
    "df1.timestamp"
   ],
   "metadata": {
    "collapsed": false,
    "pycharm": {
     "name": "#%%\n"
    }
   }
  },
  {
   "cell_type": "code",
   "execution_count": 65,
   "outputs": [
    {
     "data": {
      "text/plain": "38879.0"
     },
     "execution_count": 65,
     "metadata": {},
     "output_type": "execute_result"
    }
   ],
   "source": [
    "(1616601540 - 1614268800) / 60"
   ],
   "metadata": {
    "collapsed": false,
    "pycharm": {
     "name": "#%%\n"
    }
   }
  },
  {
   "cell_type": "code",
   "execution_count": 66,
   "outputs": [
    {
     "data": {
      "text/plain": "MultiIndex([(  'gjjcore8',   'system.net.tcp.retrans_segs'),\n            (  'gjjcore9',        'system.tcp.retrans_pct'),\n            ( 'gjjredis1',                 'redis.cpu.sys'),\n            (  'gjjcore7',             'system.mem.shared'),\n            (    'gjjha3',               'system.run_time'),\n            (    'gjjha1',                 'system.io.w_s'),\n            (   'gjjbps1',                 'system.load.1'),\n            (  'gjjcore7',               'system.run_time'),\n            (  'gjjcore5',         'system.fs.inodes.free'),\n            (  'gjjcore9',        'system.udp.connect.num'),\n            ...\n            ('gjjvincio2',         'system.fs.inodes.free'),\n            (    'gjjha3',               'system.mem.free'),\n            (    'gjjha3',             'system.swap.total'),\n            (  'gjjcore6',           'system.tcp.last_ack'),\n            (  'gjjuaap1',          'system.swap.used_pct'),\n            (  'gjjcore6',          'system.tcp.fin_wait1'),\n            ('gjjvincio2',               'system.mem.used'),\n            ('gjjvincio2',            'system.load.norm.5'),\n            (  'gjjuaap1',          'weblogic.can_connect'),\n            (  'gjjcore9', 'weblogic.jdbc.active_conn_avg')],\n           length=3261)"
     },
     "execution_count": 66,
     "metadata": {},
     "output_type": "execute_result"
    }
   ],
   "source": [
    "index"
   ],
   "metadata": {
    "collapsed": false,
    "pycharm": {
     "name": "#%%\n"
    }
   }
  },
  {
   "cell_type": "code",
   "execution_count": 67,
   "outputs": [
    {
     "data": {
      "text/plain": "3261"
     },
     "execution_count": 67,
     "metadata": {},
     "output_type": "execute_result"
    }
   ],
   "source": [
    "len(index)"
   ],
   "metadata": {
    "collapsed": false,
    "pycharm": {
     "name": "#%%\n"
    }
   }
  },
  {
   "cell_type": "code",
   "execution_count": null,
   "outputs": [],
   "source": [],
   "metadata": {
    "collapsed": false,
    "pycharm": {
     "name": "#%%\n"
    }
   }
  }
 ],
 "metadata": {
  "kernelspec": {
   "display_name": "Python 3",
   "language": "python",
   "name": "python3"
  },
  "language_info": {
   "codemirror_mode": {
    "name": "ipython",
    "version": 2
   },
   "file_extension": ".py",
   "mimetype": "text/x-python",
   "name": "python",
   "nbconvert_exporter": "python",
   "pygments_lexer": "ipython2",
   "version": "2.7.6"
  }
 },
 "nbformat": 4,
 "nbformat_minor": 0
}