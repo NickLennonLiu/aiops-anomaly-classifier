{
 "cells": [
  {
   "cell_type": "code",
   "execution_count": 2,
   "metadata": {
    "collapsed": true
   },
   "outputs": [
    {
     "data": {
      "text/plain": "<module 'src.net' from '/home/junetheriver/code/aiops/src/net.py'>"
     },
     "execution_count": 2,
     "metadata": {},
     "output_type": "execute_result"
    }
   ],
   "source": [
    "import src.net as net\n",
    "import sklearn.metrics\n",
    "import torch.nn as nn\n",
    "import numpy as np\n",
    "import scipy.stats as stats\n",
    "import matplotlib.pyplot as plt\n",
    "import importlib\n",
    "import src.params as params\n",
    "import src.main as main\n",
    "import src.dataloader as dataloader\n",
    "import torch.nn.functional as F\n",
    "import pandas as pd\n",
    "from pandas import DataFrame\n",
    "from sklearn.preprocessing import StandardScaler\n",
    "import src.preprocess as preprocess\n",
    "from copy import copy\n",
    "import src.feature_extraction as feature_extraction\n",
    "import sys, os, torch\n",
    "import re\n",
    "importlib.reload(dataloader)\n",
    "importlib.reload(preprocess)\n",
    "importlib.reload(feature_extraction)\n",
    "importlib.reload(net)"
   ]
  },
  {
   "cell_type": "code",
   "execution_count": 3,
   "outputs": [],
   "source": [
    "args = params.get_args(\"../config/system_a.yaml\")"
   ],
   "metadata": {
    "collapsed": false,
    "pycharm": {
     "name": "#%%\n"
    }
   }
  },
  {
   "cell_type": "code",
   "execution_count": 4,
   "outputs": [],
   "source": [
    "cause_id = {\"网络丢包\": 0,\n",
    "             \"网络延迟\": 1,\n",
    "             \"JVM CPU负载高\": 2,\n",
    "             \"CPU使用率高\": 3,\n",
    "             \"磁盘空间使用率过高\": 4,\n",
    "             \"内存使用率过高\": 5,\n",
    "             \"JVM OOM Heap\": 6,\n",
    "             \"磁盘IO读使用率过高\": 7}\n",
    "cause_literal = list(cause_id.keys())"
   ],
   "metadata": {
    "collapsed": false,
    "pycharm": {
     "name": "#%%\n"
    }
   }
  },
  {
   "cell_type": "code",
   "execution_count": 5,
   "outputs": [
    {
     "name": "stdout",
     "output_type": "stream",
     "text": [
      "网络丢包 {'icmp', 'net', 'tcp', 'udp', 'ping'}\n",
      "网络延迟 {'icmp', 'net', 'tcp', 'udp', 'ping'}\n",
      "JVM CPU负载高 {'cpu', 'system.load', 'weblogic'}\n",
      "CPU使用率高 {'cpu', 'system.load'}\n",
      "磁盘空间使用率过高 {'disk'}\n",
      "内存使用率过高 {'mem'}\n",
      "JVM OOM Heap {'mem', 'weblogic'}\n",
      "磁盘IO读使用率过高 {'system.io'}\n"
     ]
    }
   ],
   "source": [
    "from itertools import islice\n",
    "import openpyxl\n",
    "\n",
    "# 对root cause进行统计\n",
    "gt_path = \"../../data/groundtruth_a.xlsx\"\n",
    "wb = openpyxl.load_workbook(gt_path)\n",
    "ws = wb.active\n",
    "data = ws.values\n",
    "cols = next(data)[1:]\n",
    "data = list(data)\n",
    "idx = [r[0] for r in data]\n",
    "data = (islice(r, 1, None) for r in data)\n",
    "df = DataFrame(data, index=idx, columns=cols)\n",
    "df[\"故障内容\"] = df[\"故障内容\"].map(lambda x: cause_id[x])\n",
    "df['time'] = pd.to_datetime(df.time)\n",
    "df['time'] = df['time'] - pd.Timedelta('08:00:00')\n",
    "root_cause = {i:set() for i in range(8)}\n",
    "rt_list = list(zip(df.根因, df.故障内容))\n",
    "for rt, label in rt_list:\n",
    "    for key_metric in rt.split(';\\n'):\n",
    "        root_cause[label].add(key_metric)\n",
    "for key, item in root_cause.items():\n",
    "    print(cause_literal[key], item)"
   ],
   "metadata": {
    "collapsed": false,
    "pycharm": {
     "name": "#%%\n"
    }
   }
  },
  {
   "cell_type": "code",
   "execution_count": 6,
   "outputs": [
    {
     "name": "stdout",
     "output_type": "stream",
     "text": [
      "Loading preprocessed data from /home/junetheriver/code/aiops/workdir/system_a/data_pre.pkl\n",
      "clen 35, klen 121\n"
     ]
    }
   ],
   "source": [
    "from src.feature_extraction import get_cmdb_idx\n",
    "from src.dataloader import get_cmdb, load_dt_raw\n",
    "\n",
    "data, cmdb_kpi = get_cmdb(args)\n",
    "cmdb_idx_dt = get_cmdb_idx(cmdb_kpi, len(cmdb_kpi))\n",
    "cmdb_list = list(set([ck[0] for ck in cmdb_kpi]))\n",
    "kpi_list = list(set([ck[1] for ck in cmdb_kpi]))\n",
    "print(f\"clen {len(cmdb_list)}, klen {len(kpi_list)}\")"
   ],
   "metadata": {
    "collapsed": false,
    "pycharm": {
     "name": "#%%\n"
    }
   }
  },
  {
   "cell_type": "code",
   "execution_count": 9,
   "outputs": [],
   "source": [
    "from src.net import get_kpi_at_time"
   ],
   "metadata": {
    "collapsed": false,
    "pycharm": {
     "name": "#%%\n"
    }
   }
  },
  {
   "cell_type": "code",
   "execution_count": 32,
   "outputs": [
    {
     "name": "stdout",
     "output_type": "stream",
     "text": [
      "网络丢包\n",
      "网络延迟\n",
      "JVM CPU负载高\n",
      "CPU使用率高\n",
      "磁盘空间使用率过高\n",
      "内存使用率过高\n",
      "JVM OOM Heap\n",
      "磁盘IO读使用率过高\n"
     ]
    }
   ],
   "source": [
    "cmdb = \"gjjcore8\"\n",
    "df_cmdb = df[df.cmdb_id == cmdb]\n",
    "metric_dir = \"../../data/system-a\"\n",
    "fig_save_dir = \"../../temp/kpi_analysis/2/\"\n",
    "start_time = 1614268800\n",
    "\n",
    "for key, item in root_cause.items():\n",
    "    anomaly_type = cause_literal[key]\n",
    "    print(anomaly_type)\n",
    "    occur_time = df_cmdb[df_cmdb[\"故障内容\"] == key].iloc[0].time.timestamp()\n",
    "\n",
    "    plt.figure(figsize=(16,8))\n",
    "    legends = []\n",
    "    stds = []\n",
    "    for cause in item:\n",
    "        for filename in os.listdir(metric_dir):\n",
    "            if cause in filename and cmdb in filename:\n",
    "                kpi = '.'.join(filename.split('##')[1].split('.')[:-1])\n",
    "                try:\n",
    "                    idx = cmdb_kpi.index((cmdb, kpi))\n",
    "                except ValueError:\n",
    "                    continue\n",
    "                ts = get_kpi_at_time(data, idx, int((occur_time - start_time)/60)-10, 20)\n",
    "                if ts.std() < 1e-2:\n",
    "                    continue\n",
    "                stds.append(ts.std())\n",
    "                plt.plot(ts)\n",
    "                legends.append(kpi)\n",
    "    plt.legend(legends)\n",
    "    plt.savefig(os.path.join(fig_save_dir, f\"{anomaly_type}.jpg\"))\n",
    "    # plt.show()\n",
    "    plt.close()"
   ],
   "metadata": {
    "collapsed": false,
    "pycharm": {
     "name": "#%%\n"
    }
   }
  },
  {
   "cell_type": "code",
   "execution_count": 34,
   "outputs": [
    {
     "data": {
      "text/plain": "array([[-0.04553757,  1.58086478, -1.65105347, ..., -0.12286924,\n         0.39053664,  0.29803004],\n       [-0.04553757,  1.58086478, -1.65097055, ..., -0.12286924,\n         0.38576372, -0.74699019],\n       [-0.04553757,  1.58086478, -1.65088745, ..., -0.12286924,\n         0.38815018, -0.74699019],\n       ...,\n       [-0.04553757, -0.63256517,  1.56607529, ..., -0.12286924,\n        -0.20369221,  2.38807049],\n       [-0.04553757, -0.63256517,  1.56615873, ..., -0.12286924,\n        -0.20369221,  1.34305026],\n       [-0.04553757, -0.63256517,  1.5662401 , ..., -0.12286924,\n        -0.20369221,  1.34305026]])"
     },
     "execution_count": 34,
     "metadata": {},
     "output_type": "execute_result"
    }
   ],
   "source": [
    "data"
   ],
   "metadata": {
    "collapsed": false,
    "pycharm": {
     "name": "#%%\n"
    }
   }
  },
  {
   "cell_type": "code",
   "execution_count": 8,
   "outputs": [
    {
     "name": "stdout",
     "output_type": "stream",
     "text": [
      "(38880, 2152)\n"
     ]
    }
   ],
   "source": [
    "import numpy as np\n",
    "print(data.shape)\n",
    "data_filled = np.nan_to_num(data)\n",
    "co = np.corrcoef(data_filled, rowvar=False)"
   ],
   "metadata": {
    "collapsed": false,
    "pycharm": {
     "name": "#%%\n"
    }
   }
  },
  {
   "cell_type": "code",
   "execution_count": 20,
   "outputs": [
    {
     "data": {
      "text/plain": "(2152, 2152)"
     },
     "execution_count": 20,
     "metadata": {},
     "output_type": "execute_result"
    }
   ],
   "source": [
    "co.shape"
   ],
   "metadata": {
    "collapsed": false,
    "pycharm": {
     "name": "#%%\n"
    }
   }
  },
  {
   "cell_type": "code",
   "execution_count": 26,
   "outputs": [
    {
     "data": {
      "text/plain": "<matplotlib.image.AxesImage at 0x7f824d523df0>"
     },
     "execution_count": 26,
     "metadata": {},
     "output_type": "execute_result"
    },
    {
     "data": {
      "text/plain": "<Figure size 576x576 with 1 Axes>",
      "image/png": "[encoded data removed]"
     },
     "metadata": {
      "needs_background": "light"
     },
     "output_type": "display_data"
    }
   ],
   "source": [
    "plt.figure(figsize=(8,8))\n",
    "plt.imshow(co[:100,:100], cmap='gray')"
   ],
   "metadata": {
    "collapsed": false,
    "pycharm": {
     "name": "#%%\n"
    }
   }
  },
  {
   "cell_type": "code",
   "execution_count": 13,
   "outputs": [
    {
     "name": "stdout",
     "output_type": "stream",
     "text": [
      "121\n"
     ]
    },
    {
     "name": "stderr",
     "output_type": "stream",
     "text": [
      "/home/junetheriver/code/ml/bayes/venv/lib/python3.9/site-packages/numpy/lib/function_base.py:2642: RuntimeWarning: invalid value encountered in true_divide\n",
      "  c /= stddev[:, None]\n",
      "/home/junetheriver/code/ml/bayes/venv/lib/python3.9/site-packages/numpy/lib/function_base.py:2643: RuntimeWarning: invalid value encountered in true_divide\n",
      "  c /= stddev[None, :]\n"
     ]
    }
   ],
   "source": [
    "importlib.reload(net)\n",
    "data_pad = np.pad(data_filled, [(0,0), (0,1)])\n",
    "print(len(kpi_list))\n",
    "uniset_glob = {kpi:set() for kpi in kpi_list}\n",
    "for cmdb in cmdb_list:\n",
    "    cmdb_data = net.get_cmdb_all(data_pad, cmdb_idx_dt[cmdb])\n",
    "    cmdb_data = np.nan_to_num(cmdb_data)\n",
    "    co = np.corrcoef(cmdb_data, rowvar=False)\n",
    "    co = np.abs(np.nan_to_num(co))\n",
    "\n",
    "    uniset = {kpi:kpi for kpi in kpi_list}\n",
    "\n",
    "    for ki, kpi in enumerate(kpi_list):\n",
    "        for kj in range(ki+1, len(kpi_list)):\n",
    "            if co[ki][kj] > 0.9:\n",
    "                uniset[kpi_list[kj]] = uniset[kpi]\n",
    "\n",
    "    for kpi in kpi_list:\n",
    "        uniset_glob[kpi].add(uniset[kpi])\n",
    "    plt.figure(figsize=(8,8))\n",
    "    plt.imshow(co, cmap='gray')\n",
    "    plt.title(cmdb)\n",
    "    plt.savefig(\"../../temp/corr/\" + f\"{cmdb}.jpg\")\n",
    "    plt.close()"
   ],
   "metadata": {
    "collapsed": false,
    "pycharm": {
     "name": "#%%\n"
    }
   }
  },
  {
   "cell_type": "code",
   "execution_count": 94,
   "outputs": [
    {
     "name": "stdout",
     "output_type": "stream",
     "text": [
      "{'object.alert'}\n",
      "{'oracle.patchrate.fsfi'}\n",
      "{'redis.replication.backlog_histlen'}\n",
      "{'oracle.tablespace.used.percentage'}\n",
      "{'haproxy.backend.connect.time'}\n",
      "{'oracle.lock.wait.second'}\n",
      "{'oracle.asm.disk.group.free', 'oracle.asm.disk.group.usage_pct'}\n",
      "{'redis.mem.used'}\n",
      "{'system.net.udp.no_ports'}\n",
      "{'weblogic.webapp.current.sessions'}\n",
      "{'oracle.process.freeable.pct_usage'}\n",
      "{'haproxy.backend_up'}\n",
      "{'oracle.can_connect'}\n",
      "{'weblogic.basic.heap.size'}\n",
      "{'oracle.sga.sharepool'}\n",
      "{'system.tcp.fin_wait2'}\n",
      "{'weblogic.can_connect'}\n",
      "{'system.mem.shared'}\n",
      "{'redis.net.clients', 'redis.clients.blocked'}\n",
      "{'weblogic.jdbc.active_conn_avg'}\n",
      "{'oracle.ratio.dictionarycacheratio'}\n",
      "{'oracle.process.total.pga.inuse', 'oracle.ratio.cacheratio', 'oracle.pga.maximum.pga.allocated', 'oracle.redo.willing.gets', 'oracle.process.total.pga.allocated', 'oracle.process.useable.total', 'oracle.pga.cache.hit.percentage', 'oracle.redo.willing.misses'}\n",
      "{'weblogic.basic.active.sockets.connections'}\n",
      "{'haproxy.frontend.errors.req_rate'}\n",
      "{'system.net.udp.in_errors', 'system.net.udp.rcv_buf_errors'}\n",
      "{'oracle.base.current.connections'}\n",
      "{'system.cpu.user', 'haproxy.frontend.requests.rate', 'system.load.1', 'system.net.packets_out.count', 'haproxy.backend.bytes.out_rate', 'system.tcp.time_wait', 'system.net.packets_in.count', 'system.net.tcp.out_segs', 'system.mem.free', 'system.load.norm.1', 'haproxy.backend.response.2xx', 'system.load.norm.15', 'system.net.bytes_rcvd', 'haproxy.frontend.bytes.out_rate', 'system.load.15', 'system.load.norm.5', 'system.load.5'}\n",
      "{'system.cpu.user', 'haproxy.frontend.response.2xx', 'system.tcp.established', 'system.net.packets_out.count', 'system.mem.real.used', 'system.tcp.retrans_pct', 'haproxy.backend.bytes.in_rate', 'system.mem.free', 'system.mem.slab', 'haproxy.frontend.session.rate', 'system.run_time', 'system.mem.cached', 'system.mem.usable', 'system.load.norm.15', 'haproxy.backend.session.rate', 'system.cpu.pct_usage', 'haproxy.frontend.bytes.out_rate', 'system.udp.connect.num', 'system.fs.inodes.used', 'system.mem.real.pct_useage', 'system.disk.free', 'system.tcp.close_wait'}\n",
      "{'system.io.util', 'system.io.w_await', 'system.io.avg_rq_sz', 'system.cpu.iowait', 'system.io.avg_q_sz', 'system.io.rkb_s', 'system.io.await', 'system.io.wkb_s', 'system.io.r_s', 'system.io.wrqm_s', 'system.io.r_await', 'system.io.w_s', 'system.io.svctm'}\n",
      "{'system.cpu.user', 'system.net.packets_out.count', 'system.net.tcp.in_segs', 'system.tcp.retrans_pct', 'system.net.tcp.out_segs', 'weblogic.webapp.session_max', 'system.mem.free', 'weblogic.servlet.execute.time_avg', 'system.mem.cached', 'system.run_time', 'system.udp.in_rcvbuf_errors_pct', 'system.disk.pct_usage', 'weblogic.webapp.sessions', 'system.disk.free', 'system.net.tcp.retrans_segs'}\n",
      "{'oracle.ratio.librarycacheratio.hit_rate', 'oracle.ratio.reloadstopingratio'}\n",
      "{'system.io.rrqm_s'}\n",
      "{'weblogic.basic.can_used.heap.size'}\n",
      "{'system.tcp.established', 'system.tcp.retrans_pct', 'redis.replication.master_repl_offset', 'system.tcp.listen', 'system.mem.free', 'system.mem.used', 'system.tcp.last_ack', 'system.fs.inodes.in_use', 'system.run_time', 'system.mem.cached', 'system.mem.usable', 'system.mem.pct_usage', 'system.fs.inodes.used', 'system.disk.free', 'system.tcp.fin_wait1', 'system.net.tcp.retrans_segs', 'system.tcp.close_wait', 'system.os.nofile.current'}\n",
      "{'system.cpu.user', 'system.net.udp.in_errors', 'system.net.packets_out.count', 'system.tcp.established', 'system.tcp.retrans_pct', 'system.mem.free', 'system.disk.used', 'system.mem.buffered', 'system.net.udp.in_datagrams', 'system.mem.cached', 'system.mem.usable', 'system.net.bytes_sent', 'system.tcp.syn_recv', 'haproxy.frontend.bytes.out_rate', 'system.net.udp.out_datagrams', 'system.disk.free', 'haproxy.frontend.bytes.in_rate', 'system.net.tcp.retrans_segs', 'system.tcp.close_wait'}\n",
      "{'haproxy.frontend.response.4xx'}\n",
      "{'system.tcp.syn_sent'}\n",
      "{'system.cpu.user', 'system.load.1', 'system.tcp.established', 'system.net.packets_out.count', 'system.tcp.retrans_pct', 'system.net.packets_in.count', 'system.load.1.pct', 'system.mem.free', 'weblogic.cluster.status', 'system.cpu.i_dle', 'haproxy.backend.session.current', 'system.mem.usable', 'system.load.norm.15', 'haproxy.backend.session.pct', 'haproxy.backend.session.time', 'system.cpu.pct_usage', 'haproxy.backend.response.time', 'haproxy.frontend.bytes.out_rate', 'system.fs.inodes.used', 'system.disk.free', 'haproxy.frontend.session.current', 'system.fs.inodes.free', 'haproxy.frontend.session.pct', 'system.tcp.close_wait', 'system.os.nofile.current'}\n"
     ]
    }
   ],
   "source": [
    "cluster = []\n",
    "for kpi in kpi_list:\n",
    "    c = uniset_glob[kpi]\n",
    "    if c in cluster:\n",
    "        continue\n",
    "    done = False\n",
    "    for cc in cluster:\n",
    "        if c.intersection(cc):\n",
    "            cluster.remove(cc)\n",
    "            cluster.append(c.union(cc))\n",
    "            done = True\n",
    "            break\n",
    "    if not done:\n",
    "        cluster.append(c)\n",
    "for c in cluster:\n",
    "    print(c)"
   ],
   "metadata": {
    "collapsed": false,
    "pycharm": {
     "name": "#%%\n"
    }
   }
  },
  {
   "cell_type": "code",
   "execution_count": 108,
   "outputs": [
    {
     "name": "stdout",
     "output_type": "stream",
     "text": [
      "[6 2 2 2 2 2 2 5 2 2 8 7 6 2 2 9 7 2 2 9 7 1 2 2 7 6 7 0 4 2 2 5 2 5 2 2 2\n",
      " 1 2 7 4 2 2 1 1 2 4 2 5 6 2 2 2 2 2 2 3 6 6 4 2 2 1 2 8 8 3 2 9 2 8 2 2 2\n",
      " 6 2 2 2 2 2 2 2 2 2 2 2 2 2 2 2 1 2 8 0 5 2 2 2 5 2 2 2 2 2 8 2 8 4 2 1 6\n",
      " 4 3 2 2 2 1 4 2 2 2]\n",
      "[3 1 1 1 1 4 1 4 1 1 8 0 5 1 1 3 0 1 1 3 0 4 1 1 0 5 2 1 6 2 1 4 1 4 1 1 7\n",
      " 2 1 1 1 1 1 2 2 7 6 1 2 3 1 1 1 1 1 1 0 3 3 6 1 1 2 1 8 8 0 1 3 1 9 5 1 1\n",
      " 3 1 4 1 1 1 1 1 1 1 1 7 1 1 1 1 2 1 1 1 2 1 1 1 4 1 1 1 1 1 2 1 9 6 5 2 5\n",
      " 6 0 1 1 1 2 6 1 1 1]\n",
      "[2 1 1 1 1 1 1 1 1 1 6 7 8 1 1 2 7 1 1 2 7 1 1 1 7 1 1 4 5 3 1 3 1 1 1 1 1\n",
      " 3 1 1 1 1 1 3 0 1 5 1 3 2 1 1 1 1 1 1 9 2 2 5 1 1 1 1 3 6 9 1 2 1 1 1 1 1\n",
      " 2 1 1 1 1 1 1 1 1 1 1 1 5 1 1 1 0 1 1 4 3 1 1 1 1 1 1 1 1 1 6 1 1 5 8 0 8\n",
      " 5 9 1 1 1 1 5 1 1 1]\n",
      "[6 6 6 6 9 6 1 6 1 6 6 6 6 6 6 6 6 1 1 6 6 6 6 5 6 6 6 6 6 6 6 6 6 6 6 0 6\n",
      " 6 6 6 6 1 6 6 6 6 6 0 6 6 6 6 0 6 6 6 6 6 6 6 1 1 6 1 6 6 6 6 6 6 6 6 2 6\n",
      " 6 6 6 6 6 6 6 6 6 6 6 6 6 6 4 1 6 1 6 6 6 6 0 6 6 6 6 6 6 6 6 3 6 6 6 6 6\n",
      " 6 6 4 6 6 6 6 6 6 6]\n",
      "[5 3 3 3 3 3 3 6 3 3 1 4 9 3 3 8 4 3 3 8 4 6 3 3 4 5 3 0 2 3 3 6 3 6 3 3 3\n",
      " 1 3 3 3 3 3 1 1 3 2 3 1 9 3 3 3 3 3 3 4 3 9 2 3 3 1 3 6 6 4 3 8 3 7 9 3 3\n",
      " 5 3 3 3 3 3 3 3 3 3 3 3 3 3 3 3 1 3 3 0 1 3 3 3 6 3 3 3 3 3 1 3 7 2 5 1 9\n",
      " 2 4 3 3 3 1 2 3 3 3]\n",
      "[5 8 8 6 8 8 8 8 8 0 3 1 5 8 8 4 1 8 8 4 1 6 8 8 1 2 1 1 2 0 9 7 8 7 8 8 8\n",
      " 6 0 0 2 8 0 6 9 8 2 8 7 5 8 8 8 8 9 8 1 5 5 2 8 8 6 8 8 7 1 8 4 8 0 5 8 8\n",
      " 2 8 8 8 0 8 8 8 0 8 8 8 0 0 8 8 9 8 0 1 7 8 8 8 7 8 8 8 9 8 3 8 0 2 2 9 5\n",
      " 2 1 8 0 8 6 2 8 0 8]\n",
      "[2 6 6 3 6 6 6 8 6 1 4 0 2 6 6 6 0 6 6 6 0 8 6 6 0 2 1 6 9 1 6 7 6 7 6 6 6\n",
      " 3 6 1 6 6 6 3 3 6 9 6 4 2 6 6 6 6 6 6 0 1 2 9 6 6 3 6 7 7 0 6 6 6 5 2 6 6\n",
      " 2 6 6 6 6 6 6 6 1 1 6 6 1 6 6 6 3 6 6 6 4 6 6 6 7 6 6 6 6 1 3 6 5 9 2 3 2\n",
      " 9 0 6 6 6 3 9 6 6 6]\n",
      "[9 6 6 0 6 6 6 1 6 1 4 2 9 6 6 1 2 6 6 5 2 1 6 6 2 5 7 2 2 2 7 8 6 8 6 6 6\n",
      " 0 6 1 6 6 1 0 0 6 2 6 4 9 6 6 6 6 7 6 2 1 9 2 6 6 0 6 1 6 2 6 1 6 3 9 6 6\n",
      " 9 1 6 6 6 6 6 6 1 6 6 6 1 6 6 6 0 6 2 2 4 6 6 6 8 6 6 6 7 6 4 6 3 2 9 0 9\n",
      " 2 2 6 1 1 0 2 6 1 6]\n",
      "[2 7 7 5 7 7 7 1 7 1 7 0 1 7 7 2 0 7 7 2 4 9 7 7 4 1 5 0 0 1 7 9 7 9 7 7 7\n",
      " 3 7 1 7 7 1 5 5 7 0 7 3 6 7 7 7 7 7 7 4 2 2 0 7 7 5 7 1 7 4 7 2 7 8 6 7 7\n",
      " 1 1 7 7 7 7 7 1 1 7 7 7 0 7 7 7 5 7 7 0 3 7 7 7 9 7 7 7 7 7 7 7 8 0 1 5 6\n",
      " 0 4 7 2 7 3 0 7 1 7]\n",
      "[8 0 0 4 0 0 0 3 0 0 4 6 8 0 0 0 6 0 0 0 1 4 0 0 1 8 0 9 7 3 0 0 0 0 3 0 0\n",
      " 3 0 0 0 0 0 3 0 0 7 0 3 8 0 0 0 0 0 0 1 0 5 7 0 0 3 0 4 4 1 0 0 0 0 5 0 0\n",
      " 8 0 0 0 0 0 0 0 0 0 2 0 0 0 0 0 7 0 0 9 3 0 0 2 4 0 2 2 0 0 4 0 0 0 8 0 8\n",
      " 7 0 0 0 0 0 0 0 0 0]\n",
      "[3 0 0 7 0 0 0 0 0 8 6 1 3 5 0 0 1 0 0 3 1 0 5 0 1 3 5 9 2 5 0 7 2 7 5 0 0\n",
      " 4 0 8 0 0 8 4 4 0 2 0 6 3 2 0 0 0 0 2 1 3 3 2 0 0 4 0 0 6 1 5 0 5 2 3 0 2\n",
      " 3 0 0 0 0 2 0 0 0 0 2 0 2 0 0 0 4 0 0 9 6 0 0 2 7 0 2 2 0 0 6 0 2 2 3 4 3\n",
      " 2 1 0 0 0 4 2 0 0 5]\n",
      "[1 0 0 6 0 0 0 0 0 0 8 2 4 0 0 1 2 0 0 1 2 9 0 0 2 0 0 2 2 0 0 5 0 5 0 0 0\n",
      " 6 0 0 0 0 0 3 3 0 2 0 6 4 0 0 0 0 0 0 2 1 1 2 0 0 3 0 0 0 2 0 1 0 7 4 0 0\n",
      " 0 0 0 0 0 0 0 0 0 0 0 0 2 0 0 0 3 0 0 2 6 0 0 0 9 0 0 0 0 0 8 0 7 2 4 3 4\n",
      " 2 2 0 1 0 6 2 0 0 0]\n",
      "[1 0 0 7 0 0 0 0 0 0 0 6 8 0 0 0 6 0 0 1 6 7 0 0 6 1 0 3 4 0 0 0 0 2 0 0 0\n",
      " 2 0 0 0 0 9 0 0 0 4 0 2 1 0 0 0 0 0 0 6 0 8 4 0 0 0 0 0 0 6 0 0 0 5 8 0 0\n",
      " 1 0 0 0 0 0 7 0 9 0 0 0 0 0 0 0 7 0 0 3 2 0 0 0 7 0 0 0 0 0 0 0 5 4 1 0 1\n",
      " 4 0 0 0 0 0 4 0 0 0]\n",
      "[5 9 9 9 9 9 9 0 9 0 7 1 5 9 9 4 1 9 9 4 1 0 9 9 1 0 0 6 3 0 2 8 9 8 9 9 9\n",
      " 2 9 9 3 9 0 2 2 9 3 9 7 5 9 9 9 0 2 9 6 5 5 3 9 9 2 9 9 7 6 9 4 9 2 5 9 9\n",
      " 0 9 9 9 9 9 9 0 0 0 9 9 0 0 9 9 2 9 0 6 7 9 9 9 8 9 9 9 0 9 7 9 2 3 0 2 5\n",
      " 3 6 9 9 9 2 3 9 0 9]\n",
      "[8 0 0 5 0 0 0 2 0 0 9 4 6 0 0 0 4 0 0 0 4 0 0 0 4 8 0 0 7 0 0 2 0 2 0 0 0\n",
      " 5 0 0 0 0 0 5 5 0 7 0 9 8 0 0 0 0 0 0 4 0 6 7 0 0 5 0 2 2 4 0 0 0 0 6 0 0\n",
      " 1 0 0 0 0 0 0 0 0 0 0 0 0 0 0 0 5 0 0 0 9 0 0 0 2 0 0 0 0 0 3 0 0 7 1 5 8\n",
      " 7 4 0 0 0 5 7 0 0 0]\n",
      "[4 0 0 1 0 0 0 3 0 0 5 7 4 0 0 0 7 0 0 0 7 0 0 0 7 0 0 2 9 0 0 3 0 3 0 0 0\n",
      " 1 0 0 0 0 6 1 1 0 9 0 4 4 0 0 0 0 3 0 8 4 4 9 0 0 1 0 5 5 8 0 0 0 0 4 0 0\n",
      " 4 0 0 0 0 0 3 0 6 0 0 0 0 0 0 0 1 0 0 2 4 0 0 0 3 0 0 0 0 0 5 0 0 9 4 1 4\n",
      " 9 8 0 0 0 1 9 0 0 0]\n",
      "[9 1 1 4 1 1 1 1 1 1 7 5 9 1 1 9 5 1 1 9 5 4 1 1 5 9 6 5 2 3 3 8 1 8 1 1 1\n",
      " 7 1 6 2 1 1 7 3 1 2 1 8 9 1 1 1 1 3 1 5 9 9 2 1 1 3 1 4 1 5 1 9 1 1 1 1 1\n",
      " 9 1 1 1 1 1 1 1 1 1 1 1 1 1 1 1 3 1 0 5 8 1 1 1 8 1 1 1 3 1 7 1 1 2 9 3 9\n",
      " 2 5 1 1 1 7 2 1 1 1]\n",
      "[1 6 6 6 6 6 6 6 6 6 7 4 1 6 6 5 4 6 6 5 4 3 6 6 4 1 7 0 9 7 6 6 6 6 6 6 6\n",
      " 2 6 7 6 6 0 7 6 6 8 6 2 1 6 6 6 6 6 6 4 0 7 9 6 6 6 6 3 2 4 6 6 6 7 1 6 6\n",
      " 1 6 6 6 6 6 6 6 6 6 6 6 0 6 6 6 2 6 6 0 2 6 6 6 3 6 6 6 6 7 7 6 7 9 1 6 1\n",
      " 9 6 6 6 6 6 8 6 0 6]\n",
      "[9 1 1 4 1 1 1 5 1 1 4 6 8 1 1 1 6 1 1 9 6 4 1 1 6 9 4 3 2 1 1 1 1 4 1 1 1\n",
      " 0 1 1 1 1 4 1 1 1 2 1 0 9 1 1 1 1 1 1 6 1 8 2 1 1 1 1 4 4 6 1 1 1 1 8 1 1\n",
      " 7 1 1 1 1 1 1 1 4 1 1 1 1 1 1 1 5 1 1 3 0 1 1 1 4 1 1 1 1 1 4 1 1 2 8 1 9\n",
      " 2 1 1 1 1 1 2 1 1 1]\n",
      "[1 2 2 0 2 2 2 2 2 2 2 8 1 2 2 4 8 2 2 4 8 0 2 2 8 1 0 6 5 0 7 3 2 3 2 2 2\n",
      " 0 2 2 5 2 2 0 0 2 5 2 3 1 2 2 2 2 2 2 6 1 1 5 2 2 7 2 2 3 6 2 4 2 2 1 2 2\n",
      " 1 2 2 2 3 2 2 2 2 2 2 2 9 2 2 2 0 2 2 6 3 2 2 2 3 2 2 2 2 2 2 2 2 5 1 0 1\n",
      " 5 6 2 2 2 0 5 2 2 2]\n",
      "[8 9 9 5 9 9 9 5 9 1 0 3 8 4 1 1 3 9 9 1 3 9 4 9 3 7 9 9 2 4 9 5 2 5 4 9 9\n",
      " 0 9 1 9 9 1 0 0 9 2 9 6 8 2 9 9 9 9 2 3 8 8 2 9 9 0 9 9 0 3 4 1 4 2 9 9 2\n",
      " 7 9 9 9 9 2 9 9 1 1 2 9 2 9 9 9 0 9 9 8 6 9 9 2 5 9 2 2 9 1 0 9 2 2 9 0 8\n",
      " 2 3 9 1 9 0 2 1 9 4]\n",
      "[3 0 0 2 0 0 0 4 0 0 0 7 3 0 0 0 7 0 0 0 5 0 0 0 5 6 0 9 1 2 0 4 0 4 0 0 0\n",
      " 2 0 0 0 0 0 2 2 0 1 0 0 3 0 0 0 0 0 0 5 0 3 1 0 0 2 0 4 4 5 0 0 0 8 3 0 0\n",
      " 6 0 0 0 0 0 0 0 0 0 0 0 0 0 0 0 2 0 0 9 0 0 0 0 4 0 0 0 0 0 2 0 8 1 6 2 3\n",
      " 1 5 0 0 0 2 1 0 0 0]\n",
      "[2 1 1 7 1 1 1 1 1 1 3 4 2 1 1 1 4 1 1 1 4 5 1 1 4 2 1 9 0 1 1 1 1 5 1 1 1\n",
      " 1 1 1 1 1 0 1 1 1 0 1 7 2 1 1 1 1 1 1 4 1 1 0 1 1 1 1 7 7 4 1 1 1 6 2 1 1\n",
      " 2 8 1 1 1 1 1 1 0 1 1 1 1 1 1 1 7 1 1 9 7 1 1 1 1 1 1 1 1 1 3 1 6 0 2 1 2\n",
      " 0 1 1 1 1 1 0 1 1 1]\n",
      "[8 4 4 1 4 4 4 5 4 4 0 2 8 4 4 4 2 4 4 4 2 4 4 4 2 7 1 9 3 1 4 5 4 5 4 4 4\n",
      " 1 4 0 4 4 0 1 1 4 3 4 0 8 4 4 4 4 4 4 2 0 6 3 4 4 1 4 5 5 2 4 4 4 0 6 4 4\n",
      " 7 0 4 4 4 4 4 4 4 4 4 4 0 4 4 4 1 4 4 9 0 4 4 4 5 4 4 4 4 0 1 4 0 3 7 1 8\n",
      " 3 2 4 4 4 1 3 4 4 4]\n",
      "[3 9 9 0 9 9 9 5 9 9 6 8 3 9 9 9 8 9 9 9 4 1 9 9 4 7 1 1 2 1 9 5 9 5 9 9 9\n",
      " 0 9 1 9 9 1 0 0 9 2 9 6 3 9 9 9 9 9 9 4 9 3 2 9 9 0 9 5 5 4 9 9 9 1 3 9 9\n",
      " 7 1 9 9 9 9 9 9 1 1 9 9 9 9 9 9 0 9 9 1 6 9 9 9 5 9 9 9 9 9 0 9 1 2 7 0 3\n",
      " 2 4 9 9 9 0 2 9 9 9]\n",
      "[5 0 0 2 0 0 0 8 0 0 0 6 3 0 0 5 6 0 0 5 6 2 0 0 6 3 2 1 4 4 2 8 0 8 0 0 0\n",
      " 2 0 0 4 0 0 2 2 0 4 0 0 3 0 0 0 0 8 0 6 5 5 4 0 0 2 0 8 8 6 0 5 0 7 3 0 0\n",
      " 3 0 0 0 0 0 0 0 0 8 0 0 0 0 0 0 2 0 0 1 0 0 0 0 8 0 0 0 8 0 0 0 7 4 9 2 3\n",
      " 4 6 0 0 0 2 4 0 0 0]\n",
      "[5 1 1 3 1 1 1 3 1 1 6 2 5 1 1 4 2 1 1 4 8 3 1 1 8 1 1 8 2 2 1 9 1 9 1 1 1\n",
      " 3 1 7 2 1 7 3 3 1 2 1 0 5 1 1 1 0 0 1 8 5 5 2 1 1 3 1 6 9 8 1 4 1 1 5 1 1\n",
      " 1 1 1 1 1 1 1 1 7 1 1 1 1 1 1 1 3 1 1 8 0 1 1 1 6 1 1 1 0 1 6 1 1 2 1 3 5\n",
      " 2 8 1 1 1 3 2 1 1 1]\n",
      "[7 0 0 6 0 0 0 0 0 0 8 5 1 0 0 7 5 0 0 7 5 4 0 0 5 0 6 2 2 0 0 9 0 9 0 0 0\n",
      " 3 0 0 0 0 0 6 6 0 2 0 3 1 0 0 0 0 0 0 5 7 7 2 0 0 6 0 0 8 5 0 7 0 0 1 0 0\n",
      " 0 0 0 0 0 0 0 0 0 0 0 0 2 0 0 0 6 0 0 2 3 0 0 0 4 0 0 0 0 0 8 0 0 2 1 6 1\n",
      " 2 5 0 7 0 3 2 0 0 0]\n",
      "[9 8 8 0 8 8 8 7 8 3 6 5 2 8 8 8 5 8 8 8 5 8 8 8 5 9 0 3 4 0 8 7 8 7 8 8 8\n",
      " 0 8 1 8 8 1 0 0 8 4 8 6 9 8 8 8 8 8 8 5 1 2 4 8 8 0 8 8 7 5 8 8 8 3 2 8 8\n",
      " 9 1 8 8 8 8 8 8 8 8 8 8 3 8 8 8 0 8 8 3 6 8 8 8 7 8 8 8 8 1 0 8 3 4 9 0 9\n",
      " 4 5 8 8 8 0 4 8 1 8]\n",
      "[2 8 8 3 8 8 8 4 8 8 3 6 5 8 8 8 6 8 8 8 6 4 8 8 6 2 1 9 3 1 8 8 8 8 8 8 8\n",
      " 3 8 1 8 8 3 1 8 8 3 8 3 2 8 8 8 8 8 8 0 1 5 3 8 8 8 8 8 3 0 8 8 8 7 5 8 8\n",
      " 2 8 8 8 8 8 8 8 3 8 8 8 1 8 8 8 1 8 8 9 3 8 8 8 4 8 8 8 8 1 3 8 7 3 5 8 2\n",
      " 3 8 8 8 8 8 3 8 1 8]\n",
      "[4 0 0 7 0 0 0 7 0 6 5 1 8 3 0 0 1 0 0 0 1 0 3 0 1 0 0 1 2 3 0 7 2 7 3 0 0\n",
      " 5 0 6 0 0 6 5 5 0 2 0 9 8 2 0 0 0 0 2 1 4 8 2 0 0 5 0 0 5 1 3 0 3 2 4 0 2\n",
      " 4 0 0 0 0 2 0 0 6 0 2 0 2 0 0 0 5 0 0 1 9 0 0 2 7 0 2 2 0 0 5 0 2 2 4 5 8\n",
      " 2 1 0 0 0 5 2 0 0 3]\n",
      "[9 7 7 4 7 7 7 1 7 2 8 5 2 7 7 2 5 7 7 9 5 1 7 7 5 9 7 2 3 1 7 7 7 8 7 7 7\n",
      " 8 7 0 7 7 8 2 7 7 3 7 8 9 7 7 7 7 7 7 5 6 9 3 7 7 7 7 7 4 5 7 7 7 2 2 7 7\n",
      " 2 7 7 7 7 7 7 7 8 7 7 7 4 7 7 7 1 7 2 2 8 7 7 7 1 7 7 7 7 7 8 7 2 3 2 7 9\n",
      " 3 7 7 2 7 8 3 7 7 7]\n",
      "[7 6 0 6 0 0 0 1 0 0 2 3 7 0 0 1 3 0 0 1 3 6 0 0 3 7 5 3 4 1 6 9 0 9 0 0 0\n",
      " 6 0 5 4 0 1 6 6 0 4 0 8 7 0 0 0 1 1 0 3 7 7 4 0 0 6 0 1 8 3 0 1 0 9 7 0 0\n",
      " 7 1 0 0 0 0 9 0 1 0 0 0 1 0 0 0 6 0 9 3 8 0 0 0 9 6 0 0 1 1 2 0 9 4 7 6 7\n",
      " 4 3 0 1 0 6 4 0 1 0]\n",
      "[8 0 0 1 0 0 0 3 0 0 1 9 5 0 0 0 9 0 0 0 9 3 0 0 9 8 6 0 1 0 0 0 0 0 0 0 0\n",
      " 1 0 6 0 0 1 0 0 0 1 0 1 4 0 0 0 0 0 0 2 0 5 1 0 0 0 0 0 1 2 0 0 0 7 5 0 0\n",
      " 5 0 0 0 0 0 0 0 1 0 0 0 0 0 0 0 0 0 0 0 1 0 0 0 3 0 0 0 0 0 1 0 7 1 5 0 4\n",
      " 1 0 0 0 0 0 1 0 0 0]\n",
      "[7 8 8 0 8 8 8 4 8 1 5 6 7 8 8 1 6 8 8 1 2 0 8 8 2 7 0 2 6 9 1 4 8 4 8 8 8\n",
      " 9 8 1 6 8 1 9 9 8 6 8 5 7 8 8 8 6 1 8 2 7 7 6 8 8 9 8 4 5 2 8 1 8 3 7 8 8\n",
      " 7 1 8 8 8 8 8 8 1 3 8 8 1 4 8 8 9 8 8 2 5 8 8 8 4 8 8 8 8 3 5 8 3 6 7 9 7\n",
      " 6 2 8 1 1 9 6 8 1 8]\n"
     ]
    }
   ],
   "source": [
    "from sklearn.cluster import KMeans, k_means, MiniBatchKMeans\n",
    "for cmdb in cmdb_list:\n",
    "    cmdb_data = net.get_cmdb_all(data_pad, cmdb_idx_dt[cmdb])\n",
    "    kmeans = MiniBatchKMeans(n_clusters=10)\n",
    "    cluster_result = kmeans.fit_predict(cmdb_data.transpose())\n",
    "    print(cluster_result)"
   ],
   "metadata": {
    "collapsed": false,
    "pycharm": {
     "name": "#%%\n"
    }
   }
  },
  {
   "cell_type": "code",
   "execution_count": 102,
   "outputs": [
    {
     "data": {
      "text/plain": "array([[ 0.35504683, -0.47829372, -0.47829372, ...,  4.52174958,\n        -0.47829372,  1.18838738],\n       [ 0.        ,  0.        ,  0.        , ...,  0.        ,\n         0.        ,  0.        ],\n       [ 0.        ,  0.        ,  0.        , ...,  0.        ,\n         0.        ,  0.        ],\n       ...,\n       [ 0.        ,  0.        ,  0.        , ...,  0.        ,\n         0.        ,  0.        ],\n       [-0.00995333, -0.00995333, -0.00995333, ..., -0.00995333,\n        -0.00995333, -0.00995333],\n       [ 0.        ,  0.        ,  0.        , ...,  0.        ,\n         0.        ,  0.        ]])"
     },
     "execution_count": 102,
     "metadata": {},
     "output_type": "execute_result"
    }
   ],
   "source": [],
   "metadata": {
    "collapsed": false,
    "pycharm": {
     "name": "#%%\n"
    }
   }
  },
  {
   "cell_type": "code",
   "execution_count": 2,
   "outputs": [
    {
     "data": {
      "text/plain": "False"
     },
     "execution_count": 2,
     "metadata": {},
     "output_type": "execute_result"
    }
   ],
   "source": [
    "import numpy as np\n",
    "a = np.array([[0,0,0,0], [np.nan, np.nan, np.nan, np.nan]]).transpose()\n",
    "np.isnan(a[:,[0,1]]).all()"
   ],
   "metadata": {
    "collapsed": false,
    "pycharm": {
     "name": "#%%\n"
    }
   }
  },
  {
   "cell_type": "code",
   "execution_count": 10,
   "outputs": [
    {
     "data": {
      "text/plain": "<matplotlib.image.AxesImage at 0x7efd143c08e0>"
     },
     "execution_count": 10,
     "metadata": {},
     "output_type": "execute_result"
    },
    {
     "data": {
      "text/plain": "<Figure size 432x288 with 1 Axes>",
      "image/png": "[encoded data removed]"
     },
     "metadata": {
      "needs_background": "light"
     },
     "output_type": "display_data"
    }
   ],
   "source": [
    "black = np.zeros((8,8))\n",
    "plt.imshow(black,cmap='gray')"
   ],
   "metadata": {
    "collapsed": false,
    "pycharm": {
     "name": "#%%\n"
    }
   }
  },
  {
   "cell_type": "code",
   "execution_count": null,
   "outputs": [],
   "source": [],
   "metadata": {
    "collapsed": false,
    "pycharm": {
     "name": "#%%\n"
    }
   }
  }
 ],
 "metadata": {
  "kernelspec": {
   "display_name": "Python 3",
   "language": "python",
   "name": "python3"
  },
  "language_info": {
   "codemirror_mode": {
    "name": "ipython",
    "version": 2
   },
   "file_extension": ".py",
   "mimetype": "text/x-python",
   "name": "python",
   "nbconvert_exporter": "python",
   "pygments_lexer": "ipython2",
   "version": "2.7.6"
  }
 },
 "nbformat": 4,
 "nbformat_minor": 0
}